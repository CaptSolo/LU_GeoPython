{
 "cells": [
  {
   "cell_type": "markdown",
   "metadata": {},
   "source": [
    "# Python Dictionaries and Sets\n"
   ]
  },
  {
   "cell_type": "markdown",
   "metadata": {},
   "source": [
    "## Dictionaries\n",
    "\n",
    "* Dictionaries are collections of Key - Value pairs\n",
    "  * `key: value`\n",
    "* also known as associative array\n",
    "* unordered\n",
    "* keys unique in one dictionary\n",
    "* useful for storing, extracting information\n",
    "\n",
    "https://automatetheboringstuff.com/2e/chapter5/\n",
    "\n",
    "https://realpython.com/python-dicts/"
   ]
  },
  {
   "cell_type": "code",
   "execution_count": null,
   "metadata": {},
   "outputs": [],
   "source": [
    "# Let's create an empty dictionary\n",
    "\n",
    "empty_dict = {}\n",
    "len(empty_dict)\n",
    "\n",
    "# Note: can also use dict() instead of {}"
   ]
  },
  {
   "cell_type": "code",
   "execution_count": null,
   "metadata": {},
   "outputs": [],
   "source": [
    "print(empty_dict)"
   ]
  },
  {
   "cell_type": "code",
   "execution_count": null,
   "metadata": {},
   "outputs": [],
   "source": [
    "type(empty_dict)"
   ]
  },
  {
   "cell_type": "code",
   "execution_count": null,
   "metadata": {},
   "outputs": [],
   "source": [
    "# A dictionary with some content:\n",
    "\n",
    "tel = {'jack': 4098, 'sape': 4139}\n",
    "print(tel)"
   ]
  },
  {
   "cell_type": "code",
   "execution_count": null,
   "metadata": {},
   "outputs": [],
   "source": [
    "# add a new key-value pair (key = \"guido\", value = 4127)\n",
    "\n",
    "tel['guido'] = 4127\n",
    "print(tel)"
   ]
  },
  {
   "cell_type": "code",
   "execution_count": null,
   "metadata": {},
   "outputs": [],
   "source": [
    "# reading a value by key\n",
    "print(tel['guido'])"
   ]
  },
  {
   "cell_type": "code",
   "execution_count": null,
   "metadata": {},
   "outputs": [],
   "source": [
    "# if you assign a new value to a key, the old value gets overwritten\n",
    "\n",
    "tel['guido'] = 1337\n",
    "print(tel)"
   ]
  },
  {
   "cell_type": "code",
   "execution_count": null,
   "metadata": {},
   "outputs": [],
   "source": [
    "# len() lets us get the length of an collection (e.g. a dictionary)\n",
    "\n",
    "len(tel)"
   ]
  },
  {
   "cell_type": "markdown",
   "metadata": {},
   "source": [
    "---\n",
    "\n",
    "Accessing dictionary keys and values:"
   ]
  },
  {
   "cell_type": "code",
   "execution_count": null,
   "metadata": {},
   "outputs": [],
   "source": [
    "print(tel.keys())"
   ]
  },
  {
   "cell_type": "code",
   "execution_count": null,
   "metadata": {},
   "outputs": [],
   "source": [
    "print(tel.values())"
   ]
  },
  {
   "cell_type": "code",
   "execution_count": null,
   "metadata": {},
   "outputs": [],
   "source": [
    "print(tel.items())"
   ]
  },
  {
   "cell_type": "code",
   "execution_count": null,
   "metadata": {},
   "outputs": [],
   "source": [
    "# get a value from key in dictionary\n",
    "# very fast even in large dictionaries! O(1)\n",
    "tel['jack']"
   ]
  },
  {
   "cell_type": "code",
   "execution_count": null,
   "metadata": {},
   "outputs": [],
   "source": [
    "# getting value for non-existing key will fail (and stop your program from executing)\n",
    "\n",
    "tel['peteris']"
   ]
  },
  {
   "cell_type": "code",
   "execution_count": null,
   "metadata": {},
   "outputs": [],
   "source": [
    "# we can use Python's error handling to do something in case of such errors\n",
    "\n",
    "try:\n",
    "    tel['peteris']\n",
    "except KeyError:\n",
    "    print(\"Element not found!\")"
   ]
  },
  {
   "cell_type": "markdown",
   "metadata": {},
   "source": [
    "---\n",
    "\n",
    "We can also:\n",
    "- check if a key is in a dictionary before retrieving it\n",
    "- or use the `.get()` method for handling situations when key is not in the dictionary"
   ]
  },
  {
   "cell_type": "code",
   "execution_count": null,
   "metadata": {},
   "outputs": [],
   "source": [
    "# check for key in our dictionary\n",
    "'guido' in tel"
   ]
  },
  {
   "cell_type": "code",
   "execution_count": null,
   "metadata": {},
   "outputs": [],
   "source": [
    "'peteris' in tel"
   ]
  },
  {
   "cell_type": "code",
   "execution_count": null,
   "metadata": {},
   "outputs": [],
   "source": [
    "key = 'peteris'\n",
    "\n",
    "# we can write code that checks if a key is in a dict:\n",
    "if key in tel:\n",
    "    print(tel[key])\n",
    "else:\n",
    "    print(\"No such key!\")"
   ]
  },
  {
   "cell_type": "code",
   "execution_count": null,
   "metadata": {},
   "outputs": [],
   "source": [
    "help(dict.get)"
   ]
  },
  {
   "cell_type": "code",
   "execution_count": null,
   "metadata": {},
   "outputs": [],
   "source": [
    "# get() method lets us return a default value when key does not exist:\n",
    "key = 'peteris'\n",
    "value = tel.get(key, \"No such key!\")\n",
    "print(value)\n",
    "\n",
    "print()\n",
    "\n",
    "key = 'guido'\n",
    "value = tel.get(key, \"No such key!\")\n",
    "print(value)"
   ]
  },
  {
   "cell_type": "code",
   "execution_count": null,
   "metadata": {},
   "outputs": [],
   "source": [
    "# remove key value pair\n",
    "del tel['sape']"
   ]
  },
  {
   "cell_type": "code",
   "execution_count": null,
   "metadata": {},
   "outputs": [],
   "source": [
    "tel['sape']"
   ]
  },
  {
   "cell_type": "code",
   "execution_count": null,
   "metadata": {},
   "outputs": [],
   "source": [
    "tel.keys()"
   ]
  },
  {
   "cell_type": "markdown",
   "metadata": {},
   "source": [
    "---\n",
    "\n",
    "Looking for values in a dictionary:"
   ]
  },
  {
   "cell_type": "code",
   "execution_count": null,
   "metadata": {},
   "outputs": [],
   "source": [
    "tel.values()"
   ]
  },
  {
   "cell_type": "code",
   "execution_count": null,
   "metadata": {},
   "outputs": [],
   "source": [
    "# Note: this will be slower as we are going through all the key:value pairs\n",
    "\n",
    "1337 in tel.values()"
   ]
  },
  {
   "cell_type": "code",
   "execution_count": null,
   "metadata": {},
   "outputs": [],
   "source": [
    "112 in tel.values()"
   ]
  },
  {
   "cell_type": "code",
   "execution_count": null,
   "metadata": {},
   "outputs": [],
   "source": [
    "# a small program that allows adding key:value pairs\n",
    "# to the dictionary only if the key is not in the dictionary\n",
    "\n",
    "key = 'minipolice'\n",
    "value = 91100\n",
    "\n",
    "if key not in tel:\n",
    "    tel[key] = value\n",
    "    print(f\"Added new key {key} value {value} pair\")\n",
    "else:\n",
    "    print(\"You already have key\", key, \"value\", tel[key])"
   ]
  },
  {
   "cell_type": "markdown",
   "metadata": {},
   "source": [
    "---\n",
    "#### Uzdevums: \n",
    "\n",
    "Izveidot funkciju, kas izdrukā vārdnīcas atslēgu un vērtību pārus, sakārtojot tos atslēgu vērtību secībā.\n",
    "* Te var noderēt funkcija sorted()"
   ]
  },
  {
   "cell_type": "code",
   "execution_count": null,
   "metadata": {},
   "outputs": [],
   "source": [
    "my_dict1 = {\"jack\": 4011, \"zoe\": 4086, \"andy\": 4519, \"uldis\": 4123, \"ādams\": 4529}"
   ]
  },
  {
   "cell_type": "code",
   "execution_count": null,
   "metadata": {},
   "outputs": [],
   "source": []
  },
  {
   "cell_type": "markdown",
   "metadata": {},
   "source": [
    "---\n",
    "\n",
    "### Working with Dictionaries\n",
    "\n",
    "* `items()` = a list of dictionary items (key-value pairs)\n",
    "* `keys()` = a list of keys\n",
    "* `values()` = a list of values\n",
    "\n",
    "* `get()` = read a value corresponding to the key\n",
    "* `pop()` = remove the element specified by the key and return the corresponding value\n",
    "* `update()` = update a dictionary with elements from another dictionary\n"
   ]
  },
  {
   "cell_type": "code",
   "execution_count": null,
   "metadata": {},
   "outputs": [],
   "source": [
    "help(dict)"
   ]
  },
  {
   "cell_type": "code",
   "execution_count": null,
   "metadata": {},
   "outputs": [],
   "source": [
    "tel"
   ]
  },
  {
   "cell_type": "code",
   "execution_count": null,
   "metadata": {},
   "outputs": [],
   "source": [
    "# return the corresponding value AND delete it from dictionary\n",
    "print(tel.pop(\"jack\"))"
   ]
  },
  {
   "cell_type": "code",
   "execution_count": null,
   "metadata": {},
   "outputs": [],
   "source": [
    "tel"
   ]
  },
  {
   "cell_type": "code",
   "execution_count": null,
   "metadata": {},
   "outputs": [],
   "source": [
    "# we get a key error if we try to pop() it again\n",
    "tel.pop(\"jack\")"
   ]
  },
  {
   "cell_type": "code",
   "execution_count": null,
   "metadata": {},
   "outputs": [],
   "source": [
    "# just getting the value does not delete it from dict\n",
    "tel[\"guido\"]"
   ]
  },
  {
   "cell_type": "code",
   "execution_count": null,
   "metadata": {},
   "outputs": [],
   "source": [
    "more_tel = {\"dana\": 4345, \"xeny\": 4678, \"guido\": 4444}"
   ]
  },
  {
   "cell_type": "code",
   "execution_count": null,
   "metadata": {},
   "outputs": [],
   "source": [
    "# update dictionary 1 with elements from dictionary 2\n",
    "tel.update(more_tel)"
   ]
  },
  {
   "cell_type": "code",
   "execution_count": null,
   "metadata": {},
   "outputs": [],
   "source": [
    "tel"
   ]
  },
  {
   "cell_type": "markdown",
   "metadata": {},
   "source": [
    "---\n",
    "\n",
    "### Dictionary keys and values can be of various types\n",
    "\n",
    "Questions:\n",
    "- what data types can be dictionary keys?\n",
    "- ... what about types of values?\n",
    "- can a dict contain another dict?\n",
    "\n",
    "Experiment to find out!"
   ]
  },
  {
   "cell_type": "code",
   "execution_count": null,
   "metadata": {},
   "outputs": [],
   "source": [
    "my_dict2 = {\"text\": \"More text\", \"300\": 300}"
   ]
  },
  {
   "cell_type": "code",
   "execution_count": null,
   "metadata": {},
   "outputs": [],
   "source": [
    "my_dict2"
   ]
  },
  {
   "cell_type": "code",
   "execution_count": null,
   "metadata": {},
   "outputs": [],
   "source": []
  },
  {
   "cell_type": "code",
   "execution_count": null,
   "metadata": {},
   "outputs": [],
   "source": []
  },
  {
   "cell_type": "code",
   "execution_count": null,
   "metadata": {},
   "outputs": [],
   "source": []
  },
  {
   "cell_type": "code",
   "execution_count": null,
   "metadata": {},
   "outputs": [],
   "source": [
    "%%time\n",
    "\n",
    "# let's construct a large dictionary\n",
    "\n",
    "big_dict = {}\n",
    "\n",
    "for i in range(20_000_000):\n",
    "    big_dict[i] = i * 2"
   ]
  },
  {
   "cell_type": "code",
   "execution_count": null,
   "metadata": {},
   "outputs": [],
   "source": [
    "%%time\n",
    "\n",
    "# looking for a key in a dictionary is very *fast*\n",
    "\n",
    "\"-1\" in big_dict"
   ]
  },
  {
   "cell_type": "code",
   "execution_count": null,
   "metadata": {},
   "outputs": [],
   "source": [
    "%%time\n",
    "\n",
    "# looking for a value takes longer\n",
    "\n",
    "\"-1\" in big_dict.values()"
   ]
  },
  {
   "cell_type": "markdown",
   "metadata": {},
   "source": [
    "---\n",
    "\n",
    "### Dictionaries may contain lists and other dicts\n",
    "\n",
    "That allows us to store almost any information in them."
   ]
  },
  {
   "cell_type": "code",
   "execution_count": null,
   "metadata": {},
   "outputs": [],
   "source": [
    "my_dict3 = {\"list\": [1, 2, 3], 45: 365, \"dict\": {\"a\": 10, \"b\": [4, 5, 6]}}"
   ]
  },
  {
   "cell_type": "code",
   "execution_count": null,
   "metadata": {},
   "outputs": [],
   "source": [
    "# get 6 out of this dict\n",
    "my_dict3['dict']"
   ]
  },
  {
   "cell_type": "code",
   "execution_count": null,
   "metadata": {},
   "outputs": [],
   "source": [
    "# get 6 out of this dict\n",
    "my_dict3['dict']['b']"
   ]
  },
  {
   "cell_type": "code",
   "execution_count": null,
   "metadata": {},
   "outputs": [],
   "source": [
    "# get 6 out of this dict\n",
    "my_dict3['dict']['b'][-1]"
   ]
  },
  {
   "cell_type": "code",
   "execution_count": null,
   "metadata": {},
   "outputs": [],
   "source": [
    "internal_list = my_dict3['dict']['b']\n",
    "\n",
    "internal_list.append(8)"
   ]
  },
  {
   "cell_type": "code",
   "execution_count": null,
   "metadata": {},
   "outputs": [],
   "source": [
    "internal_list"
   ]
  },
  {
   "cell_type": "code",
   "execution_count": null,
   "metadata": {},
   "outputs": [],
   "source": [
    "my_dict3"
   ]
  },
  {
   "cell_type": "markdown",
   "metadata": {},
   "source": [
    "---\n",
    "\n",
    "### Exercise: counting things\n",
    "\n",
    "Write a function that:\n",
    "- takes a list of words as an argument\n",
    "- calculates how frequently each word appears in a list (use a dict for that)\n",
    "- returns a dictionary with word frequency information"
   ]
  },
  {
   "cell_type": "code",
   "execution_count": null,
   "metadata": {},
   "outputs": [],
   "source": [
    "def count(word_list):\n",
    "    freq = {}\n",
    "\n",
    "    # build a dictionary here with word frequency information\n",
    "    \n",
    "    return freq"
   ]
  },
  {
   "cell_type": "code",
   "execution_count": null,
   "metadata": {},
   "outputs": [],
   "source": [
    "word_list = [\"ābols\", \"lapa\", \"liepa\", \"lapa\", \"aaa\", \"ābols\", \"varde\"]"
   ]
  },
  {
   "cell_type": "code",
   "execution_count": null,
   "metadata": {},
   "outputs": [],
   "source": [
    "print(count(word_list))"
   ]
  },
  {
   "cell_type": "markdown",
   "metadata": {},
   "source": [
    "### Exercise: dictionary\n",
    "\n",
    "1) Write a function that uses a dictionary defined below and takes a text word as an argument. The function should return a translation of this word if it is in the dictionary.\n",
    "\n",
    "Example: `translate_word(\"dog\")` should output `\"suns\"`\n",
    "\n",
    "If a word is not in the dictionary return the word as-is.\n",
    "\n",
    "2) Write a function that takes a text sentence as an argument and returns a translation of this sentence (using the dictionary defined below). It should replace words in the dictionary with their translations, leaving unknown words as they are.\n",
    "\n",
    "Example: `elephant is very happy` should be translated as `zilonis ir very laimīgs`\n",
    "\n",
    "3) Add some new words to the dictionary used in these exercises. For example, add some smileys 😄"
   ]
  },
  {
   "cell_type": "code",
   "execution_count": null,
   "metadata": {},
   "outputs": [],
   "source": [
    "my_dict = {\n",
    "    \"apple\": \"ābols\",\n",
    "    \"pear\": \"bumbieris\",\n",
    "    \"cat\": \"kaķis\",\n",
    "    \"dog\": \"suns\",\n",
    "    \"elephant\": \"zilonis\",\n",
    "    \"bear\": \"lācis\",\n",
    "    \"beer\": \"alus\",\n",
    "    \"a\": \"\",\n",
    "    \"an\": \"\",\n",
    "    \"the\": \"\",\n",
    "    \"is\": \"ir\",\n",
    "    \"and\": \"un\",\n",
    "    \"but\": \"bet\",\n",
    "    \"big\": \"liels\",\n",
    "    \"large\": \"liels\",\n",
    "    \"small\": \"mazs\",\n",
    "    \"cold\": \"auksts\",\n",
    "    \"warm\": \"silts\",\n",
    "    \"hot\": \"karsts\",\n",
    "    \"tasty\": \"garšīgs\",\n",
    "    \"sad\": \"noskumis\",\n",
    "    \"happy\": \"laimīgs\",\n",
    "    \"white\": \"balts\",\n",
    "    \"grey\": \"pelēks\",\n",
    "    \"green\": \"zaļš\",\n",
    "    \"yellow\": \"dzeltens\",\n",
    "    \"red\": \"sarkans\",\n",
    "    \"black\": \"melns\",\n",
    "    \"(smile)\": \"😄\"\n",
    "}"
   ]
  },
  {
   "cell_type": "code",
   "execution_count": null,
   "metadata": {},
   "outputs": [],
   "source": [
    "# Subtask 1\n",
    "\n",
    "def translate_word(eng_word):  \n",
    "    # write Python code that returns a translation of eng_word \n",
    "    # (if it can be found in the dictionary)\n",
    "\n",
    "    lv_word = \"\"\n",
    "    \n",
    "    return lv_word"
   ]
  },
  {
   "cell_type": "code",
   "execution_count": null,
   "metadata": {},
   "outputs": [],
   "source": [
    "translate_word(\"dog\")"
   ]
  },
  {
   "cell_type": "code",
   "execution_count": null,
   "metadata": {},
   "outputs": [],
   "source": [
    "# Subtask 2\n",
    "\n",
    "def translate(en_sentence):\n",
    "\n",
    "    # write Python code that translates the English sentence into Latvian\n",
    "    lv_sentence = \"\"\n",
    "\n",
    "    return lv_sentence"
   ]
  },
  {
   "cell_type": "code",
   "execution_count": null,
   "metadata": {},
   "outputs": [],
   "source": [
    "translate(\"elephant is verry big\")"
   ]
  },
  {
   "cell_type": "markdown",
   "metadata": {},
   "source": [
    "---\n",
    "\n",
    "## Sets\n",
    "\n",
    "- unordered\n",
    "- unique members only\n",
    "- curly braces {3, 6, 7}\n",
    " - like dictionaries but with keys only\n",
    "\n",
    "https://realpython.com/python-sets/\n",
    " \n",
    "https://www.hackerearth.com/practice/python/working-with-data/set/tutorial/\n",
    "\n",
    "Both dictionaries and sets are useful but you will probably use dictionaries more often than sets."
   ]
  },
  {
   "cell_type": "code",
   "execution_count": null,
   "metadata": {},
   "outputs": [],
   "source": [
    "# a set of numbers\n",
    "s1 = {3, 6, 7, 3, 3, 6}\n",
    "\n",
    "s1"
   ]
  },
  {
   "cell_type": "code",
   "execution_count": null,
   "metadata": {},
   "outputs": [],
   "source": [
    "s1 = set([3, 6, 7, 3, 3, 6])\n",
    "s1"
   ]
  },
  {
   "cell_type": "code",
   "execution_count": null,
   "metadata": {},
   "outputs": [],
   "source": [
    "# a set may contain many things\n",
    "s2 = {\"a\", \"set\", \"of\", \"words\", \"and\", \"more\", \"words\"}\n",
    "\n",
    "s2"
   ]
  },
  {
   "cell_type": "code",
   "execution_count": null,
   "metadata": {},
   "outputs": [],
   "source": [
    "# words contain characters, let's make a set of them\n",
    "my_str = \"Glāžšķūņa rūķīši dzērumā čiepj Baha koncertflīģeļu vākus\"\n",
    "my_str = my_str.lower()\n",
    "\n",
    "s3 = set(my_str)"
   ]
  },
  {
   "cell_type": "code",
   "execution_count": null,
   "metadata": {},
   "outputs": [],
   "source": [
    "# my_str is a pangram!\n",
    "# it contains all characters of the Latvian alphabet\n",
    "#  - https://en.wikipedia.org/wiki/Pangram"
   ]
  },
  {
   "cell_type": "code",
   "execution_count": null,
   "metadata": {
    "scrolled": true
   },
   "outputs": [],
   "source": [
    "s3"
   ]
  },
  {
   "cell_type": "markdown",
   "metadata": {},
   "source": [
    "---\n",
    "\n",
    "### Exercise: Counting Letters\n",
    "\n",
    "- Count the number of times each letter appears in my_str.\n",
    "- Print the result with letters sorted alphabetically.\n",
    "\n",
    "See if you can re-use the functions defined earlier in this notebook."
   ]
  },
  {
   "cell_type": "code",
   "execution_count": null,
   "metadata": {},
   "outputs": [],
   "source": [
    "my_str = \"Glāžšķūņa rūķīši dzērumā čiepj Baha koncertflīģeļu vākus\""
   ]
  },
  {
   "cell_type": "code",
   "execution_count": null,
   "metadata": {},
   "outputs": [],
   "source": [
    "def simbolu_skaits(teikums):\n",
    "\n",
    "    # write Python code for counting character frequency\n",
    "    word_freq = {}\n",
    "    \n",
    "    # ...\n",
    "\n",
    "    print(word_freq)"
   ]
  },
  {
   "cell_type": "code",
   "execution_count": null,
   "metadata": {},
   "outputs": [],
   "source": [
    "simbolu_skaits(my_str)"
   ]
  },
  {
   "cell_type": "markdown",
   "metadata": {},
   "source": [
    "---\n",
    "\n",
    "### Sets (continued...)\n",
    "\n",
    "- issubset\n",
    "- issuperset"
   ]
  },
  {
   "cell_type": "code",
   "execution_count": null,
   "metadata": {},
   "outputs": [],
   "source": [
    "s1"
   ]
  },
  {
   "cell_type": "code",
   "execution_count": null,
   "metadata": {},
   "outputs": [],
   "source": [
    "numset = set(range(10))\n",
    "print(numset)"
   ]
  },
  {
   "cell_type": "code",
   "execution_count": null,
   "metadata": {},
   "outputs": [],
   "source": [
    "# check if a value is IN a set:\n",
    "9 in numset"
   ]
  },
  {
   "cell_type": "code",
   "execution_count": null,
   "metadata": {},
   "outputs": [],
   "source": [
    "9 in s1"
   ]
  },
  {
   "cell_type": "code",
   "execution_count": null,
   "metadata": {},
   "outputs": [],
   "source": []
  },
  {
   "cell_type": "code",
   "execution_count": null,
   "metadata": {},
   "outputs": [],
   "source": [
    "# let's see methods we can use on sets\n",
    "dir(set)"
   ]
  },
  {
   "cell_type": "code",
   "execution_count": null,
   "metadata": {},
   "outputs": [],
   "source": [
    "help(set)"
   ]
  },
  {
   "cell_type": "code",
   "execution_count": null,
   "metadata": {},
   "outputs": [],
   "source": [
    "help(set.intersection)"
   ]
  },
  {
   "cell_type": "code",
   "execution_count": null,
   "metadata": {},
   "outputs": [],
   "source": [
    "# check if one set is a subset of the other\n",
    "s1.issubset(numset)"
   ]
  },
  {
   "cell_type": "code",
   "execution_count": null,
   "metadata": {},
   "outputs": [],
   "source": [
    "# numset is a superset of s1\n",
    "numset.issuperset(s1)"
   ]
  },
  {
   "cell_type": "code",
   "execution_count": null,
   "metadata": {},
   "outputs": [],
   "source": []
  },
  {
   "cell_type": "markdown",
   "metadata": {},
   "source": [
    "---\n",
    "\n",
    "set operations:\n",
    "- difference \n",
    "- intersection\n",
    "- symmetric_difference\n",
    "- union"
   ]
  },
  {
   "cell_type": "code",
   "execution_count": null,
   "metadata": {},
   "outputs": [],
   "source": [
    "s1"
   ]
  },
  {
   "cell_type": "code",
   "execution_count": null,
   "metadata": {},
   "outputs": [],
   "source": [
    "s4 = {1, 2, 3}"
   ]
  },
  {
   "cell_type": "code",
   "execution_count": null,
   "metadata": {},
   "outputs": [],
   "source": [
    "# elements that are in any of these sets\n",
    "s1.union(s4)"
   ]
  },
  {
   "cell_type": "code",
   "execution_count": null,
   "metadata": {},
   "outputs": [],
   "source": [
    "# set difference = elements that are in s1 AND are not in s4\n",
    "s1.difference(s4)"
   ]
  },
  {
   "cell_type": "code",
   "execution_count": null,
   "metadata": {},
   "outputs": [],
   "source": [
    "s4.difference(s1)"
   ]
  },
  {
   "cell_type": "code",
   "execution_count": null,
   "metadata": {},
   "outputs": [],
   "source": [
    "s1.symmetric_difference(s4)"
   ]
  },
  {
   "cell_type": "code",
   "execution_count": null,
   "metadata": {},
   "outputs": [],
   "source": [
    "s1.intersection(s4)"
   ]
  },
  {
   "cell_type": "code",
   "execution_count": null,
   "metadata": {},
   "outputs": [],
   "source": [
    "s1"
   ]
  },
  {
   "cell_type": "code",
   "execution_count": null,
   "metadata": {},
   "outputs": [],
   "source": [
    "# are these sets disjoint (have no elements in common)?\n",
    "s1.isdisjoint(numset)"
   ]
  },
  {
   "cell_type": "code",
   "execution_count": null,
   "metadata": {},
   "outputs": [],
   "source": [
    "s1.isdisjoint({-12, 0})"
   ]
  },
  {
   "cell_type": "code",
   "execution_count": null,
   "metadata": {},
   "outputs": [],
   "source": []
  },
  {
   "cell_type": "markdown",
   "metadata": {},
   "source": [
    "---\n",
    "\n",
    "### What other things we can do with sets?\n",
    "\n",
    "- remaining set operations\n",
    "- can we do mathematical operators on sets?\n",
    " - `+, -, ...`\n",
    "\n",
    "Let's try:"
   ]
  },
  {
   "cell_type": "code",
   "execution_count": null,
   "metadata": {},
   "outputs": [],
   "source": [
    "s1 - s4"
   ]
  },
  {
   "cell_type": "code",
   "execution_count": null,
   "metadata": {},
   "outputs": [],
   "source": [
    "s4 - s1"
   ]
  },
  {
   "cell_type": "code",
   "execution_count": null,
   "metadata": {},
   "outputs": [],
   "source": [
    "s1.union(s4)"
   ]
  },
  {
   "cell_type": "code",
   "execution_count": null,
   "metadata": {},
   "outputs": [],
   "source": [
    "s1"
   ]
  },
  {
   "cell_type": "code",
   "execution_count": null,
   "metadata": {},
   "outputs": [],
   "source": [
    "s1.update(s4)"
   ]
  },
  {
   "cell_type": "code",
   "execution_count": null,
   "metadata": {},
   "outputs": [],
   "source": [
    "# set s1 has changed:\n",
    "s1"
   ]
  },
  {
   "cell_type": "markdown",
   "metadata": {},
   "source": [
    "---\n",
    "\n",
    "### Example: Comparing Python method names\n",
    "\n",
    "- We can use `dir()` to get a list of methods for python data types `list` and `str`. \n",
    "- Next, we can use set operations to compare these lists"
   ]
  },
  {
   "cell_type": "code",
   "execution_count": null,
   "metadata": {},
   "outputs": [],
   "source": [
    "list_list = dir(list)\n",
    "\n",
    "list_list"
   ]
  },
  {
   "cell_type": "code",
   "execution_count": null,
   "metadata": {},
   "outputs": [],
   "source": [
    "# Here we use something called \"list comprehension\".\n",
    "\n",
    "list_list2 = [item for item in list_list if \"__\" not in item]\n",
    "\n",
    "list_list2"
   ]
  },
  {
   "cell_type": "code",
   "execution_count": null,
   "metadata": {},
   "outputs": [],
   "source": [
    "list_set = set(list_list2)\n",
    "\n",
    "list_set"
   ]
  },
  {
   "cell_type": "code",
   "execution_count": null,
   "metadata": {},
   "outputs": [],
   "source": [
    "# Let's do the same with string method list\n",
    "str_list = [item for item in dir(str) if \"__\" not in item]\n",
    "\n",
    "str_list"
   ]
  },
  {
   "cell_type": "code",
   "execution_count": null,
   "metadata": {},
   "outputs": [],
   "source": [
    "str_set = set(str_list)"
   ]
  },
  {
   "cell_type": "code",
   "execution_count": null,
   "metadata": {},
   "outputs": [],
   "source": [
    "# set intersection will give us a list of methods\n",
    "# available for both lists and text strings\n",
    "\n",
    "str_set.intersection(list_set)"
   ]
  },
  {
   "cell_type": "code",
   "execution_count": null,
   "metadata": {},
   "outputs": [],
   "source": [
    "list_set - str_set"
   ]
  },
  {
   "cell_type": "code",
   "execution_count": null,
   "metadata": {},
   "outputs": [],
   "source": [
    "str_set - list_set"
   ]
  },
  {
   "cell_type": "code",
   "execution_count": null,
   "metadata": {},
   "outputs": [],
   "source": [
    "help(str.join)"
   ]
  },
  {
   "cell_type": "markdown",
   "metadata": {},
   "source": [
    "---\n",
    "\n",
    "We found out that `list` and `str` have 2 methods in common:\n",
    "- index()\n",
    "- count()\n",
    "\n",
    "Next: try to find out what methods are common for `list` and `dict`."
   ]
  },
  {
   "cell_type": "code",
   "execution_count": null,
   "metadata": {},
   "outputs": [],
   "source": []
  },
  {
   "cell_type": "code",
   "execution_count": null,
   "metadata": {},
   "outputs": [],
   "source": []
  },
  {
   "cell_type": "code",
   "execution_count": null,
   "metadata": {},
   "outputs": [],
   "source": []
  },
  {
   "cell_type": "markdown",
   "metadata": {},
   "source": [
    "## Additional information\n",
    "\n",
    "### Topic 1 - dictionaries\n",
    "\n",
    "- [Dictionaries official documentation](https://docs.python.org/3/library/stdtypes.html#dict)\n",
    "- [Automate the boring stuff with Python: Dictionaries](https://automatetheboringstuff.com/2e/chapter5/)\n",
    "\n",
    "### Topic 2 - sets\n",
    "\n",
    "- [Sets official documentation](https://docs.python.org/3/library/stdtypes.html#set)"
   ]
  }
 ],
 "metadata": {
  "kernelspec": {
   "display_name": "Python 3 (ipykernel)",
   "language": "python",
   "name": "python3"
  },
  "language_info": {
   "codemirror_mode": {
    "name": "ipython",
    "version": 3
   },
   "file_extension": ".py",
   "mimetype": "text/x-python",
   "name": "python",
   "nbconvert_exporter": "python",
   "pygments_lexer": "ipython3",
   "version": "3.12.7"
  }
 },
 "nbformat": 4,
 "nbformat_minor": 4
}
