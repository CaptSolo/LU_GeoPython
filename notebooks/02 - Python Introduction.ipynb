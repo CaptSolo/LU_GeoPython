{
 "cells": [
  {
   "cell_type": "markdown",
   "metadata": {
    "id": "oXukXEtEyk6m"
   },
   "source": [
    "## Python Introduction with some detours (2)\n",
    "![Python](https://www.python.org/static/community_logos/python-logo-generic.svg)"
   ]
  },
  {
   "cell_type": "markdown",
   "metadata": {
    "id": "0I4yCl8Ayk6q"
   },
   "source": [
    "# Table of Contents <a class=\"anchor\" id=\"toc\">\n",
    "\n",
    "* [String Methods](#string-methods)\n",
    "* [Program Flow Control](#flow-control)\n",
    "* [Crucial Python Ideas](#python-ideas)\n",
    "* [Learning Resources](#learning-resources)"
   ]
  },
  {
   "cell_type": "code",
   "execution_count": null,
   "metadata": {
    "id": "MpkMYJ1zdd7m"
   },
   "outputs": [],
   "source": [
    "value = 99"
   ]
  },
  {
   "cell_type": "code",
   "execution_count": null,
   "metadata": {},
   "outputs": [],
   "source": [
    "value"
   ]
  },
  {
   "cell_type": "code",
   "execution_count": null,
   "metadata": {
    "colab": {
     "base_uri": "https://localhost:8080/",
     "height": 36
    },
    "id": "N30p2-uudd7n",
    "outputId": "fa6f5c5d-0dc5-4096-9050-f45159863aa0"
   },
   "outputs": [],
   "source": [
    "str(value)"
   ]
  },
  {
   "cell_type": "code",
   "execution_count": null,
   "metadata": {},
   "outputs": [],
   "source": [
    "#print('I have eaten ' + value + ' burritos.')   # this will result in an error message"
   ]
  },
  {
   "cell_type": "code",
   "execution_count": null,
   "metadata": {
    "colab": {
     "base_uri": "https://localhost:8080/",
     "height": 36
    },
    "id": "Jp_vYKPtdd7n",
    "outputId": "bb496d9f-7bdc-4c3d-c839-3ecb392f3067"
   },
   "outputs": [],
   "source": [
    "print('I have eaten ' + str(value) + ' burritos.')"
   ]
  },
  {
   "cell_type": "code",
   "execution_count": null,
   "metadata": {},
   "outputs": [],
   "source": [
    "print(f'I have eaten {value} burritos.')"
   ]
  },
  {
   "cell_type": "code",
   "execution_count": null,
   "metadata": {
    "colab": {
     "base_uri": "https://localhost:8080/",
     "height": 36
    },
    "id": "3bzMm9Kwdd7o",
    "outputId": "ab3cf1f2-a72f-4dd4-b12d-4f6aadda3e85"
   },
   "outputs": [],
   "source": [
    "print(f'I have eaten {value+1} burritos.')"
   ]
  },
  {
   "cell_type": "markdown",
   "metadata": {
    "id": "zMrBVe2FBeuB"
   },
   "source": [
    "---\n",
    "\n",
    "## String Methods <a class=\"anchor\" id=\"string-methods\">\n",
    "\n",
    "Everything (including strings) in Python is an *object*.\n",
    "\n",
    "Objects typically contain one or more values (object *attributes*) and some *methods* - actions that can be performed on this object."
   ]
  },
  {
   "cell_type": "code",
   "execution_count": null,
   "metadata": {
    "id": "6s0wJcqVdd7r"
   },
   "outputs": [],
   "source": [
    "name = \"uldis\"\n",
    "last_name = \"bojārs\""
   ]
  },
  {
   "cell_type": "code",
   "execution_count": null,
   "metadata": {},
   "outputs": [],
   "source": [
    "name"
   ]
  },
  {
   "cell_type": "code",
   "execution_count": null,
   "metadata": {},
   "outputs": [],
   "source": [
    "# show the methods that a string object has\n",
    "[i for i in dir(name) if not i.startswith(\"__\")]"
   ]
  },
  {
   "cell_type": "code",
   "execution_count": null,
   "metadata": {
    "colab": {
     "base_uri": "https://localhost:8080/"
    },
    "id": "bu2vkysYdd7s",
    "outputId": "eac2dca8-2d9a-44d4-8f25-a6b277f1d92e"
   },
   "outputs": [],
   "source": [
    "help(str)"
   ]
  },
  {
   "cell_type": "code",
   "execution_count": null,
   "metadata": {
    "colab": {
     "base_uri": "https://localhost:8080/"
    },
    "id": "W2gnsZ7ZgjeG",
    "outputId": "63f1a1cb-3b71-4b8e-9edd-7abdee2835aa"
   },
   "outputs": [],
   "source": [
    "help(str.title)"
   ]
  },
  {
   "cell_type": "code",
   "execution_count": null,
   "metadata": {
    "colab": {
     "base_uri": "https://localhost:8080/"
    },
    "id": "4m1ZbFjUdd7r",
    "outputId": "f3954aa7-fdec-44eb-997a-8ccf420e5298"
   },
   "outputs": [],
   "source": [
    "full_name = name + \" \" + last_name\n",
    "print(full_name)"
   ]
  },
  {
   "cell_type": "markdown",
   "metadata": {},
   "source": [
    "---\n",
    "\n",
    "Methods can take arguments (parameters) and can return a value."
   ]
  },
  {
   "cell_type": "code",
   "execution_count": null,
   "metadata": {
    "colab": {
     "base_uri": "https://localhost:8080/",
     "height": 36
    },
    "id": "lsmV20tGB7eq",
    "outputId": "68ff78d8-4e6c-40ec-f698-66761bd01dd9"
   },
   "outputs": [],
   "source": [
    "full_name.title()   # This method has no arguments. It returns a value"
   ]
  },
  {
   "cell_type": "code",
   "execution_count": null,
   "metadata": {},
   "outputs": [],
   "source": [
    "full_name"
   ]
  },
  {
   "cell_type": "code",
   "execution_count": null,
   "metadata": {
    "colab": {
     "base_uri": "https://localhost:8080/"
    },
    "id": "oITWxrQlhR95",
    "outputId": "2110826a-7977-4224-90f7-ea51f0b92193"
   },
   "outputs": [],
   "source": [
    "title_cased = full_name.title()\n",
    "\n",
    "print(title_cased)"
   ]
  },
  {
   "cell_type": "code",
   "execution_count": null,
   "metadata": {
    "colab": {
     "base_uri": "https://localhost:8080/",
     "height": 36
    },
    "id": "dXdFK-7MCGvq",
    "outputId": "9ff4b1d4-e464-4234-e7b5-11450c539614"
   },
   "outputs": [],
   "source": [
    "some_string = \"aBBBa\"\n",
    "some_string"
   ]
  },
  {
   "cell_type": "code",
   "execution_count": null,
   "metadata": {
    "colab": {
     "base_uri": "https://localhost:8080/",
     "height": 36
    },
    "id": "WgluZQdZCLse",
    "outputId": "87538e98-3a32-4e23-ea7a-807b6695ee50"
   },
   "outputs": [],
   "source": [
    "some_string.capitalize()"
   ]
  },
  {
   "cell_type": "code",
   "execution_count": null,
   "metadata": {
    "colab": {
     "base_uri": "https://localhost:8080/"
    },
    "id": "E1D7PZtRCWEW",
    "outputId": "833cadaf-e4dc-48a8-dcbb-55595759bac9"
   },
   "outputs": [],
   "source": [
    "# how many times does \"B\" appear in our text string?\n",
    "\n",
    "some_string.count(\"B\")   # This method has 1 argument (the text substring to look for)"
   ]
  },
  {
   "cell_type": "code",
   "execution_count": null,
   "metadata": {},
   "outputs": [],
   "source": [
    "# letter case matters (Python is case-sensitive)\n",
    "some_string.count(\"b\")"
   ]
  },
  {
   "cell_type": "code",
   "execution_count": null,
   "metadata": {
    "colab": {
     "base_uri": "https://localhost:8080/"
    },
    "id": "9ONwV1ESCpoM",
    "outputId": "83fe5876-4935-49e3-8439-89ebf28e3e7a"
   },
   "outputs": [],
   "source": [
    "help(str.count)"
   ]
  },
  {
   "cell_type": "code",
   "execution_count": null,
   "metadata": {},
   "outputs": [],
   "source": [
    "some_string"
   ]
  },
  {
   "cell_type": "code",
   "execution_count": null,
   "metadata": {
    "colab": {
     "base_uri": "https://localhost:8080/"
    },
    "id": "GhiSjX6BCdrE",
    "outputId": "15886ee2-d109-40d1-defd-75a16a7dcbe5"
   },
   "outputs": [],
   "source": [
    "# does our text end with \"Ba\"?\n",
    "some_string.endswith(\"Ba\")"
   ]
  },
  {
   "cell_type": "code",
   "execution_count": null,
   "metadata": {
    "colab": {
     "base_uri": "https://localhost:8080/"
    },
    "id": "UGAwI7J9dd7u",
    "outputId": "4bc70da8-39d3-47ef-862f-34b9fd07f5be"
   },
   "outputs": [],
   "source": [
    "if some_string.endswith(\"Ba\"):\n",
    "    print(\"This string ends with 'Ba'\")\n",
    "    print(\"More text here\")"
   ]
  },
  {
   "cell_type": "code",
   "execution_count": null,
   "metadata": {},
   "outputs": [],
   "source": [
    "name"
   ]
  },
  {
   "cell_type": "code",
   "execution_count": null,
   "metadata": {
    "colab": {
     "base_uri": "https://localhost:8080/"
    },
    "id": "oUz4FHnlDNFv",
    "outputId": "0f394435-8aab-43f0-eb25-0f9b79058cd1"
   },
   "outputs": [],
   "source": [
    "name.find(\"dis\")  # returns index of the first occurence of the search string"
   ]
  },
  {
   "cell_type": "code",
   "execution_count": null,
   "metadata": {
    "colab": {
     "base_uri": "https://localhost:8080/",
     "height": 36
    },
    "id": "79IKuewEDT9D",
    "outputId": "5ab26dcf-277f-41e6-cdb6-0960058ee984"
   },
   "outputs": [],
   "source": [
    "name[2:]"
   ]
  },
  {
   "cell_type": "code",
   "execution_count": null,
   "metadata": {
    "colab": {
     "base_uri": "https://localhost:8080/",
     "height": 36
    },
    "id": "nv-moFmMDlGM",
    "outputId": "ad90781a-891f-4dc4-de5c-ad5de9cbe683"
   },
   "outputs": [],
   "source": [
    "title_cased.lower() # change everything to lowercase"
   ]
  },
  {
   "cell_type": "code",
   "execution_count": null,
   "metadata": {
    "colab": {
     "base_uri": "https://localhost:8080/",
     "height": 36
    },
    "id": "eFcwSZkkD_ID",
    "outputId": "7858b867-4f3c-4bf4-ee70-a0092289915f"
   },
   "outputs": [],
   "source": [
    "title_cased.upper()"
   ]
  },
  {
   "cell_type": "code",
   "execution_count": null,
   "metadata": {
    "colab": {
     "base_uri": "https://localhost:8080/",
     "height": 36
    },
    "id": "abBhVGSIEDu6",
    "outputId": "7370f611-fcb9-4238-fb1f-d491c1a18cad"
   },
   "outputs": [],
   "source": [
    "name.replace(\"u\", \"Va\")"
   ]
  },
  {
   "cell_type": "markdown",
   "metadata": {},
   "source": [
    "---\n",
    "\n",
    "Python strings are not mutable - you can not change an existing string.\n",
    "\n",
    "But you can replace the value of an existing variable with a new string."
   ]
  },
  {
   "cell_type": "code",
   "execution_count": null,
   "metadata": {
    "colab": {
     "base_uri": "https://localhost:8080/",
     "height": 36
    },
    "id": "zZeH0r3Edd7x",
    "outputId": "b5089be7-fc51-4e9b-9c5c-28b36fb14bba"
   },
   "outputs": [],
   "source": [
    "print(name)"
   ]
  },
  {
   "cell_type": "code",
   "execution_count": null,
   "metadata": {
    "colab": {
     "base_uri": "https://localhost:8080/",
     "height": 36
    },
    "id": "O85wl49_dd7y",
    "outputId": "44f65588-1304-4e7d-87b6-01ce89c66763"
   },
   "outputs": [],
   "source": [
    "name.replace(\"u\", \"Va\")\n",
    "name   # the original string did not change"
   ]
  },
  {
   "cell_type": "code",
   "execution_count": null,
   "metadata": {
    "colab": {
     "base_uri": "https://localhost:8080/",
     "height": 36
    },
    "id": "M4u7um2VFFuz",
    "outputId": "14af2f6f-0a43-467a-86ed-be592e969291"
   },
   "outputs": [],
   "source": [
    "new_name = name.replace(\"u\", \"Va\")   # we can assign the return value to a variable\n",
    "new_name"
   ]
  },
  {
   "cell_type": "code",
   "execution_count": null,
   "metadata": {
    "colab": {
     "base_uri": "https://localhost:8080/",
     "height": 36
    },
    "id": "uHnbDmgGFMio",
    "outputId": "7b672ef9-b046-40ea-a32b-cbc7ac377307"
   },
   "outputs": [],
   "source": [
    "# we can also replace the value of an existing variable\n",
    "name = name.replace(\"u\", \"Va\")\n",
    "name"
   ]
  },
  {
   "cell_type": "code",
   "execution_count": null,
   "metadata": {
    "colab": {
     "base_uri": "https://localhost:8080/",
     "height": 36
    },
    "id": "qvDBUivJE608",
    "outputId": "a1b9154e-bfc7-49d0-9019-956011fd7b58"
   },
   "outputs": [],
   "source": [
    "\"quick brown fox\".title()"
   ]
  },
  {
   "cell_type": "code",
   "execution_count": null,
   "metadata": {
    "colab": {
     "base_uri": "https://localhost:8080/",
     "height": 36
    },
    "id": "Q3hL4EJRE9-p",
    "outputId": "ba703b1a-a3c7-47e5-818e-a59748b8bbee"
   },
   "outputs": [],
   "source": [
    "\"quick brown fox\".capitalize()"
   ]
  },
  {
   "cell_type": "code",
   "execution_count": null,
   "metadata": {},
   "outputs": [],
   "source": [
    "# use \"in\" to check if \"fox\" appears in our string\n",
    "\"fox\" in \"quick brown fox\""
   ]
  },
  {
   "cell_type": "code",
   "execution_count": null,
   "metadata": {},
   "outputs": [],
   "source": [
    "\"uldis\" in \"quick brown fox\""
   ]
  },
  {
   "cell_type": "markdown",
   "metadata": {},
   "source": [
    "---\n",
    "\n",
    "#### Splitting strings and joining list values"
   ]
  },
  {
   "cell_type": "code",
   "execution_count": null,
   "metadata": {
    "colab": {
     "base_uri": "https://localhost:8080/",
     "height": 36
    },
    "id": "CeRFDraZFD5U",
    "outputId": "112ba0d5-0f86-4cdd-c721-c83da41bd463"
   },
   "outputs": [],
   "source": [
    "sentence = \"A quick brown fox jumped over       a sleeping dog\"\n",
    "sentence"
   ]
  },
  {
   "cell_type": "code",
   "execution_count": null,
   "metadata": {
    "colab": {
     "base_uri": "https://localhost:8080/"
    },
    "id": "YaUm8vXdFp3S",
    "outputId": "e5b4f6ac-a1b0-42a9-f7f1-819a40c6e754"
   },
   "outputs": [],
   "source": [
    "words = sentence.split() # we get a list of words split by any amount of whitespace including newlines, tabs etc.\n",
    "words"
   ]
  },
  {
   "cell_type": "code",
   "execution_count": null,
   "metadata": {
    "colab": {
     "base_uri": "https://localhost:8080/"
    },
    "id": "p1RY7Pdolvq2",
    "outputId": "ac2ec57d-9d90-41cb-fe73-d7154463009c"
   },
   "outputs": [],
   "source": [
    "help(str.split)"
   ]
  },
  {
   "cell_type": "code",
   "execution_count": null,
   "metadata": {
    "colab": {
     "base_uri": "https://localhost:8080/",
     "height": 36
    },
    "id": "Sa_nm2JLGHDn",
    "outputId": "f0b808ef-92c9-4bec-8c93-68b947ac2d70"
   },
   "outputs": [],
   "source": [
    "joined_string = \" \".join(words) # join a list of words using a single whitespace as the joining element\n",
    "joined_string"
   ]
  },
  {
   "cell_type": "code",
   "execution_count": null,
   "metadata": {
    "colab": {
     "base_uri": "https://localhost:8080/",
     "height": 36
    },
    "id": "lb8Whe35Ggji",
    "outputId": "fb88e4c9-d087-4a8e-9071-b5d02f5e63f5"
   },
   "outputs": [],
   "source": [
    "joined_string = \" - \".join(words) # you can join by multiple characters\n",
    "joined_string"
   ]
  },
  {
   "cell_type": "code",
   "execution_count": null,
   "metadata": {},
   "outputs": [],
   "source": [
    "# emoticons are also characters in the Unicode character encoding\n",
    "smiley_string = \" 😀 \".join(words)\n",
    "smiley_string"
   ]
  },
  {
   "cell_type": "markdown",
   "metadata": {
    "id": "t4lRH20Wdd72"
   },
   "source": [
    "---\n",
    "\n",
    "#### Quick intro to lists"
   ]
  },
  {
   "cell_type": "code",
   "execution_count": null,
   "metadata": {
    "colab": {
     "base_uri": "https://localhost:8080/"
    },
    "id": "tTmfminmdd73",
    "outputId": "a96519d3-7274-44e3-d01a-807feb3da9c4"
   },
   "outputs": [],
   "source": [
    "shopping_list = [\"Chocolate\", \"Milk\", \"Cookies\"] # a list of 3 strings - can be changed later on as needed\n",
    "shopping_list"
   ]
  },
  {
   "cell_type": "code",
   "execution_count": null,
   "metadata": {
    "colab": {
     "base_uri": "https://localhost:8080/"
    },
    "id": "JO5st21XyVhY",
    "outputId": "d3affb99-69c2-4ece-a699-a3c3185a68ef"
   },
   "outputs": [],
   "source": [
    "shopping_list.append(\"Fork\")\n",
    "shopping_list"
   ]
  },
  {
   "cell_type": "code",
   "execution_count": null,
   "metadata": {
    "colab": {
     "base_uri": "https://localhost:8080/"
    },
    "id": "vpb_juysdd73",
    "outputId": "9663fbc1-a1e7-4945-e705-e0b379b16f07"
   },
   "outputs": [],
   "source": [
    "print(shopping_list[2])   # indexes start from 0"
   ]
  },
  {
   "cell_type": "code",
   "execution_count": null,
   "metadata": {},
   "outputs": [],
   "source": [
    "print(shopping_list[-1])   # negative indexes count from the end of the list"
   ]
  },
  {
   "cell_type": "code",
   "execution_count": null,
   "metadata": {
    "colab": {
     "base_uri": "https://localhost:8080/"
    },
    "id": "lDug1ZoazASu",
    "outputId": "4526a37f-6bb3-4833-9751-afd3b12adefc"
   },
   "outputs": [],
   "source": [
    "shopping_list.remove(\"Milk\")   # remove a value from a list\n",
    "shopping_list"
   ]
  },
  {
   "cell_type": "code",
   "execution_count": null,
   "metadata": {},
   "outputs": [],
   "source": [
    "help(list.remove)"
   ]
  },
  {
   "cell_type": "code",
   "execution_count": null,
   "metadata": {
    "colab": {
     "base_uri": "https://localhost:8080/"
    },
    "id": "wQN3Nrkxdd75",
    "outputId": "5e648a57-579e-43c0-cb5e-13868b13e208"
   },
   "outputs": [],
   "source": [
    "shopping_list.append(\"Kefir\")\n",
    "shopping_list"
   ]
  },
  {
   "cell_type": "code",
   "execution_count": null,
   "metadata": {
    "colab": {
     "base_uri": "https://localhost:8080/"
    },
    "id": "FkHGu6fazRCF",
    "outputId": "852b70fe-cce1-4f60-e9d9-29b5cd0279da"
   },
   "outputs": [],
   "source": [
    "\"Kefir\" in shopping_list   # this needs to be exact match"
   ]
  },
  {
   "cell_type": "code",
   "execution_count": null,
   "metadata": {
    "colab": {
     "base_uri": "https://localhost:8080/"
    },
    "id": "b-aF5slHzYG5",
    "outputId": "d3c43c3b-0adc-4b2c-dfb9-79aa417639f3"
   },
   "outputs": [],
   "source": [
    "\"Milk\" in shopping_list"
   ]
  },
  {
   "cell_type": "code",
   "execution_count": null,
   "metadata": {
    "colab": {
     "base_uri": "https://localhost:8080/"
    },
    "id": "LBm6xnhAzb9Y",
    "outputId": "7e32ae29-5896-4547-aac1-fd4c72a5a8b4"
   },
   "outputs": [],
   "source": [
    "\"kefir\" in shopping_list   # case sensitive so it should be false"
   ]
  },
  {
   "cell_type": "markdown",
   "metadata": {
    "id": "94m41ooSyk67"
   },
   "source": [
    "## Flow Control <a class=\"anchor\" id=\"flow-control\">\n",
    "    \n",
    "[Back to Table of Contents](#toc)"
   ]
  },
  {
   "cell_type": "code",
   "execution_count": null,
   "metadata": {
    "id": "T7BtimQbyk67"
   },
   "outputs": [],
   "source": [
    "# with Flow Control we can tell our program to choose different paths\n",
    "# depending on the true/false value of a given condition"
   ]
  },
  {
   "cell_type": "markdown",
   "metadata": {
    "id": "u8W4uJO1yk68"
   },
   "source": [
    "## Conditional operators\n",
    "\n",
    "Conditional operators allow us to compare values and return a result of the comparison (a boolean True/False value).\n",
    "\n",
    "`< > <= >= == !=`\n",
    "\n",
    "Logical operators allow us to combine or change boolean values:\n",
    "\n",
    "`and or not`"
   ]
  },
  {
   "cell_type": "code",
   "execution_count": null,
   "metadata": {
    "colab": {
     "base_uri": "https://localhost:8080/"
    },
    "id": "MONkq4S3yk68",
    "outputId": "0466358c-4b8f-44c4-8bd3-9f63d74c314b"
   },
   "outputs": [],
   "source": [
    "2*2 == 4   # == checks if the two values are equal"
   ]
  },
  {
   "cell_type": "code",
   "execution_count": null,
   "metadata": {},
   "outputs": [],
   "source": [
    "5 != 7   # != is True if the two values are not equal"
   ]
  },
  {
   "cell_type": "code",
   "execution_count": null,
   "metadata": {
    "colab": {
     "base_uri": "https://localhost:8080/"
    },
    "id": "osZweVjuyk68",
    "outputId": "470390fb-19ad-4491-8338-85b70032f329"
   },
   "outputs": [],
   "source": [
    "5 > 7"
   ]
  },
  {
   "cell_type": "code",
   "execution_count": null,
   "metadata": {},
   "outputs": [],
   "source": [
    "5 <= 7"
   ]
  },
  {
   "cell_type": "code",
   "execution_count": null,
   "metadata": {},
   "outputs": [],
   "source": [
    "print(5 == '5')"
   ]
  },
  {
   "cell_type": "code",
   "execution_count": null,
   "metadata": {},
   "outputs": [],
   "source": [
    "print(5 == int('5'))"
   ]
  },
  {
   "cell_type": "code",
   "execution_count": null,
   "metadata": {
    "colab": {
     "base_uri": "https://localhost:8080/"
    },
    "id": "dV-16LNayk68",
    "outputId": "502dcfc8-88ac-4d32-e233-df889a8172c2"
   },
   "outputs": [],
   "source": [
    "# We can also compare text strings\n",
    "\n",
    "# We check each letter from the left side\n",
    "# on mismatch we check codes of individual characters\n",
    "# (so called lexicographical ordering)\n",
    "'VALDIS' > 'VOLDEMARS'"
   ]
  },
  {
   "cell_type": "code",
   "execution_count": null,
   "metadata": {
    "colab": {
     "base_uri": "https://localhost:8080/"
    },
    "id": "xy9l-PiVLTkp",
    "outputId": "ae6c648f-6707-445e-e887-add2c96d0e2e"
   },
   "outputs": [],
   "source": [
    "ord(\"V\")"
   ]
  },
  {
   "cell_type": "code",
   "execution_count": null,
   "metadata": {
    "colab": {
     "base_uri": "https://localhost:8080/"
    },
    "id": "KoLh6BVELq6O",
    "outputId": "082052ff-13c1-418c-f669-e96636e2b48d"
   },
   "outputs": [],
   "source": [
    "ord(\"A\")"
   ]
  },
  {
   "cell_type": "code",
   "execution_count": null,
   "metadata": {
    "colab": {
     "base_uri": "https://localhost:8080/"
    },
    "id": "RVmBCTTbLum5",
    "outputId": "a8d2029d-edd4-489e-dd19-7e9cbbfdf2d9"
   },
   "outputs": [],
   "source": [
    "ord(\"O\")"
   ]
  },
  {
   "cell_type": "markdown",
   "metadata": {},
   "source": [
    "#### Logical operators\n",
    "\n",
    "Logical operators combine or change boolean values:\n",
    "- `and` is True only if both operands are True\n",
    "- `or` is True if any of the operands is True\n",
    "- `not` is True if its operand is False (and the other way around)"
   ]
  },
  {
   "cell_type": "code",
   "execution_count": null,
   "metadata": {
    "colab": {
     "base_uri": "https://localhost:8080/"
    },
    "id": "wNB92r86yk68",
    "outputId": "8ade3d20-1a19-4ab1-a92e-c550af038744"
   },
   "outputs": [],
   "source": [
    "True and True"
   ]
  },
  {
   "cell_type": "code",
   "execution_count": null,
   "metadata": {
    "colab": {
     "base_uri": "https://localhost:8080/"
    },
    "id": "PDSDoyhtyk69",
    "outputId": "b7274a10-50dd-4e09-d560-cef1b57218b3"
   },
   "outputs": [],
   "source": [
    "True or False"
   ]
  },
  {
   "cell_type": "code",
   "execution_count": null,
   "metadata": {
    "colab": {
     "base_uri": "https://localhost:8080/"
    },
    "id": "_yRvWtvsyk69",
    "outputId": "e9f8d624-84d5-4b38-f1ca-e05e3c966c08"
   },
   "outputs": [],
   "source": [
    "not True"
   ]
  },
  {
   "cell_type": "markdown",
   "metadata": {
    "id": "8Lh_uafdyk69"
   },
   "source": [
    "## If Statement\n",
    "\n",
    "```\n",
    "if <some_condition>:\n",
    "    <commands>\n",
    "```"
   ]
  },
  {
   "cell_type": "code",
   "execution_count": null,
   "metadata": {
    "colab": {
     "base_uri": "https://localhost:8080/"
    },
    "id": "1VFw0D6Yyk69",
    "outputId": "7cb35a0d-dcf3-4bd4-d148-8536717b5b68"
   },
   "outputs": [],
   "source": [
    "## Conditional execution\n",
    "\n",
    "# if 4 is larger than 5 then do something\n",
    "if 4 > 5:\n",
    "    # one or more commands to execute if the condition is True\n",
    "    print(\"4 is larger than 5 wow!\")\n",
    "    print(\"Still inside if statement\")\n",
    "    \n",
    "# now we are out of the \"if\" command\n",
    "print(\"Always prints\")"
   ]
  },
  {
   "cell_type": "code",
   "execution_count": null,
   "metadata": {
    "colab": {
     "base_uri": "https://localhost:8080/"
    },
    "id": "ff_Wgf1kyk69",
    "outputId": "97ea5eb7-f10d-4136-e898-d87e82e3a52e"
   },
   "outputs": [],
   "source": [
    "if 5 == 6:\n",
    "    print(\"hello that's magic\")\n",
    "    \n",
    "if 5 != 6:\n",
    "    print(\"hello that's not magic\")"
   ]
  },
  {
   "cell_type": "code",
   "execution_count": null,
   "metadata": {},
   "outputs": [],
   "source": [
    "my_number = 12\n",
    "\n",
    "# we can compare variable values, too\n",
    "if my_number > 10:\n",
    "    print(\"This number is larger than 10!\")"
   ]
  },
  {
   "cell_type": "code",
   "execution_count": null,
   "metadata": {},
   "outputs": [],
   "source": [
    "my_number = 9\n",
    "\n",
    "# \"else\" code block is executed if the condition is False\n",
    "\n",
    "if my_number > 10:\n",
    "    print(\"This number is larger than 10!\")\n",
    "\n",
    "else:   # if the number is <= 10\n",
    "    print(\"This number is smaller than or equal to 10\")"
   ]
  },
  {
   "cell_type": "code",
   "execution_count": null,
   "metadata": {},
   "outputs": [],
   "source": [
    "# \"elif\" (short for \"else if\") lets us do more comparisons:\n",
    "#  - \"elif\" condition is checked if the main condition is False\n",
    "\n",
    "if my_number > 10:\n",
    "    print(\"This number is larger than 10!\")\n",
    "elif my_number < 10:\n",
    "    print(\"This number is smaller than 10!\")\n",
    "else:   # if the number is <= 10\n",
    "    print(\"This number is equal to 10!\")"
   ]
  },
  {
   "cell_type": "code",
   "execution_count": null,
   "metadata": {
    "colab": {
     "base_uri": "https://localhost:8080/"
    },
    "id": "mjfeVd-9NE-b",
    "outputId": "350083ea-c0ca-4b25-bf60-b297843b9640"
   },
   "outputs": [],
   "source": [
    "# we can compare text strings\n",
    "\"John\" != \"Peter\" # we check for inequality"
   ]
  },
  {
   "cell_type": "code",
   "execution_count": null,
   "metadata": {
    "colab": {
     "base_uri": "https://localhost:8080/"
    },
    "id": "kw3qO4D8NKp1",
    "outputId": "61da2202-e6df-4756-ea35-e1d75ba35238"
   },
   "outputs": [],
   "source": [
    "# same as\n",
    "not \"John\" == \"Peter\""
   ]
  },
  {
   "cell_type": "code",
   "execution_count": null,
   "metadata": {},
   "outputs": [],
   "source": [
    "name"
   ]
  },
  {
   "cell_type": "code",
   "execution_count": null,
   "metadata": {},
   "outputs": [],
   "source": [
    "if name == \"Valdis\":\n",
    "    print(f\"Hey, {name}!\")\n",
    "else:\n",
    "    print(\"Who are you?\")"
   ]
  },
  {
   "cell_type": "markdown",
   "metadata": {
    "id": "QtrFl0dByk6-"
   },
   "source": [
    "## Loops\n",
    "\n",
    "Loops are used for performing the same or similar action multiple times.\n",
    "\n",
    "*While loop* is executed while its condition remains True.\n",
    "\n",
    "*For loop* is executed a specified number of times or once for each item in a collection (e.g. once for each word in a list of words)."
   ]
  },
  {
   "cell_type": "code",
   "execution_count": null,
   "metadata": {
    "id": "nMuqut4Fyk6-"
   },
   "outputs": [],
   "source": [
    "i = 0\n",
    "\n",
    "while i < 5:\n",
    "    print(i)\n",
    "    i = i+1   # it is important to increase the value of i here!!!"
   ]
  },
  {
   "cell_type": "code",
   "execution_count": null,
   "metadata": {
    "colab": {
     "base_uri": "https://localhost:8080/"
    },
    "id": "gVUkUAQFQQlo",
    "outputId": "19a3e706-8e3f-4e4e-92fb-4346e9ed6b84"
   },
   "outputs": [],
   "source": [
    "i"
   ]
  },
  {
   "cell_type": "code",
   "execution_count": null,
   "metadata": {
    "id": "O8Rk73-4yk6-"
   },
   "outputs": [],
   "source": [
    "# What would happen if we did not have i = i+1 in our program?"
   ]
  },
  {
   "cell_type": "code",
   "execution_count": null,
   "metadata": {},
   "outputs": [],
   "source": [
    "# \"break\" lets us stop the execution of the loop when needed\n",
    "\n",
    "i = 0\n",
    "\n",
    "while i < 10:\n",
    "    # normally this will execute until i reaches 10\n",
    "\n",
    "    print(\"Executing the loop\")\n",
    "    print(f\"i = {i}\")\n",
    "\n",
    "    if i == 4:\n",
    "        # but we will stop the loop early = when the \"if\" condition is True\n",
    "        print(\"Stopping the loop\")\n",
    "        break\n",
    "\n",
    "    i = i+1\n",
    "    "
   ]
  },
  {
   "cell_type": "code",
   "execution_count": null,
   "metadata": {},
   "outputs": [],
   "source": [
    "# We can use a while loop to make a user enter a positive number\n",
    "\n",
    "while True:   # careful - this is an infinite loop, we will need to use \"break\" to exit it\n",
    "\n",
    "    value = int(input(\"Enter a positive number: \"))\n",
    "\n",
    "    if value <= 0:\n",
    "        print(\"... this is not a positive number. Try again.\")\n",
    "        print()\n",
    "\n",
    "    else:\n",
    "        print(\"Thank you!\")\n",
    "        print()\n",
    "        # stop the loop (!)\n",
    "        break\n",
    "\n",
    "print(f\"You entered: {value}\")\n"
   ]
  },
  {
   "cell_type": "markdown",
   "metadata": {},
   "source": [
    "---\n",
    "\n",
    "#### For loops\n",
    "\n"
   ]
  },
  {
   "cell_type": "code",
   "execution_count": null,
   "metadata": {},
   "outputs": [],
   "source": [
    "# this will execute 4 times\n",
    "\n",
    "# range(4) returns 4 integer values starting from 0\n",
    "for i in range(4):\n",
    "    print(\"Hello!\")"
   ]
  },
  {
   "cell_type": "code",
   "execution_count": null,
   "metadata": {},
   "outputs": [],
   "source": [
    "# range(4) returns 4 integer values starting from 0\n",
    "for i in range(4):\n",
    "    print(i)"
   ]
  },
  {
   "cell_type": "code",
   "execution_count": null,
   "metadata": {
    "colab": {
     "base_uri": "https://localhost:8080/"
    },
    "id": "7i5PqpL4xgie",
    "outputId": "8336f9be-312b-4791-af32-d6181c9e8e36"
   },
   "outputs": [],
   "source": [
    "print(list(range(4)))"
   ]
  },
  {
   "cell_type": "code",
   "execution_count": null,
   "metadata": {},
   "outputs": [],
   "source": [
    "# we can also specify the start number of a range()\n",
    "print(list(range(1,10)))"
   ]
  },
  {
   "cell_type": "code",
   "execution_count": null,
   "metadata": {},
   "outputs": [],
   "source": [
    "# there's also a 3rd parameter = step\n",
    "print(list(range(1,10,2)))"
   ]
  },
  {
   "cell_type": "markdown",
   "metadata": {},
   "source": [
    "#### Iterating through collections of items"
   ]
  },
  {
   "cell_type": "code",
   "execution_count": null,
   "metadata": {
    "colab": {
     "base_uri": "https://localhost:8080/"
    },
    "id": "o7QcqVXDyk6-",
    "outputId": "7ef1a04e-9042-4f8b-9910-ecbfa73e0286"
   },
   "outputs": [],
   "source": [
    "# we can loop / iterate through all characters of a string\n",
    "\n",
    "for c in \"Uldis\":\n",
    "    print(c)"
   ]
  },
  {
   "cell_type": "code",
   "execution_count": null,
   "metadata": {
    "colab": {
     "base_uri": "https://localhost:8080/"
    },
    "id": "doytMtkJdd8E",
    "outputId": "7a27bc56-3e1d-41db-d0db-9e3fa87b0268"
   },
   "outputs": [],
   "source": [
    "# we can also loop / iterate through lists\n",
    "\n",
    "myList = [\"one\", \"two\", \"three\"]\n",
    "\n",
    "for c in myList:\n",
    "    print(c)"
   ]
  },
  {
   "cell_type": "code",
   "execution_count": null,
   "metadata": {
    "colab": {
     "base_uri": "https://localhost:8080/"
    },
    "id": "Agmjsv_bQ9ja",
    "outputId": "dcbe955e-cc81-4655-8e09-dba397f220e1"
   },
   "outputs": [],
   "source": [
    "# we use enumerate when we need index for whatever we are looping through\n",
    "for num, value in enumerate(myList):\n",
    "    print(num, value)"
   ]
  },
  {
   "cell_type": "code",
   "execution_count": null,
   "metadata": {},
   "outputs": [],
   "source": [
    "shopping_list"
   ]
  },
  {
   "cell_type": "code",
   "execution_count": null,
   "metadata": {
    "colab": {
     "base_uri": "https://localhost:8080/"
    },
    "id": "1ykMR6anS1wS",
    "outputId": "d3176422-31f0-4f80-a670-69e641405a40"
   },
   "outputs": [],
   "source": [
    "for need_to_buy in shopping_list:\n",
    "    print(\"Need to buy\", need_to_buy)\n",
    "    # here we could actually do the actual buying operation"
   ]
  },
  {
   "cell_type": "code",
   "execution_count": null,
   "metadata": {
    "id": "hwjDVnwpyk6_"
   },
   "outputs": [],
   "source": [
    "myline = \"Mr. Sherlock Holmes, who was usually very late in the mornings\""
   ]
  },
  {
   "cell_type": "code",
   "execution_count": null,
   "metadata": {
    "id": "n5wwnnSHyk7A"
   },
   "outputs": [],
   "source": [
    "words = myline.split()"
   ]
  },
  {
   "cell_type": "code",
   "execution_count": null,
   "metadata": {
    "colab": {
     "base_uri": "https://localhost:8080/"
    },
    "id": "2ljnfqi1yk7B",
    "outputId": "8e60bfe3-eab8-4670-8c8d-1647647f1db0"
   },
   "outputs": [],
   "source": [
    "for item in words:\n",
    "    print(item)"
   ]
  },
  {
   "cell_type": "markdown",
   "metadata": {
    "id": "Ab46RX_Ayk63"
   },
   "source": [
    "## Python Lists\n",
    "\n",
    "* Ordered\n",
    "* Mutable(can change individual members!)\n",
    "* Comma separated between brackets [1,3,2,5,6,2]\n",
    "* Can have duplicates\n",
    "* Can be nested\n"
   ]
  },
  {
   "cell_type": "code",
   "execution_count": null,
   "metadata": {},
   "outputs": [],
   "source": [
    "help(list)"
   ]
  },
  {
   "cell_type": "code",
   "execution_count": null,
   "metadata": {
    "colab": {
     "base_uri": "https://localhost:8080/"
    },
    "id": "Pj1LtSiiyk63",
    "outputId": "0d27b0fd-d665-4fd2-8537-5f30f65acfc5"
   },
   "outputs": [],
   "source": [
    "mylist = list(range(11,21))\n",
    "print(mylist)"
   ]
  },
  {
   "cell_type": "code",
   "execution_count": null,
   "metadata": {
    "colab": {
     "base_uri": "https://localhost:8080/"
    },
    "id": "ov8VuKAEw4oZ",
    "outputId": "cefc4826-4728-495f-9645-11f4e3658aaf"
   },
   "outputs": [],
   "source": [
    "shopping_list = [\"Chocolate\", \"Milk\", \"Cookies\"] # so we created a list of 3 strings - can be changed later on as needed\n",
    "shopping_list"
   ]
  },
  {
   "cell_type": "code",
   "execution_count": null,
   "metadata": {
    "id": "bJTsR9XHdd8J"
   },
   "outputs": [],
   "source": [
    "shopping_list.extend([\"Salt\", \"Pepper\"])"
   ]
  },
  {
   "cell_type": "code",
   "execution_count": null,
   "metadata": {
    "colab": {
     "base_uri": "https://localhost:8080/"
    },
    "id": "4Ks6XPhfdd8J",
    "outputId": "843c6fad-6a59-455b-cadd-899ea21c6901"
   },
   "outputs": [],
   "source": [
    "shopping_list"
   ]
  },
  {
   "cell_type": "code",
   "execution_count": null,
   "metadata": {
    "id": "H0ze-DyXdd8J"
   },
   "outputs": [],
   "source": [
    "shopping_list.remove(\"Pepper\")"
   ]
  },
  {
   "cell_type": "code",
   "execution_count": null,
   "metadata": {
    "colab": {
     "base_uri": "https://localhost:8080/"
    },
    "id": "87hDJULZdd8K",
    "outputId": "5c2869f8-e382-4e62-ac64-6ab7fd0b22a6"
   },
   "outputs": [],
   "source": [
    "shopping_list"
   ]
  },
  {
   "cell_type": "code",
   "execution_count": null,
   "metadata": {},
   "outputs": [],
   "source": [
    "shopping_list[0]"
   ]
  },
  {
   "cell_type": "code",
   "execution_count": null,
   "metadata": {
    "colab": {
     "base_uri": "https://localhost:8080/",
     "height": 36
    },
    "id": "zyZZ9KXGxQog",
    "outputId": "7c54ae43-8d29-471f-edfb-0453484caba3"
   },
   "outputs": [],
   "source": [
    "shopping_list[-1]"
   ]
  },
  {
   "cell_type": "code",
   "execution_count": null,
   "metadata": {
    "colab": {
     "base_uri": "https://localhost:8080/"
    },
    "id": "Xd3DkIPgxYmL",
    "outputId": "71683cc2-9acc-4d5f-a3a0-cce76141a4d2"
   },
   "outputs": [],
   "source": [
    "# We can change contents of a list\n",
    "shopping_list[-1] = \"Potatoes\"\n",
    "shopping_list"
   ]
  },
  {
   "cell_type": "code",
   "execution_count": null,
   "metadata": {},
   "outputs": [],
   "source": [
    "shopping_list.sort()   # sorts IN-PLACE!\n",
    "\n",
    "print(shopping_list)"
   ]
  },
  {
   "cell_type": "markdown",
   "metadata": {
    "id": "lS62R1xHyk63"
   },
   "source": [
    "### Slice notation\n",
    "\n",
    "We can access fragments (slices) of strings or lists using the slice notation:\n",
    "\n",
    "`somestring[start:end:step]`\n",
    "\n",
    "`somelist[start:end:step]`\n",
    "\n",
    "start is at index 0 (first element), end is -1 the actual index"
   ]
  },
  {
   "cell_type": "code",
   "execution_count": null,
   "metadata": {},
   "outputs": [],
   "source": [
    "mylist"
   ]
  },
  {
   "cell_type": "code",
   "execution_count": null,
   "metadata": {
    "colab": {
     "base_uri": "https://localhost:8080/"
    },
    "id": "cg8Nn8Xlyk64",
    "outputId": "e9f2d558-e903-42a8-8de4-152157360fa8"
   },
   "outputs": [],
   "source": [
    "# slice notation:\n",
    "mylist[3:]   # all starting from the 4th element (with index 3)"
   ]
  },
  {
   "cell_type": "code",
   "execution_count": null,
   "metadata": {
    "colab": {
     "base_uri": "https://localhost:8080/"
    },
    "id": "PF9Pqnyeyk64",
    "outputId": "c1ee04fc-e78e-48db-db19-d1ca5418cea1"
   },
   "outputs": [],
   "source": [
    "mylist[:-2]   # so everything BUT the last two items"
   ]
  },
  {
   "cell_type": "code",
   "execution_count": null,
   "metadata": {},
   "outputs": [],
   "source": [
    "mylist[3:-2]   # starting from the 4th element, not including the last two items"
   ]
  },
  {
   "cell_type": "code",
   "execution_count": null,
   "metadata": {
    "colab": {
     "base_uri": "https://localhost:8080/"
    },
    "id": "xmKJGEc0yk64",
    "outputId": "d0d486e8-18bd-44af-b6eb-eff9c6d82083"
   },
   "outputs": [],
   "source": [
    "mylist[::2]    # every other item"
   ]
  },
  {
   "cell_type": "code",
   "execution_count": null,
   "metadata": {
    "colab": {
     "base_uri": "https://localhost:8080/"
    },
    "id": "XsTGTVo0yk65",
    "outputId": "0bf92f70-1f65-4d59-f833-e7f2bcff72b1"
   },
   "outputs": [],
   "source": [
    "mylist[::-1]   # in reverse order"
   ]
  },
  {
   "cell_type": "code",
   "execution_count": null,
   "metadata": {},
   "outputs": [],
   "source": [
    "shopping_list[::-1]"
   ]
  },
  {
   "cell_type": "markdown",
   "metadata": {
    "id": "LFGg71Z6yk65"
   },
   "source": [
    "\n",
    "### Common list methods.\n",
    "* list.append(elem) -- adds a single element to the end of the list. Common error: does not return the new list, just modifies the original.\n",
    "* list.insert(index, elem) -- inserts the element at the given index, shifting elements to the right.\n",
    "* list.extend(list2) adds the elements in list2 to the end of the list. Using + or += on a list is similar to using extend().\n",
    "* list.index(elem) -- searches for the given element from the start of the list and returns its index. Throws a ValueError if the element does not appear (use \"in\" to check without a ValueError).\n",
    "* list.remove(elem) -- searches for the first instance of the given element and removes it (throws ValueError if not present)\n",
    "* list.sort() -- sorts the list in place (does not return it). (The sorted() function shown later is preferred.)\n",
    "* list.reverse() -- reverses the list in place (does not return it)\n",
    "* list.pop(index)-- removes and returns the element at the given index. Returns the rightmost element if index is omitted (roughly the opposite of append())."
   ]
  },
  {
   "cell_type": "code",
   "execution_count": null,
   "metadata": {
    "colab": {
     "base_uri": "https://localhost:8080/"
    },
    "id": "pbsx7duKx5ha",
    "outputId": "df53ab67-b744-4718-8ee3-0389a59754fb"
   },
   "outputs": [],
   "source": [
    "shopping_list"
   ]
  },
  {
   "cell_type": "code",
   "execution_count": null,
   "metadata": {
    "colab": {
     "base_uri": "https://localhost:8080/"
    },
    "id": "NQetZY088Pyg",
    "outputId": "75fd344f-5bdf-4dea-f661-03b87b387c00"
   },
   "outputs": [],
   "source": [
    "# this will print the various methods of the list object\n",
    "\n",
    "my_dir = dir(shopping_list)\n",
    "\n",
    "for elem in my_dir:\n",
    "  if not elem.startswith(\"__\"):\n",
    "    print(elem)"
   ]
  },
  {
   "cell_type": "code",
   "execution_count": null,
   "metadata": {
    "colab": {
     "base_uri": "https://localhost:8080/"
    },
    "id": "Kbu66bEgx9-s",
    "outputId": "4049c061-583d-4376-89ed-a58a849c5428"
   },
   "outputs": [],
   "source": [
    "shopping_list.append(\"Kefir\")\n",
    "shopping_list"
   ]
  },
  {
   "cell_type": "code",
   "execution_count": null,
   "metadata": {
    "id": "ud2TTZg0dd8N"
   },
   "outputs": [],
   "source": [
    "shopping_list.insert(0, \"Pineapple\")"
   ]
  },
  {
   "cell_type": "code",
   "execution_count": null,
   "metadata": {
    "colab": {
     "base_uri": "https://localhost:8080/"
    },
    "id": "PvjtZS_Xdd8N",
    "outputId": "4f601e1f-f1b0-4322-b541-83b65c56c3d0"
   },
   "outputs": [],
   "source": [
    "shopping_list"
   ]
  },
  {
   "cell_type": "code",
   "execution_count": null,
   "metadata": {
    "colab": {
     "base_uri": "https://localhost:8080/"
    },
    "id": "U3febKV1yMUI",
    "outputId": "fd826178-a36f-4186-cd71-a6cdc3a808f2",
    "scrolled": true
   },
   "outputs": [],
   "source": [
    "shopping_list.sort() # this will sort a list\n",
    "shopping_list"
   ]
  },
  {
   "cell_type": "code",
   "execution_count": null,
   "metadata": {
    "colab": {
     "base_uri": "https://localhost:8080/",
     "height": 36
    },
    "id": "BFKb0RSz757T",
    "outputId": "4829cd90-a9fa-45bb-bfda-a8c4c56b551a"
   },
   "outputs": [],
   "source": [
    "shopping_list.pop()   # removes the last element and returns its value"
   ]
  },
  {
   "cell_type": "code",
   "execution_count": null,
   "metadata": {
    "colab": {
     "base_uri": "https://localhost:8080/"
    },
    "id": "HPVmzRXo8AXB",
    "outputId": "eeebb33a-ffeb-4a2f-f02f-f82531f3e3e0"
   },
   "outputs": [],
   "source": [
    "shopping_list"
   ]
  },
  {
   "cell_type": "markdown",
   "metadata": {
    "id": "RQcOE-H0-O6y"
   },
   "source": [
    "---\n",
    "\n",
    "### Generating random numbers\n",
    "\n",
    "We will need to *import* a separate *library* for generating random numbers.\n",
    "\n",
    "We will look at importing libraries in a later lecture, for now just write the commands as they appear here."
   ]
  },
  {
   "cell_type": "code",
   "execution_count": null,
   "metadata": {
    "id": "cDo2NqOi-JGq"
   },
   "outputs": [],
   "source": [
    "import random\n"
   ]
  },
  {
   "cell_type": "code",
   "execution_count": null,
   "metadata": {
    "colab": {
     "base_uri": "https://localhost:8080/"
    },
    "id": "A6alTweO-ix-",
    "outputId": "70b3db75-e502-487f-df06-c01e598fca1f"
   },
   "outputs": [],
   "source": [
    "skaitlis = random.randint(1, 6)\n",
    "\n",
    "print(skaitlis)"
   ]
  },
  {
   "cell_type": "code",
   "execution_count": null,
   "metadata": {
    "colab": {
     "base_uri": "https://localhost:8080/"
    },
    "id": "__9ByRkx-Xyy",
    "outputId": "5f3a3347-7efe-445c-d3aa-bdb19a324896"
   },
   "outputs": [],
   "source": [
    "help(random.randint)"
   ]
  },
  {
   "cell_type": "code",
   "execution_count": null,
   "metadata": {},
   "outputs": [],
   "source": [
    "# this will list the different functions that this library contains\n",
    "[i for i in dir(random) if not i.startswith(\"_\")]"
   ]
  },
  {
   "cell_type": "code",
   "execution_count": null,
   "metadata": {},
   "outputs": [],
   "source": [
    "help(random.choice)"
   ]
  },
  {
   "cell_type": "code",
   "execution_count": null,
   "metadata": {},
   "outputs": [],
   "source": [
    "my_list = [\"Apple\", \"Pear\", \"Orange\", \"Pineapple\"]\n",
    "\n",
    "print(random.choice(my_list))\n",
    "print(random.choice(my_list))\n",
    "print(random.choice(my_list))"
   ]
  },
  {
   "cell_type": "markdown",
   "metadata": {
    "id": "Rq7cOLLMyk7E"
   },
   "source": [
    "## Most important Python ideas <a class=\"anchor\" id=\"python-ideas\">\n",
    "    \n",
    "[Back to Table of Contents](#toc)\n",
    "\n",
    "* dir(myobject)\n",
    "    * to find what can be done (most decent text editors/IDEs will offer autocompletion and hints though)\n",
    "* help(myobject)\n",
    "    * general help\n",
    "* type(myobject)\n",
    "    * what type it is\n",
    "\n",
    "## Slicing Syntax for sequences(strings,lists and more)\n",
    "```\n",
    "myname[start:end:step]\n",
    "myname[:5]\n",
    "```\n",
    "\n",
    "## : indicates a new indentation level (code block)\n",
    "\n",
    "```\n",
    "if x > 5:\n",
    "     print(\"Do Work when x > 5\")\n",
    "print(\"Always Do this\")\n",
    "```"
   ]
  },
  {
   "cell_type": "markdown",
   "metadata": {
    "id": "z1q0FQFKyk7E"
   },
   "source": [
    "# Python Resources <a class=\"anchor\" id=\"learning-resources\">\n",
    "    \n",
    "[Back to Table of Contents](#toc)"
   ]
  },
  {
   "cell_type": "markdown",
   "metadata": {
    "id": "ghG_aM5ayk7E"
   },
   "source": [
    "## Wiki for Tutorials\n",
    "\n",
    "https://wiki.python.org/moin/BeginnersGuide/NonProgrammers"
   ]
  },
  {
   "cell_type": "markdown",
   "metadata": {
    "id": "R34PGbyzyk7E"
   },
   "source": [
    "## Tutorials Begginner to Intermediate\n",
    "\n",
    "\n",
    "\n",
    "\n",
    "* https://automatetheboringstuff.com/ - Anything by Al Sweigart is great\n",
    "* [Think Like a Computer Scientist](https://openbookproject.net/thinkcs/python/english3e/) full tutorial\n",
    "* [Non-Programmers Tutorial for Python 3](https://en.wikibooks.org/wiki/Non-Programmer%27s_Tutorial_for_Python_3) quite good for wikibooks\n",
    "* [Real Python](https://realpython.com/) Python Tutorials for all levels\n",
    "\n",
    "\n",
    "* [Learn Python 3 the Hard Way](https://learnpythonthehardway.org/python3/intro.html) controversial author but very exhaustive, some like this approach"
   ]
  },
  {
   "cell_type": "markdown",
   "metadata": {
    "id": "k65CF3Hdyk7E"
   },
   "source": [
    "## More Advanced Python Specific Books\n",
    "\n",
    "* [Python Cookbook](https://www.amazon.com/Python-Cookbook-Third-David-Beazley/dp/1449340377) Recipes for specific situations\n",
    "\n",
    "* [Effective Python](https://effectivepython.com/) best practices\n",
    "* [Fluent Python](http://shop.oreilly.com/product/0636920032519.do) **highly recommended**, shows Python's advantages"
   ]
  },
  {
   "cell_type": "markdown",
   "metadata": {
    "id": "B0Q3iEMFyk7E"
   },
   "source": [
    "## General Best Practices Books\n",
    "#### (not Python specific)\n",
    "\n",
    "* [Code Complete 2](https://www.goodreads.com/book/show/4845.Code_Complete) - Fantastic best practices\n",
    "* [The Mythical Man-Month](https://en.wikipedia.org/wiki/The_Mythical_Man-Month) - No silver bullet even after 40 years.\n",
    "* [The Pragmatic Programmer](https://www.amazon.com/Pragmatic-Programmer-Journeyman-Master/dp/020161622X) - More practical advice\n",
    "* [Clean Code](https://www.amazon.com/Clean-Code-Handbook-Software-Craftsmanship/dp/0132350882) - more towards agile"
   ]
  },
  {
   "cell_type": "markdown",
   "metadata": {
    "id": "EJoNusgnyk7E"
   },
   "source": [
    "## Blogs / Personalities / forums\n",
    "\n",
    "* [Dan Bader](https://dbader.org/)\n",
    "* [Reddit Python](https://www.reddit.com/r/python)"
   ]
  },
  {
   "cell_type": "markdown",
   "metadata": {
    "id": "Vb1uuHhJyk7E"
   },
   "source": [
    "## Exercises/Challenges\n",
    "* http://www.pythonchallenge.com/ - first one is easy but after that...\n",
    "* [Advent of Code](https://adventofcode.com/) - yearly programming challenges\n",
    "* https://projecteuler.net/ - gets very mathematical but first problems are great for testing"
   ]
  },
  {
   "cell_type": "markdown",
   "metadata": {
    "id": "6AePUe0Qyk7F"
   },
   "source": [
    "## Explore Public Notebooks on Github\n",
    " Download them and try them out for yourself\n",
    "\n",
    "https://github.com/jupyter/jupyter/wiki/A-gallery-of-interesting-Jupyter-Notebooks"
   ]
  },
  {
   "cell_type": "markdown",
   "metadata": {
    "id": "IuOw1wXiyk7F"
   },
   "source": [
    "## Questions / Suggestions ?\n",
    "\n",
    "This notebook is based on the Python introduction notebook by Valdis Saulespurēns:\n",
    "* https://github.com/ValRCS/BSSDH_22/blob/main/notebooks/Python%20Introduction.ipynb\n",
    "\n",
    "e-mail **uldis.bojars at gmail.com**"
   ]
  }
 ],
 "metadata": {
  "colab": {
   "provenance": []
  },
  "kernelspec": {
   "display_name": "Python 3 (ipykernel)",
   "language": "python",
   "name": "python3"
  },
  "language_info": {
   "codemirror_mode": {
    "name": "ipython",
    "version": 3
   },
   "file_extension": ".py",
   "mimetype": "text/x-python",
   "name": "python",
   "nbconvert_exporter": "python",
   "pygments_lexer": "ipython3",
   "version": "3.12.7"
  }
 },
 "nbformat": 4,
 "nbformat_minor": 4
}
