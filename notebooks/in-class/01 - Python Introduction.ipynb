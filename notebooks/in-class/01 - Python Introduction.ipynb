{
  "cells": [
    {
      "cell_type": "markdown",
      "metadata": {
        "id": "oXukXEtEyk6m"
      },
      "source": [
        "# <center>Introduction to Programming with Python</center>\n",
        "![Python](https://www.python.org/static/community_logos/python-logo-generic.svg)"
      ]
    },
    {
      "cell_type": "markdown",
      "metadata": {
        "id": "axTj4oGryk6q"
      },
      "source": [
        "![xkcd](https://imgs.xkcd.com/comics/python.png)"
      ]
    },
    {
      "cell_type": "markdown",
      "metadata": {
        "id": "0I4yCl8Ayk6q"
      },
      "source": [
        "# Table of Contents <a class=\"anchor\" id=\"toc\">\n",
        "\n",
        "* [Python History](#python-history)\n",
        "* [What is Programming?](#what-is-programming)\n",
        "* [Python Installation](#python-install)\n",
        "  * [Hello World](#hello-world)\n",
        "* [Jupyter Notebook Basics](#jupyter-basics)\n",
        "* [Values](#values)\n",
        "* [Variables](#variables)\n",
        "* [Arithmetic](#arithmetic)\n",
        "* [Strings](#strings)\n",
        "* [Learning Resources](#learning-resources)"
      ]
    },
    {
      "cell_type": "markdown",
      "metadata": {
        "id": "zpS3l9lXyk6t"
      },
      "source": [
        "## Python History <a class=\"anchor\" id=\"python-history\">\n",
        "    \n",
        "[Back to Table of Contents](#toc)\n"
      ]
    },
    {
      "cell_type": "markdown",
      "metadata": {
        "id": "cUpifjuIyk6u"
      },
      "source": [
        "### Python created by Guido von Rossum in early 1990s  (later at Google,Dropbox)\n",
        "\n",
        "![Guido](https://upload.wikimedia.org/wikipedia/commons/thumb/d/d0/Guido-portrait-2014-curvves.jpg/290px-Guido-portrait-2014-curvves.jpg)"
      ]
    },
    {
      "cell_type": "markdown",
      "metadata": {
        "id": "uzYh0KqdjAxl"
      },
      "source": [
        "Publicly released in 1991\n",
        " * exception handling\n",
        " * classes with inheritance\n",
        " * module system\n",
        " * core datatypes\n",
        "\n",
        "Python 2.0, released October 2000 - Support of Python 2 has ended as of January 1, 2020.\n",
        "\n",
        "Python 3.0, released December 2008\n",
        "* Most recent: Python 3.13, released October 2024\n",
        "* Yearly release cycle - 2025 will have Python 3.14 and so on\n",
        "\n",
        "[Python: The Documentary | An origin story (2025)](https://www.youtube.com/watch?v=GfH4QL4VqJ0)\n",
        "\n",
        "---\n",
        "\n",
        "- Information about Python releases: https://devguide.python.org/versions/\n",
        "\n",
        "- List of Python downloads: https://www.python.org/downloads/\n"
      ]
    },
    {
      "cell_type": "markdown",
      "metadata": {
        "id": "mj6ujX9yyk6v",
        "jp-MarkdownHeadingCollapsed": true
      },
      "source": [
        "### Python is programming language # 1 in TIOBE language index\n",
        "https://www.tiobe.com/tiobe-index/\n",
        "\n",
        "https://developers.slashdot.org/story/18/09/08/1722213/python-displaces-c-in-tiobe-index-top-3"
      ]
    },
    {
      "cell_type": "markdown",
      "metadata": {
        "id": "_SxUIYwIyk6w"
      },
      "source": [
        "## What is Programming? <a class=\"anchor\" id=\"what-is-programming\">\n",
        "    \n",
        "[Back to Table of Contents](#toc)\n",
        "\n",
        "* Egg algorithm\n",
        "* Computers are stupid, they only do what they are told to do\n",
        "* If it is stupid but it works, then it is not stupid\n",
        "* Make it work, make it right, make it fast (last two steps often not required in real life)\n",
        "* Error messages are nothing to be afraid of, usually the message will explain what needs fixing!"
      ]
    },
    {
      "cell_type": "markdown",
      "metadata": {
        "id": "hdJz4L1pyk6w"
      },
      "source": [
        "## Python Installation <a class=\"anchor\" id=\"python-install\">\n",
        "    \n",
        "[Back to Table of Contents](#toc)\n",
        "    \n",
        "a) Python website\n",
        "https://www.python.org/downloads/\n",
        "\n",
        "b) Anaconda (includes many additional libraries)\n",
        "https://www.anaconda.com/download/\n",
        "\n",
        "c) WinPython (Windows only, some libraries included)\n",
        "https://winpython.github.io/\n",
        "\n",
        "d) Google Colab (online Jupyter notebooks)\n",
        "https://colab.research.google.com/\n",
        "\n",
        "### Language reference: https://docs.python.org/3/index.html"
      ]
    },
    {
      "cell_type": "markdown",
      "metadata": {
        "id": "pspUEKcXyk6w"
      },
      "source": [
        "### \"Batteries included\"\n",
        "![Batteries](https://github.com/ValRCS/BSSDH_22/blob/main/notebooks/img/batteries_small.jpg?raw=1)\n",
        "\n",
        "* A lot of functionality included in the [Python Standard Library](https://docs.python.org/3/library/)\n",
        "* Additional Python libraries available from the [Python Package Index](https://pypi.org/)\n"
      ]
    },
    {
      "cell_type": "markdown",
      "metadata": {
        "id": "sAqO5OYfjAxo"
      },
      "source": [
        "## How to open this file on Google Colab\n",
        "\n",
        "Open this Jupyter notebook (`01 - Python Introduction.ipynb`) on Github:\n",
        "* https://github.com/CaptSolo/LU_GeoPython/tree/main/notebooks\n",
        "\n",
        "Download the notebook file to your computer: click the \"Download raw file\" button.\n",
        "\n",
        "Open [Google Colab](https://colab.research.google.com/), choose the \"Upload\" tab and upload the downloaded notebook file.\n",
        "* Uploaded notebooks can be found in the Google Drive folder `Colab Notebooks`\n",
        "\n"
      ]
    },
    {
      "cell_type": "markdown",
      "metadata": {
        "id": "yiyGuShEjAxp"
      },
      "source": [
        "## Running Python\n",
        "\n",
        "**Python = Interpreted Language (commands are executed one by one)**\n",
        "* REPL(Read,Evaluate,Print Loop)\n",
        "\n",
        "**Options for creating and running Python programs:**\n",
        "\n",
        "a) by entering commands in the Python interpreter (REPL loop);\n",
        "\n",
        "b) in Jupyter notebooks (similar to using Python's REPL but executed in web-based notebooks);\n",
        "\n",
        "c) as stand-alone Python programs (by editing Python code in your editor of choice).\n"
      ]
    },
    {
      "cell_type": "markdown",
      "metadata": {
        "id": "bHuO9QYfyk6r"
      },
      "source": [
        "## Hello World <a class=\"anchor\" id=\"hello-world\">\n",
        "    \n",
        "   [Back to Table of Contents](#toc)"
      ]
    },
    {
      "cell_type": "code",
      "execution_count": null,
      "metadata": {
        "id": "dHM2iMkEyk6w"
      },
      "outputs": [],
      "source": [
        "# Our first comment\n",
        "# Real Program Comments should generally describe why\n",
        "# Here comments will describe extra information not covered or needed for starting out\n",
        "\n",
        "# Python - Interpreted Language (commands executed as they come)\n",
        "\n",
        "# REPL(Read,Eval,Print,Loop) - interaction with Python interpreter"
      ]
    },
    {
      "cell_type": "code",
      "execution_count": null,
      "metadata": {
        "colab": {
          "base_uri": "https://localhost:8080/"
        },
        "id": "d2kT0NCCyk6r",
        "outputId": "5daa2ff6-eee7-487d-fc62-6ed0ce0cf346"
      },
      "outputs": [
        {
          "output_type": "stream",
          "name": "stdout",
          "text": [
            "Hello world! 1 2 3\n"
          ]
        }
      ],
      "source": [
        "print(\"Hello world!\", 1, 2, 3)"
      ]
    },
    {
      "cell_type": "code",
      "execution_count": null,
      "metadata": {
        "id": "fSK83QkGyk6s"
      },
      "outputs": [],
      "source": [
        "### Try printing a greeting of your own!\n"
      ]
    },
    {
      "cell_type": "code",
      "execution_count": null,
      "metadata": {
        "id": "45i-oQjayk6t",
        "scrolled": true
      },
      "outputs": [],
      "source": [
        "### What happens when you get an error?\n",
        "\n",
        "# uncomment the next line to see an error message\n",
        "#print(\"not good)"
      ]
    },
    {
      "cell_type": "markdown",
      "metadata": {
        "id": "VYfAr3Xfyk6x"
      },
      "source": [
        "## Jupyter Notebook Basics <a class=\"anchor\" id=\"jupyter-basics\">\n",
        "    \n",
        "[Back to Table of Contents](#toc)\n",
        "\n",
        "In Jupyter Notebooks you work in cells that may contain Python code or specially formatted text (Markdown).\n",
        "\n",
        "These shortcuts work both in local Jupyter Notebooks and Google Colab:\n",
        "\n",
        "* Ctrl-Enter runs code of cell in place\n",
        "* Alt-Enter runs code for current cell and creates a new cell below\n",
        "* Esc-A creates a new cell above current cell\n",
        "* Esc-B creates a new cell below current cell\n",
        "\n",
        "These shortcuts do not work in Google Colab:\n",
        "\n",
        "* Esc-M turns cell into Markdown cell for formatting (https://guides.github.com/pdfs/markdown-cheatsheet-online.pdf)\n",
        "* Esc-Y turns cell into code cell\n",
        "* Esc-dd deletes current cell\n"
      ]
    },
    {
      "cell_type": "code",
      "execution_count": null,
      "metadata": {
        "id": "rh4XZC5pyk6x"
      },
      "outputs": [],
      "source": [
        "# Try Esc-B to create a new cell,\n",
        "# Enter print(\"Hello there!\")\n",
        "# Press Ctrl-Enter\n",
        "# Did you get any error messages?"
      ]
    },
    {
      "cell_type": "code",
      "source": [
        "print(1, 2, 3)"
      ],
      "metadata": {
        "colab": {
          "base_uri": "https://localhost:8080/"
        },
        "id": "APrG9ovypcKH",
        "outputId": "b3639276-11ae-4f19-d56a-b263ef9ac0aa"
      },
      "execution_count": null,
      "outputs": [
        {
          "output_type": "stream",
          "name": "stdout",
          "text": [
            "1 2 3\n"
          ]
        }
      ]
    },
    {
      "cell_type": "code",
      "execution_count": null,
      "metadata": {
        "id": "SdDfiaEdjAxs"
      },
      "outputs": [],
      "source": []
    },
    {
      "cell_type": "markdown",
      "metadata": {
        "id": "PjmtnXpUz3Ax"
      },
      "source": [
        "## Values <a class=\"anchor\" id=\"values\">\n",
        "    \n",
        "[Back to Table of Contents](#toc)"
      ]
    },
    {
      "cell_type": "code",
      "execution_count": null,
      "metadata": {
        "colab": {
          "base_uri": "https://localhost:8080/"
        },
        "id": "efQ2PYcAjAxt",
        "outputId": "13fb8a14-e95b-4b69-bafa-732a5dd88ed5"
      },
      "outputs": [
        {
          "output_type": "execute_result",
          "data": {
            "text/plain": [
              "42"
            ]
          },
          "metadata": {},
          "execution_count": 10
        }
      ],
      "source": [
        "# Integer value (vesels skaitlis)\n",
        "42"
      ]
    },
    {
      "cell_type": "code",
      "source": [
        "print(42)"
      ],
      "metadata": {
        "colab": {
          "base_uri": "https://localhost:8080/"
        },
        "id": "pC3xd7nhp_xF",
        "outputId": "b371464c-b576-4b24-9f7c-5bda06fb72d9"
      },
      "execution_count": null,
      "outputs": [
        {
          "output_type": "stream",
          "name": "stdout",
          "text": [
            "42\n"
          ]
        }
      ]
    },
    {
      "cell_type": "code",
      "execution_count": null,
      "metadata": {
        "colab": {
          "base_uri": "https://localhost:8080/"
        },
        "id": "ZTeAZl_3jAxt",
        "outputId": "3023d815-cd67-42a8-d4f2-50ab1a769956"
      },
      "outputs": [
        {
          "output_type": "execute_result",
          "data": {
            "text/plain": [
              "int"
            ]
          },
          "metadata": {},
          "execution_count": 12
        }
      ],
      "source": [
        "type(42)"
      ]
    },
    {
      "cell_type": "code",
      "execution_count": null,
      "metadata": {
        "id": "ZSbpETRAjAxt"
      },
      "outputs": [],
      "source": [
        "1000000000"
      ]
    },
    {
      "cell_type": "code",
      "execution_count": null,
      "metadata": {
        "colab": {
          "base_uri": "https://localhost:8080/"
        },
        "id": "4zVR_v4hjAxu",
        "outputId": "e7b02680-a271-4bf4-9b3c-36f5d65e4331"
      },
      "outputs": [
        {
          "output_type": "execute_result",
          "data": {
            "text/plain": [
              "3.14159"
            ]
          },
          "metadata": {},
          "execution_count": 14
        }
      ],
      "source": [
        "# Floating point value (daļskaitlis)\n",
        "3.14159"
      ]
    },
    {
      "cell_type": "code",
      "execution_count": null,
      "metadata": {
        "colab": {
          "base_uri": "https://localhost:8080/"
        },
        "id": "yhTZH1j5jAxu",
        "outputId": "a4440015-8431-4298-db4b-23ebdc421cde"
      },
      "outputs": [
        {
          "output_type": "execute_result",
          "data": {
            "text/plain": [
              "float"
            ]
          },
          "metadata": {},
          "execution_count": 15
        }
      ],
      "source": [
        "type(3.14159)"
      ]
    },
    {
      "cell_type": "code",
      "execution_count": null,
      "metadata": {
        "colab": {
          "base_uri": "https://localhost:8080/",
          "height": 36
        },
        "id": "3I5vWUbwjAxu",
        "outputId": "fe055917-e96c-46e3-b16f-76c68506f0b2"
      },
      "outputs": [
        {
          "output_type": "execute_result",
          "data": {
            "text/plain": [
              "'Hello world'"
            ],
            "application/vnd.google.colaboratory.intrinsic+json": {
              "type": "string"
            }
          },
          "metadata": {},
          "execution_count": 16
        }
      ],
      "source": [
        "# Text string value (teksts)\n",
        "\"Hello world\""
      ]
    },
    {
      "cell_type": "code",
      "execution_count": null,
      "metadata": {
        "colab": {
          "base_uri": "https://localhost:8080/"
        },
        "id": "FgOHJq0ljAxv",
        "outputId": "504ea676-2046-452e-e656-c73ce321f43c"
      },
      "outputs": [
        {
          "output_type": "execute_result",
          "data": {
            "text/plain": [
              "str"
            ]
          },
          "metadata": {},
          "execution_count": 17
        }
      ],
      "source": [
        "type(\"Hello world\")"
      ]
    },
    {
      "cell_type": "code",
      "execution_count": null,
      "metadata": {
        "colab": {
          "base_uri": "https://localhost:8080/",
          "height": 36
        },
        "id": "ROXtSyDujAxv",
        "outputId": "79a1df0e-fdf8-4acd-cc22-f91698454288"
      },
      "outputs": [
        {
          "output_type": "execute_result",
          "data": {
            "text/plain": [
              "'Šī arī ir teksta rinda'"
            ],
            "application/vnd.google.colaboratory.intrinsic+json": {
              "type": "string"
            }
          },
          "metadata": {},
          "execution_count": 18
        }
      ],
      "source": [
        "# Text values can use both single quotes ' and double quotes \"\n",
        "'Šī arī ir teksta rinda'"
      ]
    },
    {
      "cell_type": "code",
      "execution_count": null,
      "metadata": {
        "colab": {
          "base_uri": "https://localhost:8080/"
        },
        "id": "6rCGKFMcjAxv",
        "outputId": "619c1b81-c9d9-4681-ff39-5ca005cf8401"
      },
      "outputs": [
        {
          "output_type": "stream",
          "name": "stdout",
          "text": [
            "\n",
            "Šis teksts\n",
            "aizņem vairākas\n",
            "rindas\n",
            "\n"
          ]
        }
      ],
      "source": [
        "print(\"\"\"\n",
        "Šis teksts\n",
        "aizņem vairākas\n",
        "rindas\n",
        "\"\"\")"
      ]
    },
    {
      "cell_type": "code",
      "execution_count": null,
      "metadata": {
        "colab": {
          "base_uri": "https://localhost:8080/"
        },
        "id": "59ncz_P8jAxw",
        "outputId": "bd0c8696-c5b9-4e9e-b3ed-e6fe25ebf7f4"
      },
      "outputs": [
        {
          "output_type": "execute_result",
          "data": {
            "text/plain": [
              "True"
            ]
          },
          "metadata": {},
          "execution_count": 20
        }
      ],
      "source": [
        "# Boolean value (loģiskā vērtība) = True (patiess) or False (nepatiess)\n",
        "True"
      ]
    },
    {
      "cell_type": "code",
      "execution_count": null,
      "metadata": {
        "colab": {
          "base_uri": "https://localhost:8080/"
        },
        "id": "kREjLvvUjAxw",
        "outputId": "edfdeb7b-c177-4a32-e460-c9814ca767d6"
      },
      "outputs": [
        {
          "output_type": "execute_result",
          "data": {
            "text/plain": [
              "bool"
            ]
          },
          "metadata": {},
          "execution_count": 21
        }
      ],
      "source": [
        "type(True)"
      ]
    },
    {
      "cell_type": "code",
      "execution_count": null,
      "metadata": {
        "colab": {
          "base_uri": "https://localhost:8080/"
        },
        "id": "WR19SaccjAxw",
        "outputId": "c6352416-55d6-489d-bb1b-3ad7f9508939"
      },
      "outputs": [
        {
          "output_type": "execute_result",
          "data": {
            "text/plain": [
              "False"
            ]
          },
          "metadata": {},
          "execution_count": 22
        }
      ],
      "source": [
        "True and False"
      ]
    },
    {
      "cell_type": "code",
      "execution_count": null,
      "metadata": {
        "id": "ddGJHPR7jAxw"
      },
      "outputs": [],
      "source": []
    },
    {
      "cell_type": "markdown",
      "metadata": {
        "id": "X_eMSCgIyk6x"
      },
      "source": [
        "## Variables <a class=\"anchor\" id=\"variables\">\n",
        "    \n",
        "[Back to Table of Contents](#toc)"
      ]
    },
    {
      "cell_type": "code",
      "execution_count": null,
      "metadata": {
        "id": "vdWtRQz0yk6x"
      },
      "outputs": [],
      "source": [
        "myname = \"Uldis\"\n",
        "# Creating our first variable\n",
        "# It will persist through this workbook once it is run"
      ]
    },
    {
      "cell_type": "code",
      "execution_count": null,
      "metadata": {
        "colab": {
          "base_uri": "https://localhost:8080/"
        },
        "id": "PacwSs_5m2MH",
        "outputId": "d9e6364e-8e99-45cf-e32d-785b596509ab"
      },
      "outputs": [
        {
          "output_type": "stream",
          "name": "stdout",
          "text": [
            "Uldis\n"
          ]
        }
      ],
      "source": [
        "print(myname)"
      ]
    },
    {
      "cell_type": "code",
      "execution_count": null,
      "metadata": {
        "id": "tWfsq8VEyk6y"
      },
      "outputs": [],
      "source": [
        "y = 2025"
      ]
    },
    {
      "cell_type": "code",
      "execution_count": null,
      "metadata": {
        "id": "Bd10yN8uyk6y"
      },
      "outputs": [],
      "source": [
        "the_answer = 42"
      ]
    },
    {
      "cell_type": "code",
      "execution_count": null,
      "metadata": {
        "id": "sShI_dNFyk6y"
      },
      "outputs": [],
      "source": [
        "myPi = 3.14159"
      ]
    },
    {
      "cell_type": "code",
      "execution_count": null,
      "metadata": {
        "id": "Sb_5-Sxdyk6y"
      },
      "outputs": [],
      "source": [
        "isHot = True"
      ]
    },
    {
      "cell_type": "code",
      "execution_count": null,
      "metadata": {
        "colab": {
          "base_uri": "https://localhost:8080/"
        },
        "id": "aRuSMQHDyk6z",
        "outputId": "f7b19882-520d-4818-ad06-73baaded66aa"
      },
      "outputs": [
        {
          "output_type": "execute_result",
          "data": {
            "text/plain": [
              "int"
            ]
          },
          "metadata": {},
          "execution_count": 30
        }
      ],
      "source": [
        "# type(variable_name) will return variable data type\n",
        "type(the_answer)"
      ]
    },
    {
      "cell_type": "code",
      "execution_count": null,
      "metadata": {
        "id": "v-u9Q4w0yk6z"
      },
      "outputs": [],
      "source": [
        "# What is the data type of myname ?\n",
        "# How about data type of isHot ?"
      ]
    },
    {
      "cell_type": "code",
      "execution_count": null,
      "metadata": {
        "colab": {
          "base_uri": "https://localhost:8080/"
        },
        "id": "1TKprZDunoi5",
        "outputId": "f13b233c-6131-47f8-f3fa-b41b6bcefd77"
      },
      "outputs": [
        {
          "output_type": "execute_result",
          "data": {
            "text/plain": [
              "str"
            ]
          },
          "metadata": {},
          "execution_count": 31
        }
      ],
      "source": [
        "type(myname)"
      ]
    },
    {
      "cell_type": "code",
      "execution_count": null,
      "metadata": {
        "colab": {
          "base_uri": "https://localhost:8080/"
        },
        "id": "oRy0DVUvoHmW",
        "outputId": "a26c7e10-ff94-4c16-ac6a-79aa25beaabb"
      },
      "outputs": [
        {
          "output_type": "execute_result",
          "data": {
            "text/plain": [
              "True"
            ]
          },
          "metadata": {},
          "execution_count": 33
        }
      ],
      "source": [
        "isHot"
      ]
    },
    {
      "cell_type": "code",
      "execution_count": null,
      "metadata": {
        "id": "7xqMGxnBjAxy"
      },
      "outputs": [],
      "source": [
        "# we can change the value stored in a variable\n",
        "isHot = False"
      ]
    },
    {
      "cell_type": "code",
      "execution_count": null,
      "metadata": {
        "id": "NkRUwL9FjAxy"
      },
      "outputs": [],
      "source": [
        "# ... it does not have to be the same type\n",
        "isHot = \"very hot\""
      ]
    },
    {
      "cell_type": "code",
      "source": [
        "isHot"
      ],
      "metadata": {
        "colab": {
          "base_uri": "https://localhost:8080/",
          "height": 36
        },
        "id": "ZgMTZIwrr0rv",
        "outputId": "5d829e9e-af18-4ca2-e621-c51fd9ecab75"
      },
      "execution_count": null,
      "outputs": [
        {
          "output_type": "execute_result",
          "data": {
            "text/plain": [
              "'very hot'"
            ],
            "application/vnd.google.colaboratory.intrinsic+json": {
              "type": "string"
            }
          },
          "metadata": {},
          "execution_count": 36
        }
      ]
    },
    {
      "cell_type": "code",
      "execution_count": null,
      "metadata": {
        "id": "h5ghzJQ9yk6z"
      },
      "outputs": [],
      "source": [
        "# Variable names cannot be reserved keywords\n",
        "help(\"keywords\")"
      ]
    },
    {
      "cell_type": "code",
      "execution_count": null,
      "metadata": {
        "id": "AYD9sHXGyk6z"
      },
      "outputs": [],
      "source": [
        "# Reserved Keywords\n",
        "\n",
        "# False               class               from                or\n",
        "# None                continue            global              pass\n",
        "# True                def                 if                  raise\n",
        "# and                 del                 import              return\n",
        "# as                  elif                in                  try\n",
        "# assert              else                is                  while\n",
        "# async               except              lambda              with\n",
        "# await               finally             nonlocal            yield\n",
        "# break               for                 not\n"
      ]
    },
    {
      "cell_type": "code",
      "execution_count": null,
      "metadata": {
        "id": "w0OP6NvsjAxz"
      },
      "outputs": [],
      "source": [
        "name1 = \"ABC\""
      ]
    },
    {
      "cell_type": "code",
      "execution_count": null,
      "metadata": {
        "id": "4YoJVqYljAx0"
      },
      "outputs": [],
      "source": [
        "my_name = \"Uldis\""
      ]
    },
    {
      "cell_type": "code",
      "execution_count": null,
      "metadata": {
        "colab": {
          "base_uri": "https://localhost:8080/"
        },
        "id": "rDEpoGFJof9g",
        "outputId": "ba56be29-9324-41bb-f594-a82d5da0d8db"
      },
      "outputs": [
        {
          "output_type": "stream",
          "name": "stdout",
          "text": [
            "Help on built-in function print in module builtins:\n",
            "\n",
            "print(*args, sep=' ', end='\\n', file=None, flush=False)\n",
            "    Prints the values to a stream, or to sys.stdout by default.\n",
            "\n",
            "    sep\n",
            "      string inserted between values, default a space.\n",
            "    end\n",
            "      string appended after the last value, default a newline.\n",
            "    file\n",
            "      a file-like object (stream); defaults to the current sys.stdout.\n",
            "    flush\n",
            "      whether to forcibly flush the stream.\n",
            "\n"
          ]
        }
      ],
      "source": [
        "# we can ask Python for help about its commands\n",
        "help(print)"
      ]
    },
    {
      "cell_type": "markdown",
      "metadata": {
        "id": "Qayktm7yyk6z"
      },
      "source": [
        "\n",
        "### Data types in Python 3.x\n",
        "\n",
        "* Integers\n",
        "  * type(42)\n",
        "  * int\n",
        "* Floating Point\n",
        "  * type(3.14)\n",
        "  * float\n",
        "* Boolean\n",
        "  * type(True),type(False)\n",
        "  * bool\n",
        "* String(ordered, immutable char sequence)\n",
        "  * type(\"OyCaramba\")\n",
        "  * str\n",
        "* List\n",
        "  * type([1,2,63,\"aha\",\"youcanmixtypeinsidelist\", [\"even\",\"nest\"]])\n",
        "  * list\n",
        "* Dictionary(key:value pairs)\n",
        "  * type({\"foo\":\"bar\", \"favoriteday\":\"Friday\"})\n",
        "  * dict\n",
        "* Tuple - ordered immutable sequence\n",
        "  * type((\"sup\",7,\"dwarves\"))\n",
        "  * tuple\n",
        "* Set (unordered collection of unique values)\n",
        "  * type({\"k\",\"a\",\"r\",\"t\",\"u\",\"p\",\"e\",\"l\",\"i\",\"s\"})\n",
        "  * set"
      ]
    },
    {
      "cell_type": "markdown",
      "metadata": {
        "id": "NLqBrqSmyk6z"
      },
      "source": [
        "## More on variables\n",
        "https://realpython.com/python-variables"
      ]
    },
    {
      "cell_type": "markdown",
      "metadata": {
        "id": "VNKMQuIyyk66"
      },
      "source": [
        "## Arithmetic Operators <a class=\"anchor\" id=\"arithmetic\">\n",
        "    \n",
        "[Back to Table of Contents](#toc)\n",
        "* `+ - * / `\n",
        "* `**(power)`\n",
        "* `% modulus`\n",
        "* `//(integer division)`\n",
        "* `() parenthesis for order`\n"
      ]
    },
    {
      "cell_type": "code",
      "execution_count": null,
      "metadata": {
        "colab": {
          "base_uri": "https://localhost:8080/"
        },
        "id": "nQX4h96pyk66",
        "outputId": "ed5c4944-8053-44ee-d762-34e8c40ee500"
      },
      "outputs": [
        {
          "output_type": "execute_result",
          "data": {
            "text/plain": [
              "24.0"
            ]
          },
          "metadata": {},
          "execution_count": 45
        }
      ],
      "source": [
        "(5+4)*3-(6/2)"
      ]
    },
    {
      "cell_type": "code",
      "execution_count": null,
      "metadata": {
        "colab": {
          "base_uri": "https://localhost:8080/"
        },
        "id": "n8wDrhb3JtYW",
        "outputId": "1c0cf131-a709-49fa-8e5f-43ad3c91b273"
      },
      "outputs": [
        {
          "output_type": "execute_result",
          "data": {
            "text/plain": [
              "2.5"
            ]
          },
          "metadata": {},
          "execution_count": 46
        }
      ],
      "source": [
        "5/2"
      ]
    },
    {
      "cell_type": "code",
      "execution_count": null,
      "metadata": {
        "colab": {
          "base_uri": "https://localhost:8080/"
        },
        "id": "iGIvNReTyk67",
        "outputId": "6c3ad9a9-54a8-45ad-e23b-6b2a5f6416ed",
        "scrolled": true
      },
      "outputs": [
        {
          "output_type": "execute_result",
          "data": {
            "text/plain": [
              "2"
            ]
          },
          "metadata": {},
          "execution_count": 47
        }
      ],
      "source": [
        "5//2 # gives you whole - integer division\n"
      ]
    },
    {
      "cell_type": "code",
      "execution_count": null,
      "metadata": {
        "colab": {
          "base_uri": "https://localhost:8080/"
        },
        "id": "akoyNPzFJ1Ez",
        "outputId": "3a5d3bb2-5cb3-432a-8e46-cbfdcaf23925"
      },
      "outputs": [
        {
          "output_type": "execute_result",
          "data": {
            "text/plain": [
              "1"
            ]
          },
          "metadata": {},
          "execution_count": 48
        }
      ],
      "source": [
        "5 % 2 # this gives you reminder / technically called modulo (works the same for positives)"
      ]
    },
    {
      "cell_type": "code",
      "execution_count": null,
      "metadata": {
        "id": "6jo8PZW8yk67",
        "colab": {
          "base_uri": "https://localhost:8080/"
        },
        "outputId": "48ed5767-0c61-46e3-e0ab-9ba26c47674e"
      },
      "outputs": [
        {
          "output_type": "execute_result",
          "data": {
            "text/plain": [
              "2"
            ]
          },
          "metadata": {},
          "execution_count": 49
        }
      ],
      "source": [
        "5 % 3"
      ]
    },
    {
      "cell_type": "code",
      "execution_count": null,
      "metadata": {
        "id": "5bYgoxkzyk67",
        "colab": {
          "base_uri": "https://localhost:8080/"
        },
        "outputId": "3b98f976-c915-4c4c-b212-27cfbb830fef"
      },
      "outputs": [
        {
          "output_type": "execute_result",
          "data": {
            "text/plain": [
              "int"
            ]
          },
          "metadata": {},
          "execution_count": 50
        }
      ],
      "source": [
        "type(1)"
      ]
    },
    {
      "cell_type": "code",
      "execution_count": null,
      "metadata": {
        "id": "Nrua1v5Iyk67",
        "colab": {
          "base_uri": "https://localhost:8080/"
        },
        "outputId": "a1528255-8312-4b69-e4fe-1b7ddc94b86d"
      },
      "outputs": [
        {
          "output_type": "execute_result",
          "data": {
            "text/plain": [
              "float"
            ]
          },
          "metadata": {},
          "execution_count": 51
        }
      ],
      "source": [
        "type(14.0)"
      ]
    },
    {
      "cell_type": "code",
      "execution_count": null,
      "metadata": {
        "colab": {
          "base_uri": "https://localhost:8080/"
        },
        "id": "Y0Md1cP9yk67",
        "outputId": "8cdb707c-da9a-4460-8e29-03e90c08a329"
      },
      "outputs": [
        {
          "output_type": "execute_result",
          "data": {
            "text/plain": [
              "116415321826934814453125"
            ]
          },
          "metadata": {},
          "execution_count": 52
        }
      ],
      "source": [
        "5**33 # 5 to 33rd power"
      ]
    },
    {
      "cell_type": "code",
      "execution_count": null,
      "metadata": {
        "colab": {
          "base_uri": "https://localhost:8080/"
        },
        "id": "6dx9JpjTyk67",
        "outputId": "84ee40e4-8a45-4eb8-eec6-025b5e67af81"
      },
      "outputs": [
        {
          "output_type": "execute_result",
          "data": {
            "text/plain": [
              "92709068817830061978520606494193845859707401497097037749844778027824097442147966967457359038488841338006006032592594389655201"
            ]
          },
          "metadata": {},
          "execution_count": 53
        }
      ],
      "source": [
        "11**120 # no maximum anymore"
      ]
    },
    {
      "cell_type": "code",
      "execution_count": null,
      "metadata": {
        "colab": {
          "base_uri": "https://localhost:8080/"
        },
        "id": "j7fL3jdHKc8Y",
        "outputId": "f2e58c14-9c2d-4bc1-9de9-f377e36bbac6"
      },
      "outputs": [
        {
          "output_type": "execute_result",
          "data": {
            "text/plain": [
              "10000000000000000000000000000000000000000000000000000000000000000000000000000000000000000000000000000"
            ]
          },
          "metadata": {},
          "execution_count": 54
        }
      ],
      "source": [
        "# Googol\n",
        "10**100"
      ]
    },
    {
      "cell_type": "code",
      "execution_count": null,
      "metadata": {
        "colab": {
          "base_uri": "https://localhost:8080/"
        },
        "id": "5dFjqH73KiUe",
        "outputId": "def0bf62-18d3-417a-978f-df2d420fdc4e"
      },
      "outputs": [
        {
          "output_type": "execute_result",
          "data": {
            "text/plain": [
              "10000000000000000000000000000000000000000000000000000000000000000000000000000000000000000000000000000"
            ]
          },
          "metadata": {},
          "execution_count": 55
        }
      ],
      "source": [
        "big_num = 10**100\n",
        "big_num"
      ]
    },
    {
      "cell_type": "code",
      "execution_count": null,
      "metadata": {
        "colab": {
          "base_uri": "https://localhost:8080/",
          "height": 54
        },
        "id": "DdimhJi_KqCa",
        "outputId": "e8b25244-aaed-4209-c332-4394d174d47a"
      },
      "outputs": [
        {
          "output_type": "execute_result",
          "data": {
            "text/plain": [
              "'10000000000000000000000000000000000000000000000000000000000000000000000000000000000000000000000000000'"
            ],
            "application/vnd.google.colaboratory.intrinsic+json": {
              "type": "string"
            }
          },
          "metadata": {},
          "execution_count": 56
        }
      ],
      "source": [
        "string_num = str(big_num) # we can convert anything to a string\n",
        "string_num"
      ]
    },
    {
      "cell_type": "code",
      "execution_count": null,
      "metadata": {
        "colab": {
          "base_uri": "https://localhost:8080/"
        },
        "id": "ve_mv6y5Kwpp",
        "outputId": "a878f97a-c95e-4b21-c4a7-6243f984533c"
      },
      "outputs": [
        {
          "output_type": "execute_result",
          "data": {
            "text/plain": [
              "100"
            ]
          },
          "metadata": {},
          "execution_count": 57
        }
      ],
      "source": [
        "string_num.count(\"0\")"
      ]
    },
    {
      "cell_type": "markdown",
      "metadata": {
        "id": "vxZBse0bjAx3"
      },
      "source": [
        "## More on operators\n",
        "https://www.w3schools.com/python/python_operators.asp"
      ]
    },
    {
      "cell_type": "markdown",
      "metadata": {
        "id": "nLLz0VyPyk60"
      },
      "source": [
        "## Strings <a class=\"anchor\" id=\"strings\">\n",
        "    \n",
        "[Back to Table of Contents](#toc)\n",
        "\n",
        "\n",
        "* immutable\n",
        "* Unicode support\n",
        "\n",
        "\n",
        "* implement all common sequence operators\n",
        "https://docs.python.org/3/library/stdtypes.html#typesseq-common\n",
        "\n",
        "* string specific methods\n",
        "https://docs.python.org/3/library/stdtypes.html#string-methods"
      ]
    },
    {
      "cell_type": "code",
      "execution_count": null,
      "metadata": {
        "colab": {
          "base_uri": "https://localhost:8080/"
        },
        "id": "ZJkwgms1yk60",
        "outputId": "8b17b5c4-1120-4e01-9c7e-a916e563fe08"
      },
      "outputs": [
        {
          "output_type": "stream",
          "name": "stdout",
          "text": [
            "Uldis\n"
          ]
        }
      ],
      "source": [
        "name = \"Uldis\"\n",
        "print(name)"
      ]
    },
    {
      "cell_type": "code",
      "execution_count": null,
      "metadata": {
        "colab": {
          "base_uri": "https://localhost:8080/"
        },
        "id": "_cCBXOM9yk60",
        "outputId": "9d2a16f4-c3e2-4dbd-bf16-e798573c6b55"
      },
      "outputs": [
        {
          "output_type": "execute_result",
          "data": {
            "text/plain": [
              "5"
            ]
          },
          "metadata": {},
          "execution_count": 59
        }
      ],
      "source": [
        "# String length\n",
        "len(name)"
      ]
    },
    {
      "cell_type": "code",
      "execution_count": null,
      "metadata": {
        "colab": {
          "base_uri": "https://localhost:8080/",
          "height": 36
        },
        "id": "evJmIiRkyk60",
        "outputId": "efd454f9-47b9-4559-8ff5-ee9df15c0f21"
      },
      "outputs": [
        {
          "output_type": "execute_result",
          "data": {
            "text/plain": [
              "'l'"
            ],
            "application/vnd.google.colaboratory.intrinsic+json": {
              "type": "string"
            }
          },
          "metadata": {},
          "execution_count": 60
        }
      ],
      "source": [
        "# Getting Individual characters (counting from 0)\n",
        "name[1]"
      ]
    },
    {
      "cell_type": "code",
      "execution_count": null,
      "metadata": {
        "colab": {
          "base_uri": "https://localhost:8080/",
          "height": 36
        },
        "id": "F5gUZK5Ayk60",
        "outputId": "e651818c-e677-4814-cf55-aa2b8b0a43d8"
      },
      "outputs": [
        {
          "output_type": "execute_result",
          "data": {
            "text/plain": [
              "'s'"
            ],
            "application/vnd.google.colaboratory.intrinsic+json": {
              "type": "string"
            }
          },
          "metadata": {},
          "execution_count": 61
        }
      ],
      "source": [
        "# Getting last char\n",
        "name[-1]"
      ]
    },
    {
      "cell_type": "code",
      "execution_count": null,
      "metadata": {
        "colab": {
          "base_uri": "https://localhost:8080/",
          "height": 36
        },
        "id": "IPRWJWEdjAx4",
        "outputId": "232af442-fd5f-4bcd-8d41-f7b1e002047b"
      },
      "outputs": [
        {
          "output_type": "execute_result",
          "data": {
            "text/plain": [
              "'d'"
            ],
            "application/vnd.google.colaboratory.intrinsic+json": {
              "type": "string"
            }
          },
          "metadata": {},
          "execution_count": 62
        }
      ],
      "source": [
        "name[-3]"
      ]
    },
    {
      "cell_type": "code",
      "execution_count": null,
      "metadata": {
        "colab": {
          "base_uri": "https://localhost:8080/"
        },
        "id": "2YVwF0ATjAx4",
        "outputId": "f9cf6bca-0fe9-49aa-a81f-86c6078d0cea"
      },
      "outputs": [
        {
          "output_type": "stream",
          "name": "stdout",
          "text": [
            "True\n"
          ]
        }
      ],
      "source": [
        "# is \"Uld\" in our string?\n",
        "\n",
        "print(\"Uld\" in name)"
      ]
    },
    {
      "cell_type": "code",
      "execution_count": null,
      "metadata": {
        "id": "AiWmhksdpxC3"
      },
      "outputs": [],
      "source": [
        "name = name + \" 🤣\""
      ]
    },
    {
      "cell_type": "code",
      "source": [
        "print(name)"
      ],
      "metadata": {
        "colab": {
          "base_uri": "https://localhost:8080/"
        },
        "id": "ii0p1u9NxLaQ",
        "outputId": "7383c6d1-6255-4d76-d4da-2218840c30d5"
      },
      "execution_count": null,
      "outputs": [
        {
          "output_type": "stream",
          "name": "stdout",
          "text": [
            "Uldis 🤣\n"
          ]
        }
      ]
    },
    {
      "cell_type": "code",
      "execution_count": null,
      "metadata": {
        "colab": {
          "base_uri": "https://localhost:8080/"
        },
        "id": "XK6gHI_BjAx4",
        "outputId": "fde94333-7654-40b7-f711-ebcae9fbe585"
      },
      "outputs": [
        {
          "output_type": "stream",
          "name": "stdout",
          "text": [
            "True\n"
          ]
        }
      ],
      "source": [
        "# is \"🤣\" in our string?\n",
        "\n",
        "print(\"🤣\" in name)"
      ]
    },
    {
      "cell_type": "code",
      "execution_count": null,
      "metadata": {
        "id": "po62BZB8jAx4"
      },
      "outputs": [],
      "source": [
        "name = \"Uldis\""
      ]
    },
    {
      "cell_type": "markdown",
      "metadata": {
        "id": "w4Lf34OUyk61"
      },
      "source": [
        "### String Slicing"
      ]
    },
    {
      "cell_type": "code",
      "execution_count": null,
      "metadata": {
        "colab": {
          "base_uri": "https://localhost:8080/",
          "height": 36
        },
        "id": "d2Frzw-Lyk61",
        "outputId": "f429d24d-f537-4e0b-cfe3-b8fbede7322e"
      },
      "outputs": [
        {
          "output_type": "execute_result",
          "data": {
            "text/plain": [
              "'Uld'"
            ],
            "application/vnd.google.colaboratory.intrinsic+json": {
              "type": "string"
            }
          },
          "metadata": {},
          "execution_count": 68
        }
      ],
      "source": [
        "# Slicing syntax\n",
        "# Start at 0 and go until but not including 3\n",
        "name[0:3]"
      ]
    },
    {
      "cell_type": "code",
      "execution_count": null,
      "metadata": {
        "colab": {
          "base_uri": "https://localhost:8080/",
          "height": 36
        },
        "id": "Ar7t3e_krf6F",
        "outputId": "b792be80-877c-4f04-cb04-ada19c3ce94f"
      },
      "outputs": [
        {
          "output_type": "execute_result",
          "data": {
            "text/plain": [
              "'Uld'"
            ],
            "application/vnd.google.colaboratory.intrinsic+json": {
              "type": "string"
            }
          },
          "metadata": {},
          "execution_count": 69
        }
      ],
      "source": [
        "name[:3]"
      ]
    },
    {
      "cell_type": "code",
      "execution_count": null,
      "metadata": {
        "colab": {
          "base_uri": "https://localhost:8080/",
          "height": 36
        },
        "id": "4tk6jWskyk61",
        "outputId": "412c6a7c-0c5e-4b0f-cf8e-385fed8e477a"
      },
      "outputs": [
        {
          "output_type": "execute_result",
          "data": {
            "text/plain": [
              "'ld'"
            ],
            "application/vnd.google.colaboratory.intrinsic+json": {
              "type": "string"
            }
          },
          "metadata": {},
          "execution_count": 70
        }
      ],
      "source": [
        "name[1:3]"
      ]
    },
    {
      "cell_type": "code",
      "execution_count": null,
      "metadata": {
        "colab": {
          "base_uri": "https://localhost:8080/",
          "height": 36
        },
        "id": "MypGDyJgrxAU",
        "outputId": "63eaae78-b89d-45a8-e08f-15746fa8a329"
      },
      "outputs": [
        {
          "output_type": "execute_result",
          "data": {
            "text/plain": [
              "'dis'"
            ],
            "application/vnd.google.colaboratory.intrinsic+json": {
              "type": "string"
            }
          },
          "metadata": {},
          "execution_count": 71
        }
      ],
      "source": [
        "# last three characters\n",
        "name[-3:] # so we slice from 3 characters in the end and go towards that end"
      ]
    },
    {
      "cell_type": "code",
      "execution_count": null,
      "metadata": {
        "colab": {
          "base_uri": "https://localhost:8080/",
          "height": 36
        },
        "id": "Mc2G_duCr8yY",
        "outputId": "0f37ba72-e0e1-4658-dd74-723e159aae04"
      },
      "outputs": [
        {
          "output_type": "execute_result",
          "data": {
            "text/plain": [
              "'di'"
            ],
            "application/vnd.google.colaboratory.intrinsic+json": {
              "type": "string"
            }
          },
          "metadata": {},
          "execution_count": 72
        }
      ],
      "source": [
        "name[-3:-1] # this will give 3rd and 2nd character from the end BUT not the last one"
      ]
    },
    {
      "cell_type": "code",
      "execution_count": null,
      "metadata": {
        "colab": {
          "base_uri": "https://localhost:8080/"
        },
        "id": "pyDMGpozsGKg",
        "outputId": "d031ce43-28a9-43d6-991d-dd485478e582"
      },
      "outputs": [
        {
          "output_type": "execute_result",
          "data": {
            "text/plain": [
              "('s', 's')"
            ]
          },
          "metadata": {},
          "execution_count": 75
        }
      ],
      "source": [
        "name[4], name[-1] # so Python offers two indexes one from the start starting at 0, and one from the end starting at -1"
      ]
    },
    {
      "cell_type": "code",
      "execution_count": null,
      "metadata": {
        "id": "dMCauuGEsaGT"
      },
      "outputs": [],
      "source": [
        "# An error message will appear for incorrect index values\n",
        "#name[9000]"
      ]
    },
    {
      "cell_type": "code",
      "execution_count": null,
      "metadata": {
        "colab": {
          "base_uri": "https://localhost:8080/",
          "height": 36
        },
        "id": "V4nvBiFTyk61",
        "outputId": "03618a87-5584-4323-d997-f2f76357ccfc"
      },
      "outputs": [
        {
          "output_type": "execute_result",
          "data": {
            "text/plain": [
              "'Uds'"
            ],
            "application/vnd.google.colaboratory.intrinsic+json": {
              "type": "string"
            }
          },
          "metadata": {},
          "execution_count": 78
        }
      ],
      "source": [
        "# slicing syntax actually has a 3rd optional modifier - step\n",
        "name[0:6:2]"
      ]
    },
    {
      "cell_type": "code",
      "execution_count": null,
      "metadata": {
        "colab": {
          "base_uri": "https://localhost:8080/",
          "height": 36
        },
        "id": "k3NY_dcotAxv",
        "outputId": "b57c8929-22d7-4400-e1e0-a570f2a8bdd0"
      },
      "outputs": [
        {
          "output_type": "execute_result",
          "data": {
            "text/plain": [
              "'Uds'"
            ],
            "application/vnd.google.colaboratory.intrinsic+json": {
              "type": "string"
            }
          },
          "metadata": {},
          "execution_count": 79
        }
      ],
      "source": [
        "name[::2] # so I want to print all letters starting from start but skip every 2nd one"
      ]
    },
    {
      "cell_type": "code",
      "execution_count": null,
      "metadata": {
        "colab": {
          "base_uri": "https://localhost:8080/",
          "height": 36
        },
        "id": "i2rgqIrQyk61",
        "outputId": "8d3b35d0-b57c-4adc-9990-0744c313f2ac"
      },
      "outputs": [
        {
          "output_type": "execute_result",
          "data": {
            "text/plain": [
              "'ptte'"
            ],
            "application/vnd.google.colaboratory.intrinsic+json": {
              "type": "string"
            }
          },
          "metadata": {},
          "execution_count": 80
        }
      ],
      "source": [
        "# lets play with food!\n",
        "food = \"potatoes\"\n",
        "food[::2]"
      ]
    },
    {
      "cell_type": "code",
      "execution_count": null,
      "metadata": {
        "colab": {
          "base_uri": "https://localhost:8080/",
          "height": 36
        },
        "id": "iwXQNx-tyk62",
        "outputId": "82159d06-66e5-4fc1-a22f-1c346e56f1e5"
      },
      "outputs": [
        {
          "output_type": "execute_result",
          "data": {
            "text/plain": [
              "'oaos'"
            ],
            "application/vnd.google.colaboratory.intrinsic+json": {
              "type": "string"
            }
          },
          "metadata": {},
          "execution_count": 81
        }
      ],
      "source": [
        "food[1::2] # we start with a 2nd letter and skip every 2nd letter from then on"
      ]
    },
    {
      "cell_type": "code",
      "execution_count": null,
      "metadata": {
        "colab": {
          "base_uri": "https://localhost:8080/",
          "height": 36
        },
        "id": "Msa_Ad2Myk62",
        "outputId": "6b54ac47-66fa-4ab6-ba80-3d98077a7b02"
      },
      "outputs": [
        {
          "output_type": "execute_result",
          "data": {
            "text/plain": [
              "'oao'"
            ],
            "application/vnd.google.colaboratory.intrinsic+json": {
              "type": "string"
            }
          },
          "metadata": {},
          "execution_count": 82
        }
      ],
      "source": [
        "food[1:6:2]"
      ]
    },
    {
      "cell_type": "code",
      "execution_count": null,
      "metadata": {
        "colab": {
          "base_uri": "https://localhost:8080/",
          "height": 36
        },
        "id": "eVA7IzQcyk62",
        "outputId": "1e507a13-add1-49bc-e0c8-0dc80bcc4a5d"
      },
      "outputs": [
        {
          "output_type": "execute_result",
          "data": {
            "text/plain": [
              "'seotatop'"
            ],
            "application/vnd.google.colaboratory.intrinsic+json": {
              "type": "string"
            }
          },
          "metadata": {},
          "execution_count": 83
        }
      ],
      "source": [
        "# Pythonic way of reversing a string\n",
        "food[::-1]\n"
      ]
    },
    {
      "cell_type": "code",
      "execution_count": null,
      "metadata": {
        "id": "nORDYX41t09O",
        "scrolled": true
      },
      "outputs": [],
      "source": [
        "# We can't modify strings by assigning a new value to some index location\n",
        "# Uncomment the next line to see the error message\n",
        "#food[2] = \"x\""
      ]
    },
    {
      "cell_type": "code",
      "execution_count": null,
      "metadata": {
        "colab": {
          "base_uri": "https://localhost:8080/",
          "height": 36
        },
        "id": "j4ils2ODyk62",
        "outputId": "6dcd86bf-3285-4d21-ea48-5f5771b78680"
      },
      "outputs": [
        {
          "output_type": "execute_result",
          "data": {
            "text/plain": [
              "'poxatoes'"
            ],
            "application/vnd.google.colaboratory.intrinsic+json": {
              "type": "string"
            }
          },
          "metadata": {},
          "execution_count": 86
        }
      ],
      "source": [
        "# modifying strings\n",
        "# unmutability\n",
        "# food[2]=\"x\" is not allowed\n",
        "newfood = food[:2] + \"x\" + food[3:] # so we concatenate first 2 letters from food then add letter \"x\" and then rest of letters from food starting with the 4th characters\n",
        "newfood"
      ]
    },
    {
      "cell_type": "code",
      "execution_count": null,
      "metadata": {
        "colab": {
          "base_uri": "https://localhost:8080/",
          "height": 36
        },
        "id": "_sQ4cEufuRfA",
        "outputId": "640132ed-092a-45ec-f5f6-efadc4bf4ee4"
      },
      "outputs": [
        {
          "output_type": "execute_result",
          "data": {
            "text/plain": [
              "'Bojārs'"
            ],
            "application/vnd.google.colaboratory.intrinsic+json": {
              "type": "string"
            }
          },
          "metadata": {},
          "execution_count": 87
        }
      ],
      "source": [
        "last_name = \"Bojārs\"\n",
        "last_name"
      ]
    },
    {
      "cell_type": "code",
      "execution_count": null,
      "metadata": {
        "colab": {
          "base_uri": "https://localhost:8080/",
          "height": 36
        },
        "id": "qGh04I3zuYTM",
        "outputId": "3dfe393a-c7e9-4ce1-f6cd-abe8ad03aa63"
      },
      "outputs": [
        {
          "output_type": "execute_result",
          "data": {
            "text/plain": [
              "'UldisBojārs'"
            ],
            "application/vnd.google.colaboratory.intrinsic+json": {
              "type": "string"
            }
          },
          "metadata": {},
          "execution_count": 88
        }
      ],
      "source": [
        "full_name = name + last_name\n",
        "full_name"
      ]
    },
    {
      "cell_type": "code",
      "execution_count": null,
      "metadata": {
        "colab": {
          "base_uri": "https://localhost:8080/",
          "height": 36
        },
        "id": "tMK5ad-Jum3N",
        "outputId": "63580f2a-1196-4fe0-cd39-1c6dc43ed908"
      },
      "outputs": [
        {
          "output_type": "execute_result",
          "data": {
            "text/plain": [
              "'Uldis Bojārs'"
            ],
            "application/vnd.google.colaboratory.intrinsic+json": {
              "type": "string"
            }
          },
          "metadata": {},
          "execution_count": 89
        }
      ],
      "source": [
        "full_name = name + \" \" + last_name\n",
        "full_name"
      ]
    },
    {
      "cell_type": "code",
      "execution_count": null,
      "metadata": {
        "id": "DthXz9ujyk62"
      },
      "outputs": [],
      "source": [
        "# 'some text', \"some text again\" work the same\n",
        "# '''  For multiline ''' also \"\"\" and \"\"\"\n",
        "longstring = ''' This will be a very long string\n",
        "    and a very long day you can write what you want\n",
        "'''"
      ]
    },
    {
      "cell_type": "code",
      "execution_count": null,
      "metadata": {
        "colab": {
          "base_uri": "https://localhost:8080/",
          "height": 36
        },
        "id": "L2VRCfQ-yk63",
        "outputId": "70ca9d8e-3464-45bf-d533-39c10024d2c6"
      },
      "outputs": [
        {
          "output_type": "execute_result",
          "data": {
            "text/plain": [
              "' This will be a very long string\\n    and a very long day you can write what you want\\n'"
            ],
            "application/vnd.google.colaboratory.intrinsic+json": {
              "type": "string"
            }
          },
          "metadata": {},
          "execution_count": 91
        }
      ],
      "source": [
        "# print out the longstring\n",
        "longstring"
      ]
    },
    {
      "cell_type": "code",
      "execution_count": null,
      "metadata": {
        "colab": {
          "base_uri": "https://localhost:8080/"
        },
        "id": "Bc1GfIiNu_jE",
        "outputId": "873491e1-b5b3-4079-cae1-33451f2b318a"
      },
      "outputs": [
        {
          "output_type": "stream",
          "name": "stdout",
          "text": [
            " This will be a very long string\n",
            "    and a very long day you can write what you want\n",
            "\n"
          ]
        }
      ],
      "source": [
        "print(longstring)"
      ]
    },
    {
      "cell_type": "markdown",
      "metadata": {
        "id": "pwOxFbXsyk63"
      },
      "source": [
        "## \"f-strings\", “formatted string literals”\n",
        "\n",
        "In some other languages also known as string interpolation"
      ]
    },
    {
      "cell_type": "code",
      "execution_count": null,
      "metadata": {
        "colab": {
          "base_uri": "https://localhost:8080/",
          "height": 36
        },
        "id": "eGwasQzEyk63",
        "outputId": "dd93ada3-a20d-4c71-d031-05d4aa3a8a21"
      },
      "outputs": [
        {
          "output_type": "execute_result",
          "data": {
            "text/plain": [
              "'Uldis'"
            ],
            "application/vnd.google.colaboratory.intrinsic+json": {
              "type": "string"
            }
          },
          "metadata": {},
          "execution_count": 93
        }
      ],
      "source": [
        "# Create myname and favfood variables with appropriate text\n",
        "# Then run the cell below\n",
        "# What would happen if you did not assign variables ?\n",
        "myname"
      ]
    },
    {
      "cell_type": "code",
      "execution_count": null,
      "metadata": {
        "colab": {
          "base_uri": "https://localhost:8080/",
          "height": 36
        },
        "id": "btOR_9VDv0Q1",
        "outputId": "4fc2450b-c577-4184-cfb1-7fbdfbb60ac7"
      },
      "outputs": [
        {
          "output_type": "execute_result",
          "data": {
            "text/plain": [
              "'pizza'"
            ],
            "application/vnd.google.colaboratory.intrinsic+json": {
              "type": "string"
            }
          },
          "metadata": {},
          "execution_count": 94
        }
      ],
      "source": [
        "favfood = \"pizza\"\n",
        "favfood"
      ]
    },
    {
      "cell_type": "code",
      "execution_count": null,
      "metadata": {
        "colab": {
          "base_uri": "https://localhost:8080/"
        },
        "id": "F6iqEY0Jyk63",
        "outputId": "827bbbfe-d2e2-426e-af14-101f7a60f0c6"
      },
      "outputs": [
        {
          "output_type": "stream",
          "name": "stdout",
          "text": [
            "My name is Uldis and my favorite food is pizza \n"
          ]
        }
      ],
      "source": [
        "print(f\"My name is {myname} and my favorite food is {favfood} \")\n",
        "\n",
        "# f strings in Python 3.6+ older formatting methods not covered in this course\n",
        "# https://realpython.com/python-f-strings/\n"
      ]
    },
    {
      "cell_type": "code",
      "execution_count": null,
      "metadata": {
        "colab": {
          "base_uri": "https://localhost:8080/"
        },
        "id": "XNZHcE6fyk63",
        "outputId": "a8155288-0b84-4387-b54c-5fdda8fb1207"
      },
      "outputs": [
        {
          "output_type": "stream",
          "name": "stdout",
          "text": [
            "My name is Uldis and my favorite food is pizza\n"
          ]
        }
      ],
      "source": [
        "# Old string concatation method\n",
        "print(\"My name is \" + myname + \" and my favorite food is \" + favfood)"
      ]
    },
    {
      "cell_type": "code",
      "execution_count": null,
      "metadata": {
        "colab": {
          "base_uri": "https://localhost:8080/"
        },
        "id": "1ZITJytQwDb7",
        "outputId": "81aaf1b8-4133-4cb2-c052-c9e27a96f302",
        "scrolled": true
      },
      "outputs": [
        {
          "output_type": "stream",
          "name": "stdout",
          "text": [
            "My name is {myname} and my favorite food is {favfood} \n"
          ]
        }
      ],
      "source": [
        "# this is just a regular string and no variables will be replaced\n",
        "print(\"My name is {myname} and my favorite food is {favfood} \")"
      ]
    },
    {
      "cell_type": "code",
      "execution_count": null,
      "metadata": {
        "colab": {
          "base_uri": "https://localhost:8080/"
        },
        "id": "mkSNQTbLwO0M",
        "outputId": "f3d3fcef-43f9-4801-cf87-50cbb2457b97"
      },
      "outputs": [
        {
          "output_type": "stream",
          "name": "stdout",
          "text": [
            "My name is Uldis and my favorite food is pizza \n"
          ]
        }
      ],
      "source": [
        "food_string = f\"My name is {myname} and my favorite food is {favfood} \"  # anything inside \" is significant\"\n",
        "\n",
        "print(food_string)"
      ]
    },
    {
      "cell_type": "markdown",
      "metadata": {
        "id": "6dQVzE5-jAx_"
      },
      "source": [
        "---\n",
        "\n",
        "### Getting user input\n"
      ]
    },
    {
      "cell_type": "code",
      "source": [
        "# get user input\n",
        "in_value = input(\"Ievadi veselu skaitli: \")\n",
        "print(in_value)"
      ],
      "metadata": {
        "colab": {
          "base_uri": "https://localhost:8080/"
        },
        "id": "KiOuEPbz3vla",
        "outputId": "e51489bd-2dfb-46df-f186-5034da8fe53b"
      },
      "execution_count": null,
      "outputs": [
        {
          "output_type": "stream",
          "name": "stdout",
          "text": [
            "Ievadi veselu skaitli: 33\n",
            "33\n"
          ]
        }
      ]
    },
    {
      "cell_type": "code",
      "execution_count": null,
      "metadata": {
        "colab": {
          "base_uri": "https://localhost:8080/"
        },
        "id": "r-kMvkIejAx_",
        "outputId": "77a0fb5f-016b-408e-ed22-a909aa5e121e"
      },
      "outputs": [
        {
          "output_type": "stream",
          "name": "stdout",
          "text": [
            "34\n"
          ]
        }
      ],
      "source": [
        "# change input type to int\n",
        "in_value_int = int(in_value)\n",
        "\n",
        "print(in_value_int + 1)"
      ]
    },
    {
      "cell_type": "markdown",
      "metadata": {
        "id": "z1q0FQFKyk7E"
      },
      "source": [
        "# Python Resources <a class=\"anchor\" id=\"learning-resources\">\n",
        "    \n",
        "[Back to Table of Contents](#toc)"
      ]
    },
    {
      "cell_type": "markdown",
      "metadata": {
        "id": "ghG_aM5ayk7E"
      },
      "source": [
        "## Wiki for Tutorials\n",
        "\n",
        "https://wiki.python.org/moin/BeginnersGuide/NonProgrammers"
      ]
    },
    {
      "cell_type": "markdown",
      "metadata": {
        "id": "R34PGbyzyk7E"
      },
      "source": [
        "## Tutorials Begginner to Intermediate\n",
        "\n",
        "\n",
        "\n",
        "\n",
        "* https://automatetheboringstuff.com/ - Anything by Al Sweigart is great\n",
        "* [Think Like a Computer Scientist](https://openbookproject.net/thinkcs/python/english3e/) full tutorial\n",
        "* [Non-Programmers Tutorial for Python 3](https://en.wikibooks.org/wiki/Non-Programmer%27s_Tutorial_for_Python_3) quite good for wikibooks\n",
        "* [Real Python](https://realpython.com/) Python Tutorials for all levels\n",
        "\n",
        "\n",
        "* [Learn Python 3 the Hard Way](https://learnpythonthehardway.org/python3/intro.html) controversial author but very exhaustive, some like this approach"
      ]
    },
    {
      "cell_type": "markdown",
      "metadata": {
        "id": "k65CF3Hdyk7E"
      },
      "source": [
        "## More Advanced Python Specific Books\n",
        "\n",
        "* [Python Cookbook](https://www.amazon.com/Python-Cookbook-Third-David-Beazley/dp/1449340377) Recipes for specific situations\n",
        "\n",
        "* [Effective Python](https://effectivepython.com/) best practices\n",
        "* [Fluent Python](http://shop.oreilly.com/product/0636920032519.do) **highly recommended**, shows Python's advantages"
      ]
    },
    {
      "cell_type": "markdown",
      "metadata": {
        "id": "B0Q3iEMFyk7E"
      },
      "source": [
        "## General Best Practices Books\n",
        "#### (not Python specific)\n",
        "\n",
        "* [Code Complete 2](https://www.goodreads.com/book/show/4845.Code_Complete) - Fantastic best practices\n",
        "* [The Mythical Man-Month](https://en.wikipedia.org/wiki/The_Mythical_Man-Month) - No silver bullet even after 40 years.\n",
        "* [The Pragmatic Programmer](https://www.amazon.com/Pragmatic-Programmer-Journeyman-Master/dp/020161622X) - More practical advice\n",
        "* [Clean Code](https://www.amazon.com/Clean-Code-Handbook-Software-Craftsmanship/dp/0132350882) - more towards agile"
      ]
    },
    {
      "cell_type": "markdown",
      "metadata": {
        "id": "EJoNusgnyk7E"
      },
      "source": [
        "## Blogs / Personalities / forums\n",
        "\n",
        "* [Dan Bader](https://dbader.org/)\n",
        "* [Reddit Python](https://www.reddit.com/r/python)"
      ]
    },
    {
      "cell_type": "markdown",
      "metadata": {
        "id": "Vb1uuHhJyk7E"
      },
      "source": [
        "## Exercises/Challenges\n",
        "* http://www.pythonchallenge.com/ - first one is easy but after that...\n",
        "* [Advent of Code](https://adventofcode.com/) - yearly programming challenges\n",
        "* https://projecteuler.net/ - gets very mathematical but first problems are great for testing"
      ]
    },
    {
      "cell_type": "markdown",
      "metadata": {
        "id": "6AePUe0Qyk7F"
      },
      "source": [
        "## Explore Public Notebooks on Github\n",
        " Download them and try them out for yourself\n",
        "\n",
        "https://github.com/jupyter/jupyter/wiki/A-gallery-of-interesting-Jupyter-Notebooks"
      ]
    },
    {
      "cell_type": "markdown",
      "metadata": {
        "id": "IuOw1wXiyk7F"
      },
      "source": [
        "## Questions / Suggestions ?\n",
        "\n",
        "This notebook is based on the Python introduction notebook by Valdis Saulespurēns:\n",
        "* https://github.com/ValRCS/BSSDH_22/blob/main/notebooks/Python%20Introduction.ipynb\n",
        "\n",
        "Pull requests welcome\n",
        "\n",
        "e-mail **uldis.bojars at gmail.com**"
      ]
    }
  ],
  "metadata": {
    "colab": {
      "provenance": []
    },
    "kernelspec": {
      "display_name": "Python 3 (ipykernel)",
      "language": "python",
      "name": "python3"
    },
    "language_info": {
      "codemirror_mode": {
        "name": "ipython",
        "version": 3
      },
      "file_extension": ".py",
      "mimetype": "text/x-python",
      "name": "python",
      "nbconvert_exporter": "python",
      "pygments_lexer": "ipython3",
      "version": "3.12.7"
    }
  },
  "nbformat": 4,
  "nbformat_minor": 0
}