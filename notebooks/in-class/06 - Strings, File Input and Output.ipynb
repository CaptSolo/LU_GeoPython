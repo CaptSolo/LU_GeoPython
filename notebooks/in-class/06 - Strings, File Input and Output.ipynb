{
 "cells": [
  {
   "cell_type": "markdown",
   "id": "41e3f505-ea2e-4eee-b020-d86b6f96853c",
   "metadata": {},
   "source": [
    "## Lecture summary\n",
    "\n",
    "- Text strings (continued)\n",
    "- Exceptions and error handling\n",
    "- File input / output\n",
    "  - CSV files\n",
    "  - JSON files"
   ]
  },
  {
   "cell_type": "markdown",
   "id": "e55fc460",
   "metadata": {},
   "source": [
    "## Python Strings (continued)\n",
    "\n",
    "[Chapter 6 – Manipulating Strings](https://automatetheboringstuff.com/2e/chapter6/) (Automate the Boring Stuff)"
   ]
  },
  {
   "cell_type": "code",
   "execution_count": 1,
   "id": "3c60cd68-25ff-4741-9cbe-956adb19342d",
   "metadata": {},
   "outputs": [
    {
     "data": {
      "text/plain": [
       "str"
      ]
     },
     "execution_count": 1,
     "metadata": {},
     "output_type": "execute_result"
    }
   ],
   "source": [
    "type(\"abc\")"
   ]
  },
  {
   "cell_type": "code",
   "execution_count": 2,
   "id": "003402d6-1da1-4f07-a229-8b53f6da3b87",
   "metadata": {},
   "outputs": [
    {
     "name": "stdout",
     "output_type": "stream",
     "text": [
      "capitalize\n",
      "casefold\n",
      "center\n",
      "count\n",
      "encode\n",
      "endswith\n",
      "expandtabs\n",
      "find\n",
      "format\n",
      "format_map\n",
      "index\n",
      "isalnum\n",
      "isalpha\n",
      "isascii\n",
      "isdecimal\n",
      "isdigit\n",
      "isidentifier\n",
      "islower\n",
      "isnumeric\n",
      "isprintable\n",
      "isspace\n",
      "istitle\n",
      "isupper\n",
      "join\n",
      "ljust\n",
      "lower\n",
      "lstrip\n",
      "maketrans\n",
      "partition\n",
      "removeprefix\n",
      "removesuffix\n",
      "replace\n",
      "rfind\n",
      "rindex\n",
      "rjust\n",
      "rpartition\n",
      "rsplit\n",
      "rstrip\n",
      "split\n",
      "splitlines\n",
      "startswith\n",
      "strip\n",
      "swapcase\n",
      "title\n",
      "translate\n",
      "upper\n",
      "zfill\n"
     ]
    }
   ],
   "source": [
    "for name in dir(str):\n",
    "    if not name.startswith(\"_\"):\n",
    "        print(name)"
   ]
  },
  {
   "cell_type": "code",
   "execution_count": 3,
   "id": "e3fea878",
   "metadata": {},
   "outputs": [
    {
     "name": "stdout",
     "output_type": "stream",
     "text": [
      "Help on method_descriptor:\n",
      "\n",
      "startswith(...) unbound builtins.str method\n",
      "    S.startswith(prefix[, start[, end]]) -> bool\n",
      "\n",
      "    Return True if S starts with the specified prefix, False otherwise.\n",
      "    With optional start, test S beginning at that position.\n",
      "    With optional end, stop comparing S at that position.\n",
      "    prefix can also be a tuple of strings to try.\n",
      "\n"
     ]
    }
   ],
   "source": [
    "help(str.startswith)"
   ]
  },
  {
   "cell_type": "code",
   "execution_count": 4,
   "id": "672a25d1-0501-40de-95aa-7e9368c332fd",
   "metadata": {},
   "outputs": [
    {
     "name": "stdout",
     "output_type": "stream",
     "text": [
      "Help on method_descriptor:\n",
      "\n",
      "strip(self, chars=None, /) unbound builtins.str method\n",
      "    Return a copy of the string with leading and trailing whitespace removed.\n",
      "\n",
      "    If chars is given and not None, remove characters in chars instead.\n",
      "\n"
     ]
    }
   ],
   "source": [
    "help(str.strip)"
   ]
  },
  {
   "cell_type": "code",
   "execution_count": 6,
   "id": "6ba00250",
   "metadata": {},
   "outputs": [],
   "source": [
    "text = \"   Uldis   \""
   ]
  },
  {
   "cell_type": "code",
   "execution_count": 7,
   "id": "6dbb58e2",
   "metadata": {},
   "outputs": [
    {
     "data": {
      "text/plain": [
       "'Uldis'"
      ]
     },
     "execution_count": 7,
     "metadata": {},
     "output_type": "execute_result"
    }
   ],
   "source": [
    "# strip removes whitespace from start and end of the string\n",
    "text.strip()"
   ]
  },
  {
   "cell_type": "code",
   "execution_count": 8,
   "id": "e352bf08",
   "metadata": {},
   "outputs": [
    {
     "data": {
      "text/plain": [
       "'Uldis   '"
      ]
     },
     "execution_count": 8,
     "metadata": {},
     "output_type": "execute_result"
    }
   ],
   "source": [
    "text.lstrip()"
   ]
  },
  {
   "cell_type": "code",
   "execution_count": 9,
   "id": "39f242b3",
   "metadata": {},
   "outputs": [
    {
     "data": {
      "text/plain": [
       "'   Uldis'"
      ]
     },
     "execution_count": 9,
     "metadata": {},
     "output_type": "execute_result"
    }
   ],
   "source": [
    "text.rstrip()"
   ]
  },
  {
   "cell_type": "code",
   "execution_count": 10,
   "id": "287a8db2-2952-489c-ad39-411d7fc5c827",
   "metadata": {},
   "outputs": [
    {
     "data": {
      "text/plain": [
       "'   Uldis   '"
      ]
     },
     "execution_count": 10,
     "metadata": {},
     "output_type": "execute_result"
    }
   ],
   "source": [
    "text"
   ]
  },
  {
   "cell_type": "code",
   "execution_count": 11,
   "id": "9519cd9d-eec3-43f7-98a6-ebd4e6d715ae",
   "metadata": {},
   "outputs": [],
   "source": [
    "text = text.lstrip()"
   ]
  },
  {
   "cell_type": "code",
   "execution_count": 12,
   "id": "db3c139c-7779-4939-966a-3f73d9e80b0e",
   "metadata": {},
   "outputs": [
    {
     "data": {
      "text/plain": [
       "'Uldis   '"
      ]
     },
     "execution_count": 12,
     "metadata": {},
     "output_type": "execute_result"
    }
   ],
   "source": [
    "text"
   ]
  },
  {
   "cell_type": "markdown",
   "id": "98b3cdb3",
   "metadata": {},
   "source": [
    "### Checking if string contains a substring\n"
   ]
  },
  {
   "cell_type": "code",
   "execution_count": 13,
   "id": "808ae19e",
   "metadata": {},
   "outputs": [],
   "source": [
    "text2 = \"This is an example\""
   ]
  },
  {
   "cell_type": "code",
   "execution_count": 14,
   "id": "2e932f24",
   "metadata": {},
   "outputs": [
    {
     "data": {
      "text/plain": [
       "True"
      ]
     },
     "execution_count": 14,
     "metadata": {},
     "output_type": "execute_result"
    }
   ],
   "source": [
    "text2.startswith(\"This\")"
   ]
  },
  {
   "cell_type": "code",
   "execution_count": 15,
   "id": "9e48bee0",
   "metadata": {},
   "outputs": [
    {
     "data": {
      "text/plain": [
       "False"
      ]
     },
     "execution_count": 15,
     "metadata": {},
     "output_type": "execute_result"
    }
   ],
   "source": [
    "text2.startswith(\"example\")"
   ]
  },
  {
   "cell_type": "code",
   "execution_count": 16,
   "id": "1415e726",
   "metadata": {},
   "outputs": [
    {
     "data": {
      "text/plain": [
       "True"
      ]
     },
     "execution_count": 16,
     "metadata": {},
     "output_type": "execute_result"
    }
   ],
   "source": [
    "text2.endswith(\"example\")"
   ]
  },
  {
   "cell_type": "code",
   "execution_count": 17,
   "id": "5c8ee517-907a-49fb-944e-a30238d700d9",
   "metadata": {},
   "outputs": [
    {
     "data": {
      "text/plain": [
       "True"
      ]
     },
     "execution_count": 17,
     "metadata": {},
     "output_type": "execute_result"
    }
   ],
   "source": [
    "# checking for substring\n",
    "\"is an\" in text2"
   ]
  },
  {
   "cell_type": "code",
   "execution_count": 18,
   "id": "a2b03bcc",
   "metadata": {},
   "outputs": [
    {
     "name": "stdout",
     "output_type": "stream",
     "text": [
      "Substring found!\n"
     ]
    }
   ],
   "source": [
    "# let's put that in the if command:\n",
    "\n",
    "if \"is an\" in text2:\n",
    "    print(\"Substring found!\")"
   ]
  },
  {
   "cell_type": "code",
   "execution_count": 19,
   "id": "3e23e782",
   "metadata": {},
   "outputs": [
    {
     "data": {
      "text/plain": [
       "4"
      ]
     },
     "execution_count": 19,
     "metadata": {},
     "output_type": "execute_result"
    }
   ],
   "source": [
    "# position of the 1st match\n",
    "\n",
    "text2.index(\" is \")"
   ]
  },
  {
   "cell_type": "code",
   "execution_count": 20,
   "id": "a0bb9441",
   "metadata": {},
   "outputs": [
    {
     "data": {
      "text/plain": [
       "' is an example'"
      ]
     },
     "execution_count": 20,
     "metadata": {},
     "output_type": "execute_result"
    }
   ],
   "source": [
    "text2[4:]"
   ]
  },
  {
   "cell_type": "code",
   "execution_count": 21,
   "id": "c8e288ec-2452-438f-9046-663e8562e1d4",
   "metadata": {},
   "outputs": [
    {
     "name": "stdout",
     "output_type": "stream",
     "text": [
      "Help on method_descriptor:\n",
      "\n",
      "index(...) unbound builtins.str method\n",
      "    S.index(sub[, start[, end]]) -> int\n",
      "\n",
      "    Return the lowest index in S where substring sub is found,\n",
      "    such that sub is contained within S[start:end].  Optional\n",
      "    arguments start and end are interpreted as in slice notation.\n",
      "\n",
      "    Raises ValueError when the substring is not found.\n",
      "\n"
     ]
    }
   ],
   "source": [
    "help(str.index)"
   ]
  },
  {
   "cell_type": "code",
   "execution_count": 22,
   "id": "3fe72a9e",
   "metadata": {},
   "outputs": [
    {
     "ename": "ValueError",
     "evalue": "substring not found",
     "output_type": "error",
     "traceback": [
      "\u001b[0;31m---------------------------------------------------------------------------\u001b[0m",
      "\u001b[0;31mValueError\u001b[0m                                Traceback (most recent call last)",
      "Cell \u001b[0;32mIn[22], line 1\u001b[0m\n\u001b[0;32m----> 1\u001b[0m \u001b[43mtext2\u001b[49m\u001b[38;5;241;43m.\u001b[39;49m\u001b[43mindex\u001b[49m\u001b[43m(\u001b[49m\u001b[38;5;124;43m\"\u001b[39;49m\u001b[38;5;124;43mnot found\u001b[39;49m\u001b[38;5;124;43m\"\u001b[39;49m\u001b[43m)\u001b[49m\n",
      "\u001b[0;31mValueError\u001b[0m: substring not found"
     ]
    }
   ],
   "source": [
    "text2.index(\"not found\")"
   ]
  },
  {
   "cell_type": "code",
   "execution_count": 23,
   "id": "dbad3796-6fe8-4a1b-8fa7-597b0f2888a5",
   "metadata": {},
   "outputs": [
    {
     "name": "stdout",
     "output_type": "stream",
     "text": [
      "Help on method_descriptor:\n",
      "\n",
      "find(...) unbound builtins.str method\n",
      "    S.find(sub[, start[, end]]) -> int\n",
      "\n",
      "    Return the lowest index in S where substring sub is found,\n",
      "    such that sub is contained within S[start:end].  Optional\n",
      "    arguments start and end are interpreted as in slice notation.\n",
      "\n",
      "    Return -1 on failure.\n",
      "\n"
     ]
    }
   ],
   "source": [
    "help(str.find)"
   ]
  },
  {
   "cell_type": "code",
   "execution_count": 24,
   "id": "f487bcef",
   "metadata": {},
   "outputs": [
    {
     "data": {
      "text/plain": [
       "-1"
      ]
     },
     "execution_count": 24,
     "metadata": {},
     "output_type": "execute_result"
    }
   ],
   "source": [
    "text2.find(\"not found\")"
   ]
  },
  {
   "cell_type": "code",
   "execution_count": 25,
   "id": "803e7acf",
   "metadata": {},
   "outputs": [
    {
     "data": {
      "text/plain": [
       "4"
      ]
     },
     "execution_count": 25,
     "metadata": {},
     "output_type": "execute_result"
    }
   ],
   "source": [
    "text2.find(\" is \")"
   ]
  },
  {
   "cell_type": "code",
   "execution_count": 26,
   "id": "b9de6922",
   "metadata": {},
   "outputs": [
    {
     "data": {
      "text/plain": [
       "2"
      ]
     },
     "execution_count": 26,
     "metadata": {},
     "output_type": "execute_result"
    }
   ],
   "source": [
    "# how many times does a substring occur in text2?\n",
    "\n",
    "text2.count(\"is\")"
   ]
  },
  {
   "cell_type": "code",
   "execution_count": null,
   "id": "a45099cb",
   "metadata": {},
   "outputs": [],
   "source": []
  },
  {
   "cell_type": "markdown",
   "id": "37e58a0d",
   "metadata": {},
   "source": [
    "### Different types of text content\n"
   ]
  },
  {
   "cell_type": "code",
   "execution_count": 29,
   "id": "cd15d35d",
   "metadata": {},
   "outputs": [],
   "source": [
    "text_str = \"Just a string\"\n",
    "text_alpha = \"Nospaceshere\"\n",
    "text_num = \"123456\"\n",
    "text_alnum = \"Password123\"\n",
    "text_upper = \"THIS IS IMPORTANT\"\n",
    "text_lower = \"nothing to see here\"\n",
    "text_whitespace = \"   \\t \""
   ]
  },
  {
   "cell_type": "code",
   "execution_count": 27,
   "id": "d2bc6df7-ae74-4207-a205-de6f36cf9cb1",
   "metadata": {},
   "outputs": [
    {
     "name": "stdout",
     "output_type": "stream",
     "text": [
      "Help on method_descriptor:\n",
      "\n",
      "isalpha(self, /) unbound builtins.str method\n",
      "    Return True if the string is an alphabetic string, False otherwise.\n",
      "\n",
      "    A string is alphabetic if all characters in the string are alphabetic and there\n",
      "    is at least one character in the string.\n",
      "\n"
     ]
    }
   ],
   "source": [
    "help(str.isalpha)"
   ]
  },
  {
   "cell_type": "code",
   "execution_count": 30,
   "id": "9b50ef35",
   "metadata": {},
   "outputs": [
    {
     "data": {
      "text/plain": [
       "True"
      ]
     },
     "execution_count": 30,
     "metadata": {},
     "output_type": "execute_result"
    }
   ],
   "source": [
    "text_alpha.isalpha()"
   ]
  },
  {
   "cell_type": "code",
   "execution_count": 31,
   "id": "2f9ee5d0",
   "metadata": {},
   "outputs": [
    {
     "data": {
      "text/plain": [
       "False"
      ]
     },
     "execution_count": 31,
     "metadata": {},
     "output_type": "execute_result"
    }
   ],
   "source": [
    "# False, because of whitespace characters\n",
    "text_str.isalpha()"
   ]
  },
  {
   "cell_type": "code",
   "execution_count": 32,
   "id": "b79498a1",
   "metadata": {},
   "outputs": [
    {
     "data": {
      "text/plain": [
       "True"
      ]
     },
     "execution_count": 32,
     "metadata": {},
     "output_type": "execute_result"
    }
   ],
   "source": [
    "text_num.isnumeric()"
   ]
  },
  {
   "cell_type": "code",
   "execution_count": 33,
   "id": "c5fd92cc",
   "metadata": {},
   "outputs": [
    {
     "data": {
      "text/plain": [
       "False"
      ]
     },
     "execution_count": 33,
     "metadata": {},
     "output_type": "execute_result"
    }
   ],
   "source": [
    "# False, because the string contains a dot\n",
    "\"123.45\".isnumeric()"
   ]
  },
  {
   "cell_type": "code",
   "execution_count": 34,
   "id": "b89c494d",
   "metadata": {},
   "outputs": [
    {
     "data": {
      "text/plain": [
       "True"
      ]
     },
     "execution_count": 34,
     "metadata": {},
     "output_type": "execute_result"
    }
   ],
   "source": [
    "text_alnum.isalnum()"
   ]
  },
  {
   "cell_type": "code",
   "execution_count": 35,
   "id": "4d5e6f96",
   "metadata": {},
   "outputs": [
    {
     "data": {
      "text/plain": [
       "True"
      ]
     },
     "execution_count": 35,
     "metadata": {},
     "output_type": "execute_result"
    }
   ],
   "source": [
    "text_upper.isupper()"
   ]
  },
  {
   "cell_type": "code",
   "execution_count": 36,
   "id": "4d1000a1",
   "metadata": {},
   "outputs": [
    {
     "data": {
      "text/plain": [
       "True"
      ]
     },
     "execution_count": 36,
     "metadata": {},
     "output_type": "execute_result"
    }
   ],
   "source": [
    "text_lower.islower()"
   ]
  },
  {
   "cell_type": "code",
   "execution_count": 37,
   "id": "831aaa94",
   "metadata": {},
   "outputs": [
    {
     "data": {
      "text/plain": [
       "True"
      ]
     },
     "execution_count": 37,
     "metadata": {},
     "output_type": "execute_result"
    }
   ],
   "source": [
    "text_whitespace.isspace()"
   ]
  },
  {
   "cell_type": "markdown",
   "id": "923f02d8",
   "metadata": {},
   "source": [
    "### Justifying strings"
   ]
  },
  {
   "cell_type": "code",
   "execution_count": 42,
   "id": "59f7da39",
   "metadata": {},
   "outputs": [
    {
     "data": {
      "text/plain": [
       "'123'"
      ]
     },
     "execution_count": 42,
     "metadata": {},
     "output_type": "execute_result"
    }
   ],
   "source": [
    "text3 = \"123\"\n",
    "text3"
   ]
  },
  {
   "cell_type": "code",
   "execution_count": 43,
   "id": "b64e26bf",
   "metadata": {},
   "outputs": [],
   "source": [
    "text4 = \"567890\""
   ]
  },
  {
   "cell_type": "code",
   "execution_count": 44,
   "id": "2cdd1e81",
   "metadata": {},
   "outputs": [
    {
     "data": {
      "text/plain": [
       "'123       '"
      ]
     },
     "execution_count": 44,
     "metadata": {},
     "output_type": "execute_result"
    }
   ],
   "source": [
    "text3.ljust(10)"
   ]
  },
  {
   "cell_type": "code",
   "execution_count": 46,
   "id": "5f7da105-3d42-40b6-9655-9b9b7c2844cd",
   "metadata": {},
   "outputs": [
    {
     "data": {
      "text/plain": [
       "'       123'"
      ]
     },
     "execution_count": 46,
     "metadata": {},
     "output_type": "execute_result"
    }
   ],
   "source": [
    "text3.rjust(10)"
   ]
  },
  {
   "cell_type": "code",
   "execution_count": 47,
   "id": "aa5e479e",
   "metadata": {},
   "outputs": [
    {
     "data": {
      "text/plain": [
       "'   123    '"
      ]
     },
     "execution_count": 47,
     "metadata": {},
     "output_type": "execute_result"
    }
   ],
   "source": [
    "text3.center(10)"
   ]
  },
  {
   "cell_type": "code",
   "execution_count": 48,
   "id": "434a997e",
   "metadata": {},
   "outputs": [
    {
     "name": "stdout",
     "output_type": "stream",
     "text": [
      "       123\n",
      "    567890\n"
     ]
    }
   ],
   "source": [
    "print(text3.rjust(10))\n",
    "print(text4.rjust(10))"
   ]
  },
  {
   "cell_type": "code",
   "execution_count": null,
   "id": "6555babc",
   "metadata": {},
   "outputs": [],
   "source": []
  },
  {
   "cell_type": "markdown",
   "id": "eb2efde8",
   "metadata": {},
   "source": [
    "## Exceptions, Error Hadling\n",
    "\n",
    "Exceptions and try/except commands let us handle (\"catch\") error situations.\n",
    "\n",
    "- https://docs.python.org/3/tutorial/errors.html\n",
    "- https://realpython.com/python-exceptions/"
   ]
  },
  {
   "cell_type": "code",
   "execution_count": 49,
   "id": "72c45856",
   "metadata": {},
   "outputs": [
    {
     "ename": "SyntaxError",
     "evalue": "incomplete input (2057294690.py, line 3)",
     "output_type": "error",
     "traceback": [
      "\u001b[0;36m  Cell \u001b[0;32mIn[49], line 3\u001b[0;36m\u001b[0m\n\u001b[0;31m    print(\"Missing end bracket\"\u001b[0m\n\u001b[0m                               ^\u001b[0m\n\u001b[0;31mSyntaxError\u001b[0m\u001b[0;31m:\u001b[0m incomplete input\n"
     ]
    }
   ],
   "source": [
    "# Syntax errors (found before a program is run)\n",
    "\n",
    "print(\"Missing end bracket\""
   ]
  },
  {
   "cell_type": "code",
   "execution_count": 50,
   "id": "84134ba2",
   "metadata": {},
   "outputs": [
    {
     "data": {
      "text/plain": [
       "'Uldis   '"
      ]
     },
     "execution_count": 50,
     "metadata": {},
     "output_type": "execute_result"
    }
   ],
   "source": [
    "text"
   ]
  },
  {
   "cell_type": "code",
   "execution_count": 51,
   "id": "7c8dc717",
   "metadata": {},
   "outputs": [
    {
     "ename": "ValueError",
     "evalue": "invalid literal for int() with base 10: 'Uldis   '",
     "output_type": "error",
     "traceback": [
      "\u001b[0;31m---------------------------------------------------------------------------\u001b[0m",
      "\u001b[0;31mValueError\u001b[0m                                Traceback (most recent call last)",
      "Cell \u001b[0;32mIn[51], line 4\u001b[0m\n\u001b[1;32m      1\u001b[0m \u001b[38;5;66;03m# Exceptions (raised when program is run)\u001b[39;00m\n\u001b[1;32m      2\u001b[0m \u001b[38;5;66;03m# in this case: can not convert this string to an integer\u001b[39;00m\n\u001b[0;32m----> 4\u001b[0m \u001b[38;5;28mprint\u001b[39m(\u001b[38;5;28;43mint\u001b[39;49m\u001b[43m(\u001b[49m\u001b[43mtext\u001b[49m\u001b[43m)\u001b[49m)\n",
      "\u001b[0;31mValueError\u001b[0m: invalid literal for int() with base 10: 'Uldis   '"
     ]
    }
   ],
   "source": [
    "# Exceptions (raised when program is run)\n",
    "# in this case: can not convert this string to an integer\n",
    "\n",
    "print(int(text))"
   ]
  },
  {
   "cell_type": "code",
   "execution_count": 52,
   "id": "14c72913",
   "metadata": {},
   "outputs": [
    {
     "name": "stdout",
     "output_type": "stream",
     "text": [
      "123\n"
     ]
    }
   ],
   "source": [
    "print(int(\"123\"))"
   ]
  },
  {
   "cell_type": "code",
   "execution_count": 53,
   "id": "338cc135",
   "metadata": {},
   "outputs": [
    {
     "ename": "ValueError",
     "evalue": "invalid literal for int() with base 10: '123.45'",
     "output_type": "error",
     "traceback": [
      "\u001b[0;31m---------------------------------------------------------------------------\u001b[0m",
      "\u001b[0;31mValueError\u001b[0m                                Traceback (most recent call last)",
      "Cell \u001b[0;32mIn[53], line 1\u001b[0m\n\u001b[0;32m----> 1\u001b[0m \u001b[38;5;28;43mint\u001b[39;49m\u001b[43m(\u001b[49m\u001b[38;5;124;43m\"\u001b[39;49m\u001b[38;5;124;43m123.45\u001b[39;49m\u001b[38;5;124;43m\"\u001b[39;49m\u001b[43m)\u001b[49m\n",
      "\u001b[0;31mValueError\u001b[0m: invalid literal for int() with base 10: '123.45'"
     ]
    }
   ],
   "source": [
    "int(\"123.45\")"
   ]
  },
  {
   "cell_type": "code",
   "execution_count": 54,
   "id": "d45e2d99",
   "metadata": {},
   "outputs": [
    {
     "ename": "ZeroDivisionError",
     "evalue": "division by zero",
     "output_type": "error",
     "traceback": [
      "\u001b[0;31m---------------------------------------------------------------------------\u001b[0m",
      "\u001b[0;31mZeroDivisionError\u001b[0m                         Traceback (most recent call last)",
      "Cell \u001b[0;32mIn[54], line 3\u001b[0m\n\u001b[1;32m      1\u001b[0m \u001b[38;5;66;03m# Division by 0 error\u001b[39;00m\n\u001b[0;32m----> 3\u001b[0m \u001b[38;5;28mprint\u001b[39m(\u001b[38;5;241;43m100\u001b[39;49m\u001b[38;5;241;43m/\u001b[39;49m\u001b[38;5;241;43m0\u001b[39;49m)\n",
      "\u001b[0;31mZeroDivisionError\u001b[0m: division by zero"
     ]
    }
   ],
   "source": [
    "# Division by 0 error\n",
    "\n",
    "print(100/0)"
   ]
  },
  {
   "cell_type": "code",
   "execution_count": 55,
   "id": "35bf8d5d",
   "metadata": {},
   "outputs": [
    {
     "name": "stdout",
     "output_type": "stream",
     "text": [
      "Can not divide by 0\n",
      "Continue executing the program\n"
     ]
    }
   ],
   "source": [
    "# We can catch exceptions and do something with them\n",
    "\n",
    "try:\n",
    "    result = 100/0\n",
    "    print(result)\n",
    "    \n",
    "except ZeroDivisionError as error:\n",
    "    print(\"Can not divide by 0\")\n",
    "    \n",
    "print(\"Continue executing the program\")"
   ]
  },
  {
   "cell_type": "code",
   "execution_count": 56,
   "id": "8b815aca",
   "metadata": {},
   "outputs": [
    {
     "name": "stdout",
     "output_type": "stream",
     "text": [
      "In 'else' block.\n",
      "Result is 50.0\n"
     ]
    }
   ],
   "source": [
    "# \"else\" block is executed if there was no exception\n",
    "\n",
    "n = 2\n",
    "\n",
    "try:\n",
    "    result = 100/n\n",
    "    \n",
    "except ZeroDivisionError as error:\n",
    "    print(\"Can not divide by 0\")\n",
    "    \n",
    "else:\n",
    "    print(\"In 'else' block.\")\n",
    "    print(\"Result is\", result)\n",
    "    "
   ]
  },
  {
   "cell_type": "code",
   "execution_count": 57,
   "id": "7fd4dcac",
   "metadata": {},
   "outputs": [
    {
     "name": "stdin",
     "output_type": "stream",
     "text": [
      "Enter an integer value:  rty\n"
     ]
    },
    {
     "name": "stdout",
     "output_type": "stream",
     "text": [
      "Text must be an integer value\n"
     ]
    }
   ],
   "source": [
    "a = input(\"Enter an integer value: \")\n",
    "\n",
    "try:\n",
    "    b = int(a)\n",
    "    \n",
    "except ValueError:\n",
    "    print(\"Text must be an integer value\")\n"
   ]
  },
  {
   "cell_type": "code",
   "execution_count": 58,
   "id": "b34a3d5e",
   "metadata": {},
   "outputs": [
    {
     "ename": "NameError",
     "evalue": "name 'b' is not defined",
     "output_type": "error",
     "traceback": [
      "\u001b[0;31m---------------------------------------------------------------------------\u001b[0m",
      "\u001b[0;31mNameError\u001b[0m                                 Traceback (most recent call last)",
      "Cell \u001b[0;32mIn[58], line 1\u001b[0m\n\u001b[0;32m----> 1\u001b[0m \u001b[43mb\u001b[49m\n",
      "\u001b[0;31mNameError\u001b[0m: name 'b' is not defined"
     ]
    }
   ],
   "source": [
    "b"
   ]
  },
  {
   "cell_type": "markdown",
   "id": "6d50cada",
   "metadata": {},
   "source": [
    "### Raising exceptions"
   ]
  },
  {
   "cell_type": "code",
   "execution_count": 59,
   "id": "26456221",
   "metadata": {},
   "outputs": [
    {
     "ename": "Exception",
     "evalue": "Must be a positive number",
     "output_type": "error",
     "traceback": [
      "\u001b[0;31m---------------------------------------------------------------------------\u001b[0m",
      "\u001b[0;31mException\u001b[0m                                 Traceback (most recent call last)",
      "Cell \u001b[0;32mIn[59], line 6\u001b[0m\n\u001b[1;32m      3\u001b[0m i \u001b[38;5;241m=\u001b[39m \u001b[38;5;241m-\u001b[39m\u001b[38;5;241m5\u001b[39m\n\u001b[1;32m      5\u001b[0m \u001b[38;5;28;01mif\u001b[39;00m i \u001b[38;5;241m<\u001b[39m \u001b[38;5;241m1\u001b[39m:\n\u001b[0;32m----> 6\u001b[0m     \u001b[38;5;28;01mraise\u001b[39;00m \u001b[38;5;167;01mException\u001b[39;00m(\u001b[38;5;124m\"\u001b[39m\u001b[38;5;124mMust be a positive number\u001b[39m\u001b[38;5;124m\"\u001b[39m)\n",
      "\u001b[0;31mException\u001b[0m: Must be a positive number"
     ]
    }
   ],
   "source": [
    "# Your code may also raise exceptions\n",
    "\n",
    "i = -5\n",
    "\n",
    "if i < 1:\n",
    "    raise Exception(\"Must be a positive number\")"
   ]
  },
  {
   "cell_type": "code",
   "execution_count": 60,
   "id": "74d1f9a2",
   "metadata": {},
   "outputs": [],
   "source": [
    "def test_pos_num(arg):\n",
    "    \n",
    "    if arg < 1:\n",
    "        raise Exception(\"Must be a positive number\")"
   ]
  },
  {
   "cell_type": "code",
   "execution_count": 61,
   "id": "7725437f-1e24-4bb7-9eef-2d2891c43f27",
   "metadata": {},
   "outputs": [],
   "source": [
    "test_pos_num(5)"
   ]
  },
  {
   "cell_type": "code",
   "execution_count": 62,
   "id": "b4c4a63e",
   "metadata": {},
   "outputs": [
    {
     "ename": "Exception",
     "evalue": "Must be a positive number",
     "output_type": "error",
     "traceback": [
      "\u001b[0;31m---------------------------------------------------------------------------\u001b[0m",
      "\u001b[0;31mException\u001b[0m                                 Traceback (most recent call last)",
      "Cell \u001b[0;32mIn[62], line 1\u001b[0m\n\u001b[0;32m----> 1\u001b[0m \u001b[43mtest_pos_num\u001b[49m\u001b[43m(\u001b[49m\u001b[38;5;241;43m-\u001b[39;49m\u001b[38;5;241;43m1\u001b[39;49m\u001b[43m)\u001b[49m\n",
      "Cell \u001b[0;32mIn[60], line 4\u001b[0m, in \u001b[0;36mtest_pos_num\u001b[0;34m(arg)\u001b[0m\n\u001b[1;32m      1\u001b[0m \u001b[38;5;28;01mdef\u001b[39;00m \u001b[38;5;21mtest_pos_num\u001b[39m(arg):\n\u001b[1;32m      3\u001b[0m     \u001b[38;5;28;01mif\u001b[39;00m arg \u001b[38;5;241m<\u001b[39m \u001b[38;5;241m1\u001b[39m:\n\u001b[0;32m----> 4\u001b[0m         \u001b[38;5;28;01mraise\u001b[39;00m \u001b[38;5;167;01mException\u001b[39;00m(\u001b[38;5;124m\"\u001b[39m\u001b[38;5;124mMust be a positive number\u001b[39m\u001b[38;5;124m\"\u001b[39m)\n",
      "\u001b[0;31mException\u001b[0m: Must be a positive number"
     ]
    }
   ],
   "source": [
    "test_pos_num(-1)"
   ]
  },
  {
   "cell_type": "code",
   "execution_count": 63,
   "id": "cd1061c0",
   "metadata": {},
   "outputs": [
    {
     "name": "stdout",
     "output_type": "stream",
     "text": [
      "Must be a positive number\n",
      "Program continues running.\n"
     ]
    }
   ],
   "source": [
    "# Let's catch this exception\n",
    "\n",
    "try:\n",
    "    test_pos_num(i)\n",
    "    \n",
    "except Exception as error:\n",
    "    print(error)\n",
    "    \n",
    "print(\"Program continues running.\")"
   ]
  },
  {
   "cell_type": "markdown",
   "id": "508f7d75",
   "metadata": {},
   "source": [
    "### Exercise\n",
    "\n",
    "Write a program that asks a user to input an integer value.\n",
    "- if the value is an integer, print this value\n",
    "- if it is not an integer, print an error message and ask the user to input an integer number again (until they input a valid integer value)"
   ]
  },
  {
   "cell_type": "code",
   "execution_count": null,
   "id": "3b70fdf8-6113-41a9-af32-411d283bbfd5",
   "metadata": {},
   "outputs": [],
   "source": [
    "\n",
    "    "
   ]
  },
  {
   "cell_type": "markdown",
   "id": "32ea7348",
   "metadata": {},
   "source": [
    "## File Input / Output\n",
    "\n",
    "- https://docs.python.org/3/tutorial/inputoutput.html#reading-and-writing-files\n",
    "- [Chapter 9 – Reading and Writing Files](https://automatetheboringstuff.com/2e/chapter9/) (Automate the Boring Stuff)"
   ]
  },
  {
   "cell_type": "markdown",
   "id": "416a4f0b",
   "metadata": {},
   "source": [
    "We can use Jupyter `%%writefile` to create an example file to work with.\n",
    "\n",
    "We may also want to check what is the current directory (where the file will be created)."
   ]
  },
  {
   "cell_type": "code",
   "execution_count": 64,
   "id": "4c43e6c0",
   "metadata": {},
   "outputs": [
    {
     "data": {
      "text/plain": [
       "'/Users/captsolo/Documents/Code/LU_GeoPython/notebooks'"
      ]
     },
     "execution_count": 64,
     "metadata": {},
     "output_type": "execute_result"
    }
   ],
   "source": [
    "# uncomment the next line to check what is the current directory\n",
    "%pwd"
   ]
  },
  {
   "cell_type": "code",
   "execution_count": 65,
   "id": "25e5910c",
   "metadata": {},
   "outputs": [
    {
     "name": "stdout",
     "output_type": "stream",
     "text": [
      "Writing somefile.txt\n"
     ]
    }
   ],
   "source": [
    "%%writefile somefile.txt\n",
    "This is an example file\n",
    "that we can experiment\n",
    "with."
   ]
  },
  {
   "cell_type": "code",
   "execution_count": 66,
   "id": "43466d4a",
   "metadata": {},
   "outputs": [
    {
     "name": "stdout",
     "output_type": "stream",
     "text": [
      "01 - Python Introduction.ipynb\n",
      "02 - Examples.ipynb\n",
      "02 - Python Introduction.ipynb\n",
      "03 - Python Functions.ipynb\n",
      "04 - Python Dictionaries and Sets.ipynb\n",
      "05 - Python Libraries.ipynb\n",
      "\u001b[31m06 - Strings, File Input and Output.ipynb\u001b[m\u001b[m*\n",
      "\u001b[31m07 - Object Oriented Programming.ipynb\u001b[m\u001b[m*\n",
      "08 - File Operations 2.ipynb\n",
      "09 - NumPy.ipynb\n",
      "\u001b[31m10 - Pandas.ipynb\u001b[m\u001b[m*\n",
      "\u001b[31m11 - Matplotlib.ipynb\u001b[m\u001b[m*\n",
      "11 - Plotly.ipynb\n",
      "12 - NetworkX.ipynb\n",
      "Addresses_AP3.xlsx\n",
      "Addresses_AP3ALLCLASSES_Geocoded_withID.xlsx\n",
      "Colormaps_0.html\n",
      "Colormaps_1.html\n",
      "Colormaps_2.html\n",
      "\u001b[31mFOLIUM.ipynb\u001b[m\u001b[m*\n",
      "GeoPandas_intro.ipynb\n",
      "GeoPy.ipynb\n",
      "Geocode-Plot_Geonames_complexInput.ipynb\n",
      "Numpy_exercises.ipynb\n",
      "Numpy_exercises_hints.ipynb\n",
      "Pandas Exercises.ipynb\n",
      "Polyline_text_path.html\n",
      "README.md\n",
      "US_Unemployment_Oct2012.csv\n",
      "Untitled.ipynb\n",
      "Untitled1.ipynb\n",
      "Untitled2.ipynb\n",
      "\u001b[1m\u001b[34mdata\u001b[m\u001b[m/\n",
      "\u001b[1m\u001b[34miframe_figures\u001b[m\u001b[m/\n",
      "\u001b[1m\u001b[34mimg\u001b[m\u001b[m/\n",
      "\u001b[1m\u001b[34min-class\u001b[m\u001b[m/\n",
      "lu.html\n",
      "mans_fails.py\n",
      "nltk_example.ipynb\n",
      "pandas_cheatsheet.pdf\n",
      "program_example.py\n",
      "riga.json\n",
      "somefile.txt\n",
      "us-states.json\n"
     ]
    }
   ],
   "source": [
    "## Linux and Mac\n",
    "%ls\n",
    "\n",
    "## Windows\n",
    "#!dir"
   ]
  },
  {
   "cell_type": "markdown",
   "id": "5bc75ad3-e6b5-4251-8ac6-86a9fdcfd773",
   "metadata": {},
   "source": [
    "### Directories and file paths\n",
    "\n",
    "- https://realpython.com/python-pathlib/\n",
    "- [Chapter 9 – Reading and Writing Files](https://automatetheboringstuff.com/2e/chapter9/) (Automate the Boring Stuff)"
   ]
  },
  {
   "cell_type": "code",
   "execution_count": 67,
   "id": "1639eb95-74ed-4a46-bd51-c9ac14f60253",
   "metadata": {},
   "outputs": [],
   "source": [
    "# let's import the Path class\n",
    "from pathlib import Path"
   ]
  },
  {
   "cell_type": "code",
   "execution_count": 68,
   "id": "161b0c78-b68e-4e95-aca8-8c05ee568a5d",
   "metadata": {},
   "outputs": [],
   "source": [
    "# now we can make a Path for the current directory (.)\n",
    "my_path = Path(\".\")"
   ]
  },
  {
   "cell_type": "code",
   "execution_count": 69,
   "id": "9fcd3e40-75e5-4a77-99ae-d37f4816e932",
   "metadata": {},
   "outputs": [
    {
     "name": "stdout",
     "output_type": "stream",
     "text": [
      "nltk_example.ipynb\n",
      "06 - Strings, File Input and Output.ipynb\n",
      "pandas_cheatsheet.pdf\n",
      "Untitled1.ipynb\n",
      "FOLIUM.ipynb\n",
      ".DS_Store\n",
      "in-class\n",
      "somefile.txt\n",
      "GeoPandas_intro.ipynb\n",
      "01 - Python Introduction.ipynb\n",
      "04 - Python Dictionaries and Sets.ipynb\n",
      "US_Unemployment_Oct2012.csv\n",
      "Polyline_text_path.html\n",
      "Untitled.ipynb\n",
      "09 - NumPy.ipynb\n",
      "03 - Python Functions.ipynb\n",
      "Untitled2.ipynb\n",
      "Numpy_exercises.ipynb\n",
      "10 - Pandas.ipynb\n",
      "mans_fails.py\n",
      "07 - Object Oriented Programming.ipynb\n",
      "Colormaps_2.html\n",
      "Pandas Exercises.ipynb\n",
      "riga.json\n",
      "README.md\n",
      "img\n",
      "Colormaps_1.html\n",
      "GeoPy.ipynb\n",
      "11 - Matplotlib.ipynb\n",
      "Colormaps_0.html\n",
      "iframe_figures\n",
      ".ipynb_checkpoints\n",
      "Numpy_exercises_hints.ipynb\n",
      "lu.html\n",
      "us-states.json\n",
      "08 - File Operations 2.ipynb\n",
      "02 - Python Introduction.ipynb\n",
      "program_example.py\n",
      "Addresses_AP3.xlsx\n",
      "data\n",
      "11 - Plotly.ipynb\n",
      "Addresses_AP3ALLCLASSES_Geocoded_withID.xlsx\n",
      "12 - NetworkX.ipynb\n",
      "05 - Python Libraries.ipynb\n",
      "Geocode-Plot_Geonames_complexInput.ipynb\n",
      "02 - Examples.ipynb\n"
     ]
    }
   ],
   "source": [
    "# ... and list contents of this directory (but the list is not ordered)\n",
    "\n",
    "for item in my_path.iterdir():\n",
    "    print(item)"
   ]
  },
  {
   "cell_type": "code",
   "execution_count": 70,
   "id": "3cce0722-17c6-498a-9737-78a940d30b06",
   "metadata": {},
   "outputs": [
    {
     "name": "stdout",
     "output_type": "stream",
     "text": [
      ".DS_Store\n",
      ".ipynb_checkpoints\n",
      "01 - Python Introduction.ipynb\n",
      "02 - Examples.ipynb\n",
      "02 - Python Introduction.ipynb\n",
      "03 - Python Functions.ipynb\n",
      "04 - Python Dictionaries and Sets.ipynb\n",
      "05 - Python Libraries.ipynb\n",
      "06 - Strings, File Input and Output.ipynb\n",
      "07 - Object Oriented Programming.ipynb\n",
      "08 - File Operations 2.ipynb\n",
      "09 - NumPy.ipynb\n",
      "10 - Pandas.ipynb\n",
      "11 - Matplotlib.ipynb\n",
      "11 - Plotly.ipynb\n",
      "12 - NetworkX.ipynb\n",
      "Addresses_AP3.xlsx\n",
      "Addresses_AP3ALLCLASSES_Geocoded_withID.xlsx\n",
      "Colormaps_0.html\n",
      "Colormaps_1.html\n",
      "Colormaps_2.html\n",
      "FOLIUM.ipynb\n",
      "GeoPandas_intro.ipynb\n",
      "GeoPy.ipynb\n",
      "Geocode-Plot_Geonames_complexInput.ipynb\n",
      "Numpy_exercises.ipynb\n",
      "Numpy_exercises_hints.ipynb\n",
      "Pandas Exercises.ipynb\n",
      "Polyline_text_path.html\n",
      "README.md\n",
      "US_Unemployment_Oct2012.csv\n",
      "Untitled.ipynb\n",
      "Untitled1.ipynb\n",
      "Untitled2.ipynb\n",
      "data\n",
      "iframe_figures\n",
      "img\n",
      "in-class\n",
      "lu.html\n",
      "mans_fails.py\n",
      "nltk_example.ipynb\n",
      "pandas_cheatsheet.pdf\n",
      "program_example.py\n",
      "riga.json\n",
      "somefile.txt\n",
      "us-states.json\n"
     ]
    }
   ],
   "source": [
    "# let's order the file list\n",
    "\n",
    "for item in sorted(my_path.iterdir()):\n",
    "    print(item)"
   ]
  },
  {
   "cell_type": "code",
   "execution_count": 71,
   "id": "90e39158-966c-460f-a550-12286567a2b9",
   "metadata": {},
   "outputs": [
    {
     "name": "stdout",
     "output_type": "stream",
     "text": [
      "somefile.txt\n"
     ]
    }
   ],
   "source": [
    "# .glob() method lets us look for files matching the given pattern\n",
    "# * = means any text\n",
    "\n",
    "for item in my_path.glob(\"*.txt\"):\n",
    "    print(item)"
   ]
  },
  {
   "cell_type": "code",
   "execution_count": 72,
   "id": "f4dae894-6bfc-42f5-af21-801ece8dc524",
   "metadata": {},
   "outputs": [
    {
     "name": "stdout",
     "output_type": "stream",
     "text": [
      "../notebooks/05 - Python Libraries.ipynb\n",
      "../.git/objects/d7/05e40d4ce14d189a7b052e6bdb4097ed7dbfec\n",
      "../notebooks/in-class/05 - Python Libraries.ipynb\n",
      "../notebooks/.ipynb_checkpoints/05 - Python Libraries-checkpoint.ipynb\n",
      "../notebooks/in-class/.ipynb_checkpoints/05 - Python Libraries-checkpoint.ipynb\n"
     ]
    }
   ],
   "source": [
    "# we can also look for files in subdirectories of the given directory\n",
    "\n",
    "# .. = the directory \"above\" the current directory in the directory tree\n",
    "my_path2 = Path(\"..\")\n",
    "\n",
    "# Note: this does not work correctly in Google Colab\n",
    "\n",
    "for item in my_path2.glob(\"**/05*\"):\n",
    "    print(item)"
   ]
  },
  {
   "cell_type": "markdown",
   "id": "550981d7",
   "metadata": {},
   "source": [
    "### Reading a file\n",
    "\n",
    "Now that we have found some files, we can look at reading and writing files."
   ]
  },
  {
   "cell_type": "code",
   "execution_count": 73,
   "id": "1df32653",
   "metadata": {},
   "outputs": [],
   "source": [
    "fname = \"somefile.txt\""
   ]
  },
  {
   "cell_type": "code",
   "execution_count": 74,
   "id": "8eae44f2",
   "metadata": {},
   "outputs": [],
   "source": [
    "file = open(fname, encoding=\"utf-8\")"
   ]
  },
  {
   "cell_type": "code",
   "execution_count": 75,
   "id": "5f3dc3b2",
   "metadata": {},
   "outputs": [
    {
     "name": "stdout",
     "output_type": "stream",
     "text": [
      "Help on TextIOWrapper in module _io object:\n",
      "\n",
      "class TextIOWrapper(_TextIOBase)\n",
      " |  TextIOWrapper(buffer, encoding=None, errors=None, newline=None, line_buffering=False, write_through=False)\n",
      " |\n",
      " |  Character and line based layer over a BufferedIOBase object, buffer.\n",
      " |\n",
      " |  encoding gives the name of the encoding that the stream will be\n",
      " |  decoded or encoded with. It defaults to locale.getencoding().\n",
      " |\n",
      " |  errors determines the strictness of encoding and decoding (see\n",
      " |  help(codecs.Codec) or the documentation for codecs.register) and\n",
      " |  defaults to \"strict\".\n",
      " |\n",
      " |  newline controls how line endings are handled. It can be None, '',\n",
      " |  '\\n', '\\r', and '\\r\\n'.  It works as follows:\n",
      " |\n",
      " |  * On input, if newline is None, universal newlines mode is\n",
      " |    enabled. Lines in the input can end in '\\n', '\\r', or '\\r\\n', and\n",
      " |    these are translated into '\\n' before being returned to the\n",
      " |    caller. If it is '', universal newline mode is enabled, but line\n",
      " |    endings are returned to the caller untranslated. If it has any of\n",
      " |    the other legal values, input lines are only terminated by the given\n",
      " |    string, and the line ending is returned to the caller untranslated.\n",
      " |\n",
      " |  * On output, if newline is None, any '\\n' characters written are\n",
      " |    translated to the system default line separator, os.linesep. If\n",
      " |    newline is '' or '\\n', no translation takes place. If newline is any\n",
      " |    of the other legal values, any '\\n' characters written are translated\n",
      " |    to the given string.\n",
      " |\n",
      " |  If line_buffering is True, a call to flush is implied when a call to\n",
      " |  write contains a newline character.\n",
      " |\n",
      " |  Method resolution order:\n",
      " |      TextIOWrapper\n",
      " |      _TextIOBase\n",
      " |      _IOBase\n",
      " |      builtins.object\n",
      " |\n",
      " |  Methods defined here:\n",
      " |\n",
      " |  __init__(self, /, *args, **kwargs)\n",
      " |      Initialize self.  See help(type(self)) for accurate signature.\n",
      " |\n",
      " |  __next__(self, /)\n",
      " |      Implement next(self).\n",
      " |\n",
      " |  __reduce__(...)\n",
      " |      Helper for pickle.\n",
      " |\n",
      " |  __reduce_ex__(...)\n",
      " |      Helper for pickle.\n",
      " |\n",
      " |  __repr__(self, /)\n",
      " |      Return repr(self).\n",
      " |\n",
      " |  close(self, /)\n",
      " |      Flush and close the IO object.\n",
      " |\n",
      " |      This method has no effect if the file is already closed.\n",
      " |\n",
      " |  detach(self, /)\n",
      " |      Separate the underlying buffer from the TextIOBase and return it.\n",
      " |\n",
      " |      After the underlying buffer has been detached, the TextIO is in an unusable state.\n",
      " |\n",
      " |  fileno(self, /)\n",
      " |      Return underlying file descriptor if one exists.\n",
      " |\n",
      " |      Raise OSError if the IO object does not use a file descriptor.\n",
      " |\n",
      " |  flush(self, /)\n",
      " |      Flush write buffers, if applicable.\n",
      " |\n",
      " |      This is not implemented for read-only and non-blocking streams.\n",
      " |\n",
      " |  isatty(self, /)\n",
      " |      Return whether this is an 'interactive' stream.\n",
      " |\n",
      " |      Return False if it can't be determined.\n",
      " |\n",
      " |  read(self, size=-1, /)\n",
      " |      Read at most size characters from stream.\n",
      " |\n",
      " |      Read from underlying buffer until we have size characters or we hit EOF.\n",
      " |      If size is negative or omitted, read until EOF.\n",
      " |\n",
      " |  readable(self, /)\n",
      " |      Return whether object was opened for reading.\n",
      " |\n",
      " |      If False, read() will raise OSError.\n",
      " |\n",
      " |  readline(self, size=-1, /)\n",
      " |      Read until newline or EOF.\n",
      " |\n",
      " |      Return an empty string if EOF is hit immediately.\n",
      " |      If size is specified, at most size characters will be read.\n",
      " |\n",
      " |  reconfigure(self, /, *, encoding=None, errors=None, newline=None, line_buffering=None, write_through=None)\n",
      " |      Reconfigure the text stream with new parameters.\n",
      " |\n",
      " |      This also does an implicit stream flush.\n",
      " |\n",
      " |  seek(self, cookie, whence=0, /)\n",
      " |      Set the stream position, and return the new stream position.\n",
      " |\n",
      " |        cookie\n",
      " |          Zero or an opaque number returned by tell().\n",
      " |        whence\n",
      " |          The relative position to seek from.\n",
      " |\n",
      " |      Four operations are supported, given by the following argument\n",
      " |      combinations:\n",
      " |\n",
      " |      - seek(0, SEEK_SET): Rewind to the start of the stream.\n",
      " |      - seek(cookie, SEEK_SET): Restore a previous position;\n",
      " |        'cookie' must be a number returned by tell().\n",
      " |      - seek(0, SEEK_END): Fast-forward to the end of the stream.\n",
      " |      - seek(0, SEEK_CUR): Leave the current stream position unchanged.\n",
      " |\n",
      " |      Any other argument combinations are invalid,\n",
      " |      and may raise exceptions.\n",
      " |\n",
      " |  seekable(self, /)\n",
      " |      Return whether object supports random access.\n",
      " |\n",
      " |      If False, seek(), tell() and truncate() will raise OSError.\n",
      " |      This method may need to do a test seek().\n",
      " |\n",
      " |  tell(self, /)\n",
      " |      Return the stream position as an opaque number.\n",
      " |\n",
      " |      The return value of tell() can be given as input to seek(), to restore a\n",
      " |      previous stream position.\n",
      " |\n",
      " |  truncate(self, pos=None, /)\n",
      " |      Truncate file to size bytes.\n",
      " |\n",
      " |      File pointer is left unchanged. Size defaults to the current IO position\n",
      " |      as reported by tell(). Return the new size.\n",
      " |\n",
      " |  writable(self, /)\n",
      " |      Return whether object was opened for writing.\n",
      " |\n",
      " |      If False, write() will raise OSError.\n",
      " |\n",
      " |  write(self, text, /)\n",
      " |      Write string s to stream.\n",
      " |\n",
      " |      Return the number of characters written\n",
      " |      (which is always equal to the length of the string).\n",
      " |\n",
      " |  ----------------------------------------------------------------------\n",
      " |  Data descriptors defined here:\n",
      " |\n",
      " |  buffer\n",
      " |\n",
      " |  closed\n",
      " |\n",
      " |  encoding\n",
      " |      Encoding of the text stream.\n",
      " |\n",
      " |      Subclasses should override.\n",
      " |\n",
      " |  errors\n",
      " |      The error setting of the decoder or encoder.\n",
      " |\n",
      " |      Subclasses should override.\n",
      " |\n",
      " |  line_buffering\n",
      " |\n",
      " |  name\n",
      " |\n",
      " |  newlines\n",
      " |      Line endings translated so far.\n",
      " |\n",
      " |      Only line endings translated during reading are considered.\n",
      " |\n",
      " |      Subclasses should override.\n",
      " |\n",
      " |  write_through\n",
      " |\n",
      " |  ----------------------------------------------------------------------\n",
      " |  Methods inherited from _IOBase:\n",
      " |\n",
      " |  __del__(...)\n",
      " |\n",
      " |  __enter__(...)\n",
      " |\n",
      " |  __exit__(...)\n",
      " |\n",
      " |  __iter__(self, /)\n",
      " |      Implement iter(self).\n",
      " |\n",
      " |  readlines(self, hint=-1, /)\n",
      " |      Return a list of lines from the stream.\n",
      " |\n",
      " |      hint can be specified to control the number of lines read: no more\n",
      " |      lines will be read if the total size (in bytes/characters) of all\n",
      " |      lines so far exceeds hint.\n",
      " |\n",
      " |  writelines(self, lines, /)\n",
      " |      Write a list of lines to stream.\n",
      " |\n",
      " |      Line separators are not added, so it is usual for each of the\n",
      " |      lines provided to have a line separator at the end.\n",
      " |\n",
      " |  ----------------------------------------------------------------------\n",
      " |  Data descriptors inherited from _IOBase:\n",
      " |\n",
      " |  __dict__\n",
      "\n"
     ]
    }
   ],
   "source": [
    "help(file)"
   ]
  },
  {
   "cell_type": "code",
   "execution_count": 76,
   "id": "805ea409-4df8-48c7-ac19-fe3db01563c8",
   "metadata": {},
   "outputs": [
    {
     "name": "stdout",
     "output_type": "stream",
     "text": [
      "Help on built-in function read:\n",
      "\n",
      "read(size=-1, /) method of _io.TextIOWrapper instance\n",
      "    Read at most size characters from stream.\n",
      "\n",
      "    Read from underlying buffer until we have size characters or we hit EOF.\n",
      "    If size is negative or omitted, read until EOF.\n",
      "\n"
     ]
    }
   ],
   "source": [
    "help(file.read)"
   ]
  },
  {
   "cell_type": "code",
   "execution_count": 77,
   "id": "49d67702",
   "metadata": {},
   "outputs": [
    {
     "name": "stdout",
     "output_type": "stream",
     "text": [
      "This is an example file\n",
      "that we can experiment\n",
      "with.\n",
      "\n"
     ]
    }
   ],
   "source": [
    "data = file.read()\n",
    "\n",
    "print(data)"
   ]
  },
  {
   "cell_type": "code",
   "execution_count": 78,
   "id": "18cc4463",
   "metadata": {},
   "outputs": [],
   "source": [
    "# it is good practice to close a file when you're done with it\n",
    "file.close()"
   ]
  },
  {
   "cell_type": "markdown",
   "id": "aa2648e9",
   "metadata": {},
   "source": [
    "### Automatically closing a file using `with`"
   ]
  },
  {
   "cell_type": "code",
   "execution_count": 79,
   "id": "131a31b0",
   "metadata": {},
   "outputs": [
    {
     "name": "stdout",
     "output_type": "stream",
     "text": [
      "This is an example file\n",
      "that we can experiment\n",
      "with.\n",
      "\n"
     ]
    }
   ],
   "source": [
    "with open(fname) as file:\n",
    "    data = file.read()\n",
    "\n",
    "# file is closed automatically when the `with` block ends\n",
    "\n",
    "print(data)"
   ]
  },
  {
   "cell_type": "code",
   "execution_count": 80,
   "id": "22e834d4",
   "metadata": {},
   "outputs": [
    {
     "name": "stdout",
     "output_type": "stream",
     "text": [
      "> This is an example file\n",
      "\n",
      "> that we can experiment\n",
      "\n",
      "> with.\n",
      "\n"
     ]
    }
   ],
   "source": [
    "# we can also iterate (go through) a file line by line\n",
    "\n",
    "with open(fname) as file:\n",
    "    \n",
    "    for line in file:\n",
    "        print(\">\", line)"
   ]
  },
  {
   "cell_type": "code",
   "execution_count": 81,
   "id": "416b562f-33c4-4176-afc8-d2f95e1bed18",
   "metadata": {},
   "outputs": [
    {
     "name": "stdout",
     "output_type": "stream",
     "text": [
      "> This is an example file\n",
      "> that we can experiment\n",
      "> with.\n"
     ]
    }
   ],
   "source": [
    "# let's get rid of the empty lines\n",
    "\n",
    "with open(fname) as file:\n",
    "    \n",
    "    for line in file:\n",
    "        line = line.strip()\n",
    "        print(\">\", line)"
   ]
  },
  {
   "cell_type": "code",
   "execution_count": 82,
   "id": "733cac3b-211e-4301-ab4b-f484fe395704",
   "metadata": {},
   "outputs": [
    {
     "name": "stdout",
     "output_type": "stream",
     "text": [
      "0 > This is an example file\n",
      "1 > that we can experiment\n",
      "2 > with.\n"
     ]
    }
   ],
   "source": [
    "# let's print out line numbers\n",
    "\n",
    "with open(fname) as file:\n",
    "    \n",
    "    for num, line in enumerate(file):\n",
    "        line = line.strip()\n",
    "        print(num, \">\", line)"
   ]
  },
  {
   "cell_type": "markdown",
   "id": "62b72ef7",
   "metadata": {},
   "source": [
    "### Writing a file\n",
    "\n",
    "Note: it is **important** to **close a file** after writing is finished. The `with` command does it automatically."
   ]
  },
  {
   "cell_type": "code",
   "execution_count": 83,
   "id": "0790474f",
   "metadata": {},
   "outputs": [],
   "source": [
    "fname_out = \"test123.txt\"\n",
    "\n",
    "text = \"\"\"\n",
    "This is an example text string.\n",
    "\n",
    "f.write(string) writes the contents of string to the file, returning the number of characters written.\n",
    "\"\"\"\n",
    "\n",
    "with open(fname_out, \"w\", encoding=\"utf-8\") as file_out:\n",
    "    \n",
    "    file_out.write(text)\n",
    "    \n",
    "    file_out.write(str(123) + \"\\n\")\n",
    "    file_out.write(str(456) + \"\\n\")    "
   ]
  },
  {
   "cell_type": "code",
   "execution_count": null,
   "id": "152d4f2b",
   "metadata": {},
   "outputs": [],
   "source": []
  },
  {
   "cell_type": "code",
   "execution_count": 84,
   "id": "008acffd",
   "metadata": {},
   "outputs": [
    {
     "name": "stdout",
     "output_type": "stream",
     "text": [
      "\n",
      "This is an example text string.\n",
      "\n",
      "f.write(string) writes the contents of string to the file, returning the number of characters written.\n",
      "123\n",
      "456\n",
      "\n"
     ]
    }
   ],
   "source": [
    "# Read a file to see what was written to it\n",
    "\n",
    "def read_file(fname):\n",
    "\n",
    "    with open(fname) as file:\n",
    "        data = file.read()\n",
    "        print(data)\n",
    "        \n",
    "read_file(fname_out)"
   ]
  },
  {
   "cell_type": "code",
   "execution_count": 85,
   "id": "0278bc2c",
   "metadata": {},
   "outputs": [],
   "source": [
    "# You can also use print() to write to a file\n",
    "\n",
    "with open(fname_out, \"w\", encoding=\"utf-8\") as file_out:\n",
    "\n",
    "    print(text, file=file_out)\n",
    "    print(str(123), file=file_out)\n",
    "    print(str(789), file=file_out)"
   ]
  },
  {
   "cell_type": "code",
   "execution_count": 86,
   "id": "b1fb53cf",
   "metadata": {},
   "outputs": [
    {
     "name": "stdout",
     "output_type": "stream",
     "text": [
      "\n",
      "This is an example text string.\n",
      "\n",
      "f.write(string) writes the contents of string to the file, returning the number of characters written.\n",
      "\n",
      "123\n",
      "789\n",
      "\n"
     ]
    }
   ],
   "source": [
    "read_file(fname_out)"
   ]
  },
  {
   "cell_type": "markdown",
   "id": "a62722e9",
   "metadata": {},
   "source": [
    "### CSV files\n",
    "\n",
    "- https://docs.python.org/3/library/csv.html\n",
    "- https://realpython.com/python-csv/\n",
    "\n",
    "Comma-Separated Values\n",
    "- rows of values (table cells) separated using a \",\" character (or using another separator)\n",
    "- ar komatu (vai citu atdalītāju) atdalītas vērtības\n",
    "\n",
    "---\n",
    "\n",
    "#### Open Data in CSV format\n",
    "\n",
    "Download COVID-19 open dataset (or any other CSV dataset) from data.gov.lv and put it in the current directory:\n",
    "- https://data.gov.lv/dati/lv/dataset/stacionaru-operativie-dati-par-covid19"
   ]
  },
  {
   "cell_type": "code",
   "execution_count": 88,
   "id": "824b28c1",
   "metadata": {},
   "outputs": [],
   "source": [
    "fname_csv = \"covidpatients.csv\""
   ]
  },
  {
   "cell_type": "code",
   "execution_count": 89,
   "id": "4232b2bd",
   "metadata": {},
   "outputs": [],
   "source": [
    "from itertools import islice"
   ]
  },
  {
   "cell_type": "code",
   "execution_count": 91,
   "id": "78b8477d",
   "metadata": {
    "scrolled": true
   },
   "outputs": [
    {
     "name": "stdout",
     "output_type": "stream",
     "text": [
      "Datums;ĀI kods;ĀI nosaukums;Kopā;Jauni;Pamata diagnoze;Blakus diagnoze;Smaga slimības gaita;t.sk. Invazīva MPV;Vidēja slimības gaita;Miruši;Izrakstīti;Pārvesti;t.sk. uz augstāka līmeņa;t.sk. uz zemāka līmeņa;t.sk. uz tāda paša līmeņa\n",
      "\n",
      "2022-02-01T00:00:00;320200001-01;Aizkraukles slimnīca;1;1;0;1;0;0;0;0;0;0;0;0;0\n",
      "\n",
      "2022-02-01T00:00:00;360200027-01;Alūksnes slimnīca;0;0;0;6;0;0;0;0;1;0;0;0;0\n",
      "\n",
      "2022-02-01T00:00:00;500200052-02;Balvu un Gulbenes slimnīcu apvienība;18;;12;6;2;0;16;1;1;0;0;0;0\n",
      "\n",
      "2022-02-01T00:00:00;400200024-01;Bauskas slimnīca;2;0;4;0;0;0;4;0;1;0;0;0;0\n",
      "\n",
      "2022-02-01T00:00:00;010011804-01;Bērnu klīniskā universitātes slimnīca;9;5;6;3;;;9;;9;;;;2\n",
      "\n",
      "2022-02-01T00:00:00;661400011-01;Bērnu psihoneiroloģiskā slimnīca \"Ainaži\";2;1;0;1;0;0;0;0;0;0;0;0;0\n",
      "\n",
      "2022-02-01T00:00:00;420200052-01;Cēsu klīnika;11;2;11;0;1;1;8;0;0;0;0;;0\n",
      "\n",
      "2022-02-01T00:00:00;050012101-01;Daugavpils psihoneiroloģiskā slimnīca;6;1;3;3;0;0;1;0;0;1;0;0;1\n",
      "\n",
      "2022-02-01T00:00:00;050012101-02;Daugavpils psihoneiroloģiskās slimnīcas Aknīstes slimnīca;1;0;;1;;;1;;;;;;\n",
      "\n"
     ]
    }
   ],
   "source": [
    "with open(fname_csv, encoding=\"utf-8\") as file_csv:\n",
    "\n",
    "    # here we use islice() to limit the input data to 10 records\n",
    "    first_10_rows = islice(file_csv, 10)\n",
    "    \n",
    "    for line in first_10_rows:\n",
    "        print(line)"
   ]
  },
  {
   "cell_type": "code",
   "execution_count": null,
   "id": "2b05f444",
   "metadata": {},
   "outputs": [],
   "source": [
    "# A-ha! This time \";\" is the separator character"
   ]
  },
  {
   "cell_type": "code",
   "execution_count": 92,
   "id": "59f40212",
   "metadata": {},
   "outputs": [
    {
     "name": "stdout",
     "output_type": "stream",
     "text": [
      "['Datums;ĀI kods;ĀI nosaukums;Kopā;Jauni;Pamata diagnoze;Blakus diagnoze;Smaga slimības gaita;t.sk. Invazīva MPV;Vidēja slimības gaita;Miruši;Izrakstīti;Pārvesti;t.sk. uz augstāka līmeņa;t.sk. uz zemāka līmeņa;t.sk. uz tāda paša līmeņa']\n",
      "['2022-02-01T00:00:00;320200001-01;Aizkraukles slimnīca;1;1;0;1;0;0;0;0;0;0;0;0;0']\n",
      "['2022-02-01T00:00:00;360200027-01;Alūksnes slimnīca;0;0;0;6;0;0;0;0;1;0;0;0;0']\n",
      "['2022-02-01T00:00:00;500200052-02;Balvu un Gulbenes slimnīcu apvienība;18;;12;6;2;0;16;1;1;0;0;0;0']\n",
      "['2022-02-01T00:00:00;400200024-01;Bauskas slimnīca;2;0;4;0;0;0;4;0;1;0;0;0;0']\n",
      "['2022-02-01T00:00:00;010011804-01;Bērnu klīniskā universitātes slimnīca;9;5;6;3;;;9;;9;;;;2']\n",
      "['2022-02-01T00:00:00;661400011-01;Bērnu psihoneiroloģiskā slimnīca \"Ainaži\";2;1;0;1;0;0;0;0;0;0;0;0;0']\n",
      "['2022-02-01T00:00:00;420200052-01;Cēsu klīnika;11;2;11;0;1;1;8;0;0;0;0;;0']\n",
      "['2022-02-01T00:00:00;050012101-01;Daugavpils psihoneiroloģiskā slimnīca;6;1;3;3;0;0;1;0;0;1;0;0;1']\n",
      "['2022-02-01T00:00:00;050012101-02;Daugavpils psihoneiroloģiskās slimnīcas Aknīstes slimnīca;1;0;;1;;;1;;;;;;']\n"
     ]
    }
   ],
   "source": [
    "# Let's read it as a CSV file\n",
    "\n",
    "import csv\n",
    "\n",
    "with open(fname_csv, encoding=\"utf-8\") as file_csv:\n",
    "    \n",
    "    rdr = csv.reader(file_csv)\n",
    "    \n",
    "    rdr_10_rows = islice(rdr, 10)\n",
    "    \n",
    "    for row in rdr_10_rows:\n",
    "        print(row)\n",
    "        "
   ]
  },
  {
   "cell_type": "code",
   "execution_count": 93,
   "id": "f0046e16",
   "metadata": {
    "scrolled": true
   },
   "outputs": [
    {
     "name": "stdout",
     "output_type": "stream",
     "text": [
      "['Datums', 'ĀI kods', 'ĀI nosaukums', 'Kopā', 'Jauni', 'Pamata diagnoze', 'Blakus diagnoze', 'Smaga slimības gaita', 't.sk. Invazīva MPV', 'Vidēja slimības gaita', 'Miruši', 'Izrakstīti', 'Pārvesti', 't.sk. uz augstāka līmeņa', 't.sk. uz zemāka līmeņa', 't.sk. uz tāda paša līmeņa']\n",
      "['2022-02-01T00:00:00', '320200001-01', 'Aizkraukles slimnīca', '1', '1', '0', '1', '0', '0', '0', '0', '0', '0', '0', '0', '0']\n",
      "['2022-02-01T00:00:00', '360200027-01', 'Alūksnes slimnīca', '0', '0', '0', '6', '0', '0', '0', '0', '1', '0', '0', '0', '0']\n",
      "['2022-02-01T00:00:00', '500200052-02', 'Balvu un Gulbenes slimnīcu apvienība', '18', '', '12', '6', '2', '0', '16', '1', '1', '0', '0', '0', '0']\n",
      "['2022-02-01T00:00:00', '400200024-01', 'Bauskas slimnīca', '2', '0', '4', '0', '0', '0', '4', '0', '1', '0', '0', '0', '0']\n",
      "['2022-02-01T00:00:00', '010011804-01', 'Bērnu klīniskā universitātes slimnīca', '9', '5', '6', '3', '', '', '9', '', '9', '', '', '', '2']\n",
      "['2022-02-01T00:00:00', '661400011-01', 'Bērnu psihoneiroloģiskā slimnīca \"Ainaži\"', '2', '1', '0', '1', '0', '0', '0', '0', '0', '0', '0', '0', '0']\n",
      "['2022-02-01T00:00:00', '420200052-01', 'Cēsu klīnika', '11', '2', '11', '0', '1', '1', '8', '0', '0', '0', '0', '', '0']\n",
      "['2022-02-01T00:00:00', '050012101-01', 'Daugavpils psihoneiroloģiskā slimnīca', '6', '1', '3', '3', '0', '0', '1', '0', '0', '1', '0', '0', '1']\n",
      "['2022-02-01T00:00:00', '050012101-02', 'Daugavpils psihoneiroloģiskās slimnīcas Aknīstes slimnīca', '1', '0', '', '1', '', '', '1', '', '', '', '', '', '']\n"
     ]
    }
   ],
   "source": [
    "# Separator is \";\"\n",
    "\n",
    "data = []\n",
    "\n",
    "with open(fname_csv, encoding=\"utf-8\") as file_csv:\n",
    "    \n",
    "    rdr = csv.reader(file_csv, delimiter=\";\")\n",
    "    \n",
    "    rdr_10_rows = islice(rdr, 10)\n",
    "    \n",
    "    for row in rdr_10_rows:\n",
    "        print(row)\n",
    "        data.append(row)\n",
    "    "
   ]
  },
  {
   "cell_type": "code",
   "execution_count": 94,
   "id": "a3eb9fc9",
   "metadata": {},
   "outputs": [
    {
     "data": {
      "text/plain": [
       "'ĀI nosaukums'"
      ]
     },
     "execution_count": 94,
     "metadata": {},
     "output_type": "execute_result"
    }
   ],
   "source": [
    "data[0][2]"
   ]
  },
  {
   "cell_type": "code",
   "execution_count": 95,
   "id": "8314feea",
   "metadata": {},
   "outputs": [
    {
     "data": {
      "text/plain": [
       "'Aizkraukles slimnīca'"
      ]
     },
     "execution_count": 95,
     "metadata": {},
     "output_type": "execute_result"
    }
   ],
   "source": [
    "data[1][2]"
   ]
  },
  {
   "cell_type": "code",
   "execution_count": 96,
   "id": "fa233f53",
   "metadata": {},
   "outputs": [
    {
     "name": "stdout",
     "output_type": "stream",
     "text": [
      "[['Datums',\n",
      "  'ĀI kods',\n",
      "  'ĀI nosaukums',\n",
      "  'Kopā',\n",
      "  'Jauni',\n",
      "  'Pamata diagnoze',\n",
      "  'Blakus diagnoze',\n",
      "  'Smaga slimības gaita',\n",
      "  't.sk. Invazīva MPV',\n",
      "  'Vidēja slimības gaita',\n",
      "  'Miruši',\n",
      "  'Izrakstīti',\n",
      "  'Pārvesti',\n",
      "  't.sk. uz augstāka līmeņa',\n",
      "  't.sk. uz zemāka līmeņa',\n",
      "  't.sk. uz tāda paša līmeņa'],\n",
      " ['2022-02-01T00:00:00',\n",
      "  '320200001-01',\n",
      "  'Aizkraukles slimnīca',\n",
      "  '1',\n",
      "  '1',\n",
      "  '0',\n",
      "  '1',\n",
      "  '0',\n",
      "  '0',\n",
      "  '0',\n",
      "  '0',\n",
      "  '0',\n",
      "  '0',\n",
      "  '0',\n",
      "  '0',\n",
      "  '0'],\n",
      " ['2022-02-01T00:00:00',\n",
      "  '360200027-01',\n",
      "  'Alūksnes slimnīca',\n",
      "  '0',\n",
      "  '0',\n",
      "  '0',\n",
      "  '6',\n",
      "  '0',\n",
      "  '0',\n",
      "  '0',\n",
      "  '0',\n",
      "  '1',\n",
      "  '0',\n",
      "  '0',\n",
      "  '0',\n",
      "  '0']]\n"
     ]
    }
   ],
   "source": [
    "from pprint import pprint\n",
    "\n",
    "pprint(data[:3])"
   ]
  },
  {
   "cell_type": "code",
   "execution_count": 97,
   "id": "66f667ec",
   "metadata": {},
   "outputs": [],
   "source": [
    "# Writing a CSV file\n",
    "\n",
    "fname_out = \"test_data.csv\"\n",
    "\n",
    "with open(fname_out, \"w\") as file_out:\n",
    "    \n",
    "    writer = csv.writer(file_out)\n",
    "    \n",
    "    for row in data:\n",
    "        writer.writerow(row)\n",
    "        "
   ]
  },
  {
   "cell_type": "code",
   "execution_count": 98,
   "id": "c872b26c",
   "metadata": {},
   "outputs": [
    {
     "name": "stdout",
     "output_type": "stream",
     "text": [
      "Datums,ĀI kods,ĀI nosaukums,Kopā,Jauni,Pamata diagnoze,Blakus diagnoze,Smaga slimības gaita,t.sk. Invazīva MPV,Vidēja slimības gaita,Miruši,Izrakstīti,Pārvesti,t.sk. uz augstāka līmeņa,t.sk. uz zemāka līmeņa,t.sk. uz tāda paša līmeņa\n",
      "2022-02-01T00:00:00,320200001-01,Aizkraukles slimnīca,1,1,0,1,0,0,0,0,0,0,0,0,0\n",
      "2022-02-01T00:00:00,360200027-01,Alūksnes slimnīca,0,0,0,6,0,0,0,0,1,0,0,0,0\n",
      "2022-02-01T00:00:00,500200052-02,Balvu un Gulbenes slimnīcu apvienība,18,,12,6,2,0,16,1,1,0,0,0,0\n",
      "2022-02-01T00:00:00,400200024-01,Bauskas slimnīca,2,0,4,0,0,0,4,0,1,0,0,0,0\n",
      "2022-02-01T00:00:00,010011804-01,Bērnu klīniskā universitātes slimnīca,9,5,6,3,,,9,,9,,,,2\n",
      "2022-02-01T00:00:00,661400011-01,\"Bērnu psihoneiroloģiskā slimnīca \"\"Ainaži\"\"\",2,1,0,1,0,0,0,0,0,0,0,0,0\n",
      "2022-02-01T00:00:00,420200052-01,Cēsu klīnika,11,2,11,0,1,1,8,0,0,0,0,,0\n",
      "2022-02-01T00:00:00,050012101-01,Daugavpils psihoneiroloģiskā slimnīca,6,1,3,3,0,0,1,0,0,1,0,0,1\n",
      "2022-02-01T00:00:00,050012101-02,Daugavpils psihoneiroloģiskās slimnīcas Aknīstes slimnīca,1,0,,1,,,1,,,,,,\n",
      "\n"
     ]
    }
   ],
   "source": [
    "# we defined the read_file() function earlier \n",
    "read_file(fname_out)"
   ]
  },
  {
   "cell_type": "markdown",
   "id": "7312f5d8",
   "metadata": {},
   "source": [
    "#### Reading files using Pandas\n",
    "\n",
    "- https://realpython.com/python-csv/#parsing-csv-files-with-the-pandas-library\n",
    "\n",
    "- https://pandas.pydata.org/docs/reference/api/pandas.read_csv.html\n",
    "- https://pandas.pydata.org/docs/reference/api/pandas.DataFrame.to_csv.html#pandas.DataFrame.to_csv"
   ]
  },
  {
   "cell_type": "code",
   "execution_count": 99,
   "id": "4b1bc44f-208c-4d29-8e58-1ac0bfd45b7a",
   "metadata": {},
   "outputs": [
    {
     "name": "stdout",
     "output_type": "stream",
     "text": [
      "Requirement already satisfied: pandas in /Users/captsolo/Documents/Code/LU_GeoPython/.venv/lib/python3.12/site-packages (2.2.3)\n",
      "Requirement already satisfied: numpy>=1.26.0 in /Users/captsolo/Documents/Code/LU_GeoPython/.venv/lib/python3.12/site-packages (from pandas) (1.26.4)\n",
      "Requirement already satisfied: python-dateutil>=2.8.2 in /Users/captsolo/Documents/Code/LU_GeoPython/.venv/lib/python3.12/site-packages (from pandas) (2.9.0.post0)\n",
      "Requirement already satisfied: pytz>=2020.1 in /Users/captsolo/Documents/Code/LU_GeoPython/.venv/lib/python3.12/site-packages (from pandas) (2024.2)\n",
      "Requirement already satisfied: tzdata>=2022.7 in /Users/captsolo/Documents/Code/LU_GeoPython/.venv/lib/python3.12/site-packages (from pandas) (2024.2)\n",
      "Requirement already satisfied: six>=1.5 in /Users/captsolo/Documents/Code/LU_GeoPython/.venv/lib/python3.12/site-packages (from python-dateutil>=2.8.2->pandas) (1.16.0)\n"
     ]
    }
   ],
   "source": [
    "!pip install pandas"
   ]
  },
  {
   "cell_type": "code",
   "execution_count": 100,
   "id": "d7a66a70",
   "metadata": {},
   "outputs": [],
   "source": [
    "import pandas as pd"
   ]
  },
  {
   "cell_type": "code",
   "execution_count": 101,
   "id": "a281ac25",
   "metadata": {},
   "outputs": [
    {
     "name": "stdout",
     "output_type": "stream",
     "text": [
      "covidpatients.csv\n"
     ]
    }
   ],
   "source": [
    "print(fname_csv)"
   ]
  },
  {
   "cell_type": "code",
   "execution_count": 102,
   "id": "274ec9f8",
   "metadata": {},
   "outputs": [
    {
     "data": {
      "text/html": [
       "<div>\n",
       "<style scoped>\n",
       "    .dataframe tbody tr th:only-of-type {\n",
       "        vertical-align: middle;\n",
       "    }\n",
       "\n",
       "    .dataframe tbody tr th {\n",
       "        vertical-align: top;\n",
       "    }\n",
       "\n",
       "    .dataframe thead th {\n",
       "        text-align: right;\n",
       "    }\n",
       "</style>\n",
       "<table border=\"1\" class=\"dataframe\">\n",
       "  <thead>\n",
       "    <tr style=\"text-align: right;\">\n",
       "      <th></th>\n",
       "      <th>Datums</th>\n",
       "      <th>ĀI kods</th>\n",
       "      <th>ĀI nosaukums</th>\n",
       "      <th>Kopā</th>\n",
       "      <th>Jauni</th>\n",
       "      <th>Pamata diagnoze</th>\n",
       "      <th>Blakus diagnoze</th>\n",
       "      <th>Smaga slimības gaita</th>\n",
       "      <th>t.sk. Invazīva MPV</th>\n",
       "      <th>Vidēja slimības gaita</th>\n",
       "      <th>Miruši</th>\n",
       "      <th>Izrakstīti</th>\n",
       "      <th>Pārvesti</th>\n",
       "      <th>t.sk. uz augstāka līmeņa</th>\n",
       "      <th>t.sk. uz zemāka līmeņa</th>\n",
       "      <th>t.sk. uz tāda paša līmeņa</th>\n",
       "    </tr>\n",
       "  </thead>\n",
       "  <tbody>\n",
       "    <tr>\n",
       "      <th>0</th>\n",
       "      <td>2022-02-01T00:00:00</td>\n",
       "      <td>320200001-01</td>\n",
       "      <td>Aizkraukles slimnīca</td>\n",
       "      <td>1.0</td>\n",
       "      <td>1.0</td>\n",
       "      <td>0.0</td>\n",
       "      <td>1.0</td>\n",
       "      <td>0.0</td>\n",
       "      <td>0.0</td>\n",
       "      <td>0.0</td>\n",
       "      <td>0.0</td>\n",
       "      <td>0.0</td>\n",
       "      <td>0.0</td>\n",
       "      <td>0.0</td>\n",
       "      <td>0.0</td>\n",
       "      <td>0.0</td>\n",
       "    </tr>\n",
       "    <tr>\n",
       "      <th>1</th>\n",
       "      <td>2022-02-01T00:00:00</td>\n",
       "      <td>360200027-01</td>\n",
       "      <td>Alūksnes slimnīca</td>\n",
       "      <td>0.0</td>\n",
       "      <td>0.0</td>\n",
       "      <td>0.0</td>\n",
       "      <td>6.0</td>\n",
       "      <td>0.0</td>\n",
       "      <td>0.0</td>\n",
       "      <td>0.0</td>\n",
       "      <td>0.0</td>\n",
       "      <td>1.0</td>\n",
       "      <td>0.0</td>\n",
       "      <td>0.0</td>\n",
       "      <td>0.0</td>\n",
       "      <td>0.0</td>\n",
       "    </tr>\n",
       "    <tr>\n",
       "      <th>2</th>\n",
       "      <td>2022-02-01T00:00:00</td>\n",
       "      <td>500200052-02</td>\n",
       "      <td>Balvu un Gulbenes slimnīcu apvienība</td>\n",
       "      <td>18.0</td>\n",
       "      <td>NaN</td>\n",
       "      <td>12.0</td>\n",
       "      <td>6.0</td>\n",
       "      <td>2.0</td>\n",
       "      <td>0.0</td>\n",
       "      <td>16.0</td>\n",
       "      <td>1.0</td>\n",
       "      <td>1.0</td>\n",
       "      <td>0.0</td>\n",
       "      <td>0.0</td>\n",
       "      <td>0.0</td>\n",
       "      <td>0.0</td>\n",
       "    </tr>\n",
       "    <tr>\n",
       "      <th>3</th>\n",
       "      <td>2022-02-01T00:00:00</td>\n",
       "      <td>400200024-01</td>\n",
       "      <td>Bauskas slimnīca</td>\n",
       "      <td>2.0</td>\n",
       "      <td>0.0</td>\n",
       "      <td>4.0</td>\n",
       "      <td>0.0</td>\n",
       "      <td>0.0</td>\n",
       "      <td>0.0</td>\n",
       "      <td>4.0</td>\n",
       "      <td>0.0</td>\n",
       "      <td>1.0</td>\n",
       "      <td>0.0</td>\n",
       "      <td>0.0</td>\n",
       "      <td>0.0</td>\n",
       "      <td>0.0</td>\n",
       "    </tr>\n",
       "    <tr>\n",
       "      <th>4</th>\n",
       "      <td>2022-02-01T00:00:00</td>\n",
       "      <td>010011804-01</td>\n",
       "      <td>Bērnu klīniskā universitātes slimnīca</td>\n",
       "      <td>9.0</td>\n",
       "      <td>5.0</td>\n",
       "      <td>6.0</td>\n",
       "      <td>3.0</td>\n",
       "      <td>NaN</td>\n",
       "      <td>NaN</td>\n",
       "      <td>9.0</td>\n",
       "      <td>NaN</td>\n",
       "      <td>9.0</td>\n",
       "      <td>NaN</td>\n",
       "      <td>NaN</td>\n",
       "      <td>NaN</td>\n",
       "      <td>2.0</td>\n",
       "    </tr>\n",
       "    <tr>\n",
       "      <th>5</th>\n",
       "      <td>2022-02-01T00:00:00</td>\n",
       "      <td>661400011-01</td>\n",
       "      <td>Bērnu psihoneiroloģiskā slimnīca \"Ainaži\"</td>\n",
       "      <td>2.0</td>\n",
       "      <td>1.0</td>\n",
       "      <td>0.0</td>\n",
       "      <td>1.0</td>\n",
       "      <td>0.0</td>\n",
       "      <td>0.0</td>\n",
       "      <td>0.0</td>\n",
       "      <td>0.0</td>\n",
       "      <td>0.0</td>\n",
       "      <td>0.0</td>\n",
       "      <td>0.0</td>\n",
       "      <td>0.0</td>\n",
       "      <td>0.0</td>\n",
       "    </tr>\n",
       "    <tr>\n",
       "      <th>6</th>\n",
       "      <td>2022-02-01T00:00:00</td>\n",
       "      <td>420200052-01</td>\n",
       "      <td>Cēsu klīnika</td>\n",
       "      <td>11.0</td>\n",
       "      <td>2.0</td>\n",
       "      <td>11.0</td>\n",
       "      <td>0.0</td>\n",
       "      <td>1.0</td>\n",
       "      <td>1.0</td>\n",
       "      <td>8.0</td>\n",
       "      <td>0.0</td>\n",
       "      <td>0.0</td>\n",
       "      <td>0.0</td>\n",
       "      <td>0.0</td>\n",
       "      <td>NaN</td>\n",
       "      <td>0.0</td>\n",
       "    </tr>\n",
       "    <tr>\n",
       "      <th>7</th>\n",
       "      <td>2022-02-01T00:00:00</td>\n",
       "      <td>050012101-01</td>\n",
       "      <td>Daugavpils psihoneiroloģiskā slimnīca</td>\n",
       "      <td>6.0</td>\n",
       "      <td>1.0</td>\n",
       "      <td>3.0</td>\n",
       "      <td>3.0</td>\n",
       "      <td>0.0</td>\n",
       "      <td>0.0</td>\n",
       "      <td>1.0</td>\n",
       "      <td>0.0</td>\n",
       "      <td>0.0</td>\n",
       "      <td>1.0</td>\n",
       "      <td>0.0</td>\n",
       "      <td>0.0</td>\n",
       "      <td>1.0</td>\n",
       "    </tr>\n",
       "    <tr>\n",
       "      <th>8</th>\n",
       "      <td>2022-02-01T00:00:00</td>\n",
       "      <td>050012101-02</td>\n",
       "      <td>Daugavpils psihoneiroloģiskās slimnīcas Aknīst...</td>\n",
       "      <td>1.0</td>\n",
       "      <td>0.0</td>\n",
       "      <td>NaN</td>\n",
       "      <td>1.0</td>\n",
       "      <td>NaN</td>\n",
       "      <td>NaN</td>\n",
       "      <td>1.0</td>\n",
       "      <td>NaN</td>\n",
       "      <td>NaN</td>\n",
       "      <td>NaN</td>\n",
       "      <td>NaN</td>\n",
       "      <td>NaN</td>\n",
       "      <td>NaN</td>\n",
       "    </tr>\n",
       "    <tr>\n",
       "      <th>9</th>\n",
       "      <td>2022-02-01T00:00:00</td>\n",
       "      <td>050020401-01</td>\n",
       "      <td>Daugavpils reģionālā slimnīca</td>\n",
       "      <td>81.0</td>\n",
       "      <td>10.0</td>\n",
       "      <td>59.0</td>\n",
       "      <td>22.0</td>\n",
       "      <td>4.0</td>\n",
       "      <td>1.0</td>\n",
       "      <td>55.0</td>\n",
       "      <td>1.0</td>\n",
       "      <td>10.0</td>\n",
       "      <td>NaN</td>\n",
       "      <td>NaN</td>\n",
       "      <td>NaN</td>\n",
       "      <td>NaN</td>\n",
       "    </tr>\n",
       "  </tbody>\n",
       "</table>\n",
       "</div>"
      ],
      "text/plain": [
       "                Datums       ĀI kods  \\\n",
       "0  2022-02-01T00:00:00  320200001-01   \n",
       "1  2022-02-01T00:00:00  360200027-01   \n",
       "2  2022-02-01T00:00:00  500200052-02   \n",
       "3  2022-02-01T00:00:00  400200024-01   \n",
       "4  2022-02-01T00:00:00  010011804-01   \n",
       "5  2022-02-01T00:00:00  661400011-01   \n",
       "6  2022-02-01T00:00:00  420200052-01   \n",
       "7  2022-02-01T00:00:00  050012101-01   \n",
       "8  2022-02-01T00:00:00  050012101-02   \n",
       "9  2022-02-01T00:00:00  050020401-01   \n",
       "\n",
       "                                        ĀI nosaukums  Kopā  Jauni  \\\n",
       "0                               Aizkraukles slimnīca   1.0    1.0   \n",
       "1                                  Alūksnes slimnīca   0.0    0.0   \n",
       "2               Balvu un Gulbenes slimnīcu apvienība  18.0    NaN   \n",
       "3                                   Bauskas slimnīca   2.0    0.0   \n",
       "4              Bērnu klīniskā universitātes slimnīca   9.0    5.0   \n",
       "5          Bērnu psihoneiroloģiskā slimnīca \"Ainaži\"   2.0    1.0   \n",
       "6                                       Cēsu klīnika  11.0    2.0   \n",
       "7              Daugavpils psihoneiroloģiskā slimnīca   6.0    1.0   \n",
       "8  Daugavpils psihoneiroloģiskās slimnīcas Aknīst...   1.0    0.0   \n",
       "9                      Daugavpils reģionālā slimnīca  81.0   10.0   \n",
       "\n",
       "   Pamata diagnoze  Blakus diagnoze  Smaga slimības gaita  t.sk. Invazīva MPV  \\\n",
       "0              0.0              1.0                   0.0                 0.0   \n",
       "1              0.0              6.0                   0.0                 0.0   \n",
       "2             12.0              6.0                   2.0                 0.0   \n",
       "3              4.0              0.0                   0.0                 0.0   \n",
       "4              6.0              3.0                   NaN                 NaN   \n",
       "5              0.0              1.0                   0.0                 0.0   \n",
       "6             11.0              0.0                   1.0                 1.0   \n",
       "7              3.0              3.0                   0.0                 0.0   \n",
       "8              NaN              1.0                   NaN                 NaN   \n",
       "9             59.0             22.0                   4.0                 1.0   \n",
       "\n",
       "   Vidēja slimības gaita  Miruši  Izrakstīti  Pārvesti  \\\n",
       "0                    0.0     0.0         0.0       0.0   \n",
       "1                    0.0     0.0         1.0       0.0   \n",
       "2                   16.0     1.0         1.0       0.0   \n",
       "3                    4.0     0.0         1.0       0.0   \n",
       "4                    9.0     NaN         9.0       NaN   \n",
       "5                    0.0     0.0         0.0       0.0   \n",
       "6                    8.0     0.0         0.0       0.0   \n",
       "7                    1.0     0.0         0.0       1.0   \n",
       "8                    1.0     NaN         NaN       NaN   \n",
       "9                   55.0     1.0        10.0       NaN   \n",
       "\n",
       "   t.sk. uz augstāka līmeņa  t.sk. uz zemāka līmeņa  t.sk. uz tāda paša līmeņa  \n",
       "0                       0.0                     0.0                        0.0  \n",
       "1                       0.0                     0.0                        0.0  \n",
       "2                       0.0                     0.0                        0.0  \n",
       "3                       0.0                     0.0                        0.0  \n",
       "4                       NaN                     NaN                        2.0  \n",
       "5                       0.0                     0.0                        0.0  \n",
       "6                       0.0                     NaN                        0.0  \n",
       "7                       0.0                     0.0                        1.0  \n",
       "8                       NaN                     NaN                        NaN  \n",
       "9                       NaN                     NaN                        NaN  "
      ]
     },
     "execution_count": 102,
     "metadata": {},
     "output_type": "execute_result"
    }
   ],
   "source": [
    "dataframe = pd.read_csv(fname_csv, delimiter=\";\")\n",
    "\n",
    "dataframe[:10]"
   ]
  },
  {
   "cell_type": "code",
   "execution_count": 103,
   "id": "ed7c9cf6",
   "metadata": {},
   "outputs": [
    {
     "name": "stdout",
     "output_type": "stream",
     "text": [
      "<class 'pandas.core.frame.DataFrame'>\n",
      "RangeIndex: 14434 entries, 0 to 14433\n",
      "Data columns (total 16 columns):\n",
      " #   Column                     Non-Null Count  Dtype  \n",
      "---  ------                     --------------  -----  \n",
      " 0   Datums                     14434 non-null  object \n",
      " 1   ĀI kods                    14434 non-null  object \n",
      " 2   ĀI nosaukums               14434 non-null  object \n",
      " 3   Kopā                       14257 non-null  float64\n",
      " 4   Jauni                      12355 non-null  float64\n",
      " 5   Pamata diagnoze            11786 non-null  float64\n",
      " 6   Blakus diagnoze            13536 non-null  float64\n",
      " 7   Smaga slimības gaita       10028 non-null  float64\n",
      " 8   t.sk. Invazīva MPV         9338 non-null   float64\n",
      " 9   Vidēja slimības gaita      11560 non-null  float64\n",
      " 10  Miruši                     9790 non-null   float64\n",
      " 11  Izrakstīti                 11649 non-null  float64\n",
      " 12  Pārvesti                   8527 non-null   float64\n",
      " 13  t.sk. uz augstāka līmeņa   7878 non-null   float64\n",
      " 14  t.sk. uz zemāka līmeņa     7854 non-null   float64\n",
      " 15  t.sk. uz tāda paša līmeņa  7635 non-null   float64\n",
      "dtypes: float64(13), object(3)\n",
      "memory usage: 1.8+ MB\n"
     ]
    }
   ],
   "source": [
    "dataframe.info()"
   ]
  },
  {
   "cell_type": "code",
   "execution_count": 104,
   "id": "73371b09",
   "metadata": {},
   "outputs": [
    {
     "data": {
      "text/html": [
       "<div>\n",
       "<style scoped>\n",
       "    .dataframe tbody tr th:only-of-type {\n",
       "        vertical-align: middle;\n",
       "    }\n",
       "\n",
       "    .dataframe tbody tr th {\n",
       "        vertical-align: top;\n",
       "    }\n",
       "\n",
       "    .dataframe thead th {\n",
       "        text-align: right;\n",
       "    }\n",
       "</style>\n",
       "<table border=\"1\" class=\"dataframe\">\n",
       "  <thead>\n",
       "    <tr style=\"text-align: right;\">\n",
       "      <th></th>\n",
       "      <th>Datums</th>\n",
       "      <th>ĀI kods</th>\n",
       "      <th>ĀI nosaukums</th>\n",
       "      <th>Kopā</th>\n",
       "      <th>Jauni</th>\n",
       "      <th>Pamata diagnoze</th>\n",
       "      <th>Blakus diagnoze</th>\n",
       "      <th>Smaga slimības gaita</th>\n",
       "      <th>t.sk. Invazīva MPV</th>\n",
       "      <th>Vidēja slimības gaita</th>\n",
       "      <th>Miruši</th>\n",
       "      <th>Izrakstīti</th>\n",
       "      <th>Pārvesti</th>\n",
       "      <th>t.sk. uz augstāka līmeņa</th>\n",
       "      <th>t.sk. uz zemāka līmeņa</th>\n",
       "      <th>t.sk. uz tāda paša līmeņa</th>\n",
       "    </tr>\n",
       "  </thead>\n",
       "  <tbody>\n",
       "    <tr>\n",
       "      <th>0</th>\n",
       "      <td>2022-02-01T00:00:00</td>\n",
       "      <td>320200001-01</td>\n",
       "      <td>Aizkraukles slimnīca</td>\n",
       "      <td>1.0</td>\n",
       "      <td>1.0</td>\n",
       "      <td>0.0</td>\n",
       "      <td>1.0</td>\n",
       "      <td>0.0</td>\n",
       "      <td>0.0</td>\n",
       "      <td>0.0</td>\n",
       "      <td>0.0</td>\n",
       "      <td>0.0</td>\n",
       "      <td>0.0</td>\n",
       "      <td>0.0</td>\n",
       "      <td>0.0</td>\n",
       "      <td>0.0</td>\n",
       "    </tr>\n",
       "    <tr>\n",
       "      <th>1</th>\n",
       "      <td>2022-02-01T00:00:00</td>\n",
       "      <td>360200027-01</td>\n",
       "      <td>Alūksnes slimnīca</td>\n",
       "      <td>0.0</td>\n",
       "      <td>0.0</td>\n",
       "      <td>0.0</td>\n",
       "      <td>6.0</td>\n",
       "      <td>0.0</td>\n",
       "      <td>0.0</td>\n",
       "      <td>0.0</td>\n",
       "      <td>0.0</td>\n",
       "      <td>1.0</td>\n",
       "      <td>0.0</td>\n",
       "      <td>0.0</td>\n",
       "      <td>0.0</td>\n",
       "      <td>0.0</td>\n",
       "    </tr>\n",
       "    <tr>\n",
       "      <th>2</th>\n",
       "      <td>2022-02-01T00:00:00</td>\n",
       "      <td>500200052-02</td>\n",
       "      <td>Balvu un Gulbenes slimnīcu apvienība</td>\n",
       "      <td>18.0</td>\n",
       "      <td>NaN</td>\n",
       "      <td>12.0</td>\n",
       "      <td>6.0</td>\n",
       "      <td>2.0</td>\n",
       "      <td>0.0</td>\n",
       "      <td>16.0</td>\n",
       "      <td>1.0</td>\n",
       "      <td>1.0</td>\n",
       "      <td>0.0</td>\n",
       "      <td>0.0</td>\n",
       "      <td>0.0</td>\n",
       "      <td>0.0</td>\n",
       "    </tr>\n",
       "    <tr>\n",
       "      <th>3</th>\n",
       "      <td>2022-02-01T00:00:00</td>\n",
       "      <td>400200024-01</td>\n",
       "      <td>Bauskas slimnīca</td>\n",
       "      <td>2.0</td>\n",
       "      <td>0.0</td>\n",
       "      <td>4.0</td>\n",
       "      <td>0.0</td>\n",
       "      <td>0.0</td>\n",
       "      <td>0.0</td>\n",
       "      <td>4.0</td>\n",
       "      <td>0.0</td>\n",
       "      <td>1.0</td>\n",
       "      <td>0.0</td>\n",
       "      <td>0.0</td>\n",
       "      <td>0.0</td>\n",
       "      <td>0.0</td>\n",
       "    </tr>\n",
       "    <tr>\n",
       "      <th>4</th>\n",
       "      <td>2022-02-01T00:00:00</td>\n",
       "      <td>010011804-01</td>\n",
       "      <td>Bērnu klīniskā universitātes slimnīca</td>\n",
       "      <td>9.0</td>\n",
       "      <td>5.0</td>\n",
       "      <td>6.0</td>\n",
       "      <td>3.0</td>\n",
       "      <td>NaN</td>\n",
       "      <td>NaN</td>\n",
       "      <td>9.0</td>\n",
       "      <td>NaN</td>\n",
       "      <td>9.0</td>\n",
       "      <td>NaN</td>\n",
       "      <td>NaN</td>\n",
       "      <td>NaN</td>\n",
       "      <td>2.0</td>\n",
       "    </tr>\n",
       "  </tbody>\n",
       "</table>\n",
       "</div>"
      ],
      "text/plain": [
       "                Datums       ĀI kods                           ĀI nosaukums  \\\n",
       "0  2022-02-01T00:00:00  320200001-01                   Aizkraukles slimnīca   \n",
       "1  2022-02-01T00:00:00  360200027-01                      Alūksnes slimnīca   \n",
       "2  2022-02-01T00:00:00  500200052-02   Balvu un Gulbenes slimnīcu apvienība   \n",
       "3  2022-02-01T00:00:00  400200024-01                       Bauskas slimnīca   \n",
       "4  2022-02-01T00:00:00  010011804-01  Bērnu klīniskā universitātes slimnīca   \n",
       "\n",
       "   Kopā  Jauni  Pamata diagnoze  Blakus diagnoze  Smaga slimības gaita  \\\n",
       "0   1.0    1.0              0.0              1.0                   0.0   \n",
       "1   0.0    0.0              0.0              6.0                   0.0   \n",
       "2  18.0    NaN             12.0              6.0                   2.0   \n",
       "3   2.0    0.0              4.0              0.0                   0.0   \n",
       "4   9.0    5.0              6.0              3.0                   NaN   \n",
       "\n",
       "   t.sk. Invazīva MPV  Vidēja slimības gaita  Miruši  Izrakstīti  Pārvesti  \\\n",
       "0                 0.0                    0.0     0.0         0.0       0.0   \n",
       "1                 0.0                    0.0     0.0         1.0       0.0   \n",
       "2                 0.0                   16.0     1.0         1.0       0.0   \n",
       "3                 0.0                    4.0     0.0         1.0       0.0   \n",
       "4                 NaN                    9.0     NaN         9.0       NaN   \n",
       "\n",
       "   t.sk. uz augstāka līmeņa  t.sk. uz zemāka līmeņa  t.sk. uz tāda paša līmeņa  \n",
       "0                       0.0                     0.0                        0.0  \n",
       "1                       0.0                     0.0                        0.0  \n",
       "2                       0.0                     0.0                        0.0  \n",
       "3                       0.0                     0.0                        0.0  \n",
       "4                       NaN                     NaN                        2.0  "
      ]
     },
     "execution_count": 104,
     "metadata": {},
     "output_type": "execute_result"
    }
   ],
   "source": [
    "dataframe.head()"
   ]
  },
  {
   "cell_type": "code",
   "execution_count": 105,
   "id": "2a166103",
   "metadata": {},
   "outputs": [
    {
     "data": {
      "text/html": [
       "<div>\n",
       "<style scoped>\n",
       "    .dataframe tbody tr th:only-of-type {\n",
       "        vertical-align: middle;\n",
       "    }\n",
       "\n",
       "    .dataframe tbody tr th {\n",
       "        vertical-align: top;\n",
       "    }\n",
       "\n",
       "    .dataframe thead th {\n",
       "        text-align: right;\n",
       "    }\n",
       "</style>\n",
       "<table border=\"1\" class=\"dataframe\">\n",
       "  <thead>\n",
       "    <tr style=\"text-align: right;\">\n",
       "      <th></th>\n",
       "      <th>Datums</th>\n",
       "      <th>ĀI kods</th>\n",
       "      <th>ĀI nosaukums</th>\n",
       "      <th>Kopā</th>\n",
       "      <th>Jauni</th>\n",
       "      <th>Pamata diagnoze</th>\n",
       "      <th>Blakus diagnoze</th>\n",
       "      <th>Smaga slimības gaita</th>\n",
       "      <th>t.sk. Invazīva MPV</th>\n",
       "      <th>Vidēja slimības gaita</th>\n",
       "      <th>Miruši</th>\n",
       "      <th>Izrakstīti</th>\n",
       "      <th>Pārvesti</th>\n",
       "      <th>t.sk. uz augstāka līmeņa</th>\n",
       "      <th>t.sk. uz zemāka līmeņa</th>\n",
       "      <th>t.sk. uz tāda paša līmeņa</th>\n",
       "    </tr>\n",
       "  </thead>\n",
       "  <tbody>\n",
       "    <tr>\n",
       "      <th>2</th>\n",
       "      <td>2022-02-01T00:00:00</td>\n",
       "      <td>500200052-02</td>\n",
       "      <td>Balvu un Gulbenes slimnīcu apvienība</td>\n",
       "      <td>18.0</td>\n",
       "      <td>NaN</td>\n",
       "      <td>12.0</td>\n",
       "      <td>6.0</td>\n",
       "      <td>2.0</td>\n",
       "      <td>0.0</td>\n",
       "      <td>16.0</td>\n",
       "      <td>1.0</td>\n",
       "      <td>1.0</td>\n",
       "      <td>0.0</td>\n",
       "      <td>0.0</td>\n",
       "      <td>0.0</td>\n",
       "      <td>0.0</td>\n",
       "    </tr>\n",
       "    <tr>\n",
       "      <th>3</th>\n",
       "      <td>2022-02-01T00:00:00</td>\n",
       "      <td>400200024-01</td>\n",
       "      <td>Bauskas slimnīca</td>\n",
       "      <td>2.0</td>\n",
       "      <td>0.0</td>\n",
       "      <td>4.0</td>\n",
       "      <td>0.0</td>\n",
       "      <td>0.0</td>\n",
       "      <td>0.0</td>\n",
       "      <td>4.0</td>\n",
       "      <td>0.0</td>\n",
       "      <td>1.0</td>\n",
       "      <td>0.0</td>\n",
       "      <td>0.0</td>\n",
       "      <td>0.0</td>\n",
       "      <td>0.0</td>\n",
       "    </tr>\n",
       "  </tbody>\n",
       "</table>\n",
       "</div>"
      ],
      "text/plain": [
       "                Datums       ĀI kods                          ĀI nosaukums  \\\n",
       "2  2022-02-01T00:00:00  500200052-02  Balvu un Gulbenes slimnīcu apvienība   \n",
       "3  2022-02-01T00:00:00  400200024-01                      Bauskas slimnīca   \n",
       "\n",
       "   Kopā  Jauni  Pamata diagnoze  Blakus diagnoze  Smaga slimības gaita  \\\n",
       "2  18.0    NaN             12.0              6.0                   2.0   \n",
       "3   2.0    0.0              4.0              0.0                   0.0   \n",
       "\n",
       "   t.sk. Invazīva MPV  Vidēja slimības gaita  Miruši  Izrakstīti  Pārvesti  \\\n",
       "2                 0.0                   16.0     1.0         1.0       0.0   \n",
       "3                 0.0                    4.0     0.0         1.0       0.0   \n",
       "\n",
       "   t.sk. uz augstāka līmeņa  t.sk. uz zemāka līmeņa  t.sk. uz tāda paša līmeņa  \n",
       "2                       0.0                     0.0                        0.0  \n",
       "3                       0.0                     0.0                        0.0  "
      ]
     },
     "execution_count": 105,
     "metadata": {},
     "output_type": "execute_result"
    }
   ],
   "source": [
    "dataframe[2:4]"
   ]
  },
  {
   "cell_type": "code",
   "execution_count": 106,
   "id": "a9adbfe4",
   "metadata": {},
   "outputs": [
    {
     "data": {
      "text/html": [
       "<div>\n",
       "<style scoped>\n",
       "    .dataframe tbody tr th:only-of-type {\n",
       "        vertical-align: middle;\n",
       "    }\n",
       "\n",
       "    .dataframe tbody tr th {\n",
       "        vertical-align: top;\n",
       "    }\n",
       "\n",
       "    .dataframe thead th {\n",
       "        text-align: right;\n",
       "    }\n",
       "</style>\n",
       "<table border=\"1\" class=\"dataframe\">\n",
       "  <thead>\n",
       "    <tr style=\"text-align: right;\">\n",
       "      <th></th>\n",
       "      <th>ĀI nosaukums</th>\n",
       "      <th>Kopā</th>\n",
       "    </tr>\n",
       "  </thead>\n",
       "  <tbody>\n",
       "    <tr>\n",
       "      <th>0</th>\n",
       "      <td>Aizkraukles slimnīca</td>\n",
       "      <td>1.0</td>\n",
       "    </tr>\n",
       "    <tr>\n",
       "      <th>1</th>\n",
       "      <td>Alūksnes slimnīca</td>\n",
       "      <td>0.0</td>\n",
       "    </tr>\n",
       "    <tr>\n",
       "      <th>2</th>\n",
       "      <td>Balvu un Gulbenes slimnīcu apvienība</td>\n",
       "      <td>18.0</td>\n",
       "    </tr>\n",
       "    <tr>\n",
       "      <th>3</th>\n",
       "      <td>Bauskas slimnīca</td>\n",
       "      <td>2.0</td>\n",
       "    </tr>\n",
       "    <tr>\n",
       "      <th>4</th>\n",
       "      <td>Bērnu klīniskā universitātes slimnīca</td>\n",
       "      <td>9.0</td>\n",
       "    </tr>\n",
       "  </tbody>\n",
       "</table>\n",
       "</div>"
      ],
      "text/plain": [
       "                            ĀI nosaukums  Kopā\n",
       "0                   Aizkraukles slimnīca   1.0\n",
       "1                      Alūksnes slimnīca   0.0\n",
       "2   Balvu un Gulbenes slimnīcu apvienība  18.0\n",
       "3                       Bauskas slimnīca   2.0\n",
       "4  Bērnu klīniskā universitātes slimnīca   9.0"
      ]
     },
     "execution_count": 106,
     "metadata": {},
     "output_type": "execute_result"
    }
   ],
   "source": [
    "df2 = dataframe[[\"ĀI nosaukums\", \"Kopā\"]]\n",
    "\n",
    "df2[:5]"
   ]
  },
  {
   "cell_type": "code",
   "execution_count": 107,
   "id": "78af64e9",
   "metadata": {},
   "outputs": [
    {
     "data": {
      "text/plain": [
       "163894.0"
      ]
     },
     "execution_count": 107,
     "metadata": {},
     "output_type": "execute_result"
    }
   ],
   "source": [
    "dataframe[\"Kopā\"].sum()"
   ]
  },
  {
   "cell_type": "code",
   "execution_count": 109,
   "id": "c81540cf",
   "metadata": {},
   "outputs": [],
   "source": [
    "# Writing to a CSV file\n",
    "\n",
    "fname_out_pandas = \"test_pandas.csv\"\n",
    "df2.to_csv(fname_out_pandas)"
   ]
  },
  {
   "cell_type": "code",
   "execution_count": 110,
   "id": "55b3e27c",
   "metadata": {},
   "outputs": [
    {
     "name": "stdout",
     "output_type": "stream",
     "text": [
      ",ĀI nosaukums,Kopā\n",
      "0,Aizkraukles slimnīca,1.0\n",
      "1,Alūksnes slimnīca,0.0\n",
      "2,Balvu un Gulbenes slimnīcu apvienība,18.0\n",
      "3,Bauskas slimnīca,2.0\n",
      "4,Bērnu klīniskā universitātes slimnīca,9.0\n"
     ]
    }
   ],
   "source": [
    "# Print contents of the CSV file\n",
    "\n",
    "with open(fname_out_pandas, encoding=\"utf-8\") as in_file:\n",
    "    \n",
    "    data = islice(in_file, 6)\n",
    "    \n",
    "    for line in data:\n",
    "        print(line, end=\"\")"
   ]
  },
  {
   "cell_type": "code",
   "execution_count": 111,
   "id": "e58fcf4e-5d3c-412a-ad6d-95e7081ce1eb",
   "metadata": {},
   "outputs": [],
   "source": [
    "fname_out_excel = \"test_pandas.xlsx\""
   ]
  },
  {
   "cell_type": "code",
   "execution_count": 112,
   "id": "7c36d387-fa7d-40e5-b153-79bb295188ad",
   "metadata": {},
   "outputs": [],
   "source": [
    "df2.to_excel(fname_out_excel)"
   ]
  },
  {
   "cell_type": "code",
   "execution_count": 113,
   "id": "43682f57-5b83-416c-8075-c0d7c22af031",
   "metadata": {},
   "outputs": [
    {
     "name": "stdout",
     "output_type": "stream",
     "text": [
      "Addresses_AP3.xlsx\n",
      "Addresses_AP3ALLCLASSES_Geocoded_withID.xlsx\n",
      "test_pandas.xlsx\n"
     ]
    }
   ],
   "source": [
    "!ls *.xlsx"
   ]
  },
  {
   "cell_type": "markdown",
   "id": "278cec37-2637-4b65-aeb4-20b8f52c13c5",
   "metadata": {},
   "source": [
    "### JSON files\n",
    "\n",
    "JSON (JavaScript Object Notation) files let us save Python data hierarchies (dictionaries, lists, ...) to a file / read them from a file.\n",
    "\n",
    "https://www.json.org/json-en.html\n",
    "\n",
    "```\n",
    "json_object = {\n",
    "  \"key 1\": \"value 1\",\n",
    "  \"key 2\": [\"value 2\", \"is\", \"a\", \"list\"],\n",
    "  \"key 3\": {\"lists and dictionaries\": \"can be nested\"}\n",
    "}\n",
    "```\n",
    "\n",
    "To do this, we can use Python [json](https://docs.python.org/3/library/json.html) library:\n",
    "\n",
    "- json.dump() – save structured data to a JSON file\n",
    "- json.load() – read structured data from a JSON file\n",
    "\n",
    "- json.dumps() – return structured data as a JSON string\n",
    "- json.loads() – read structured data from a JSON string\n",
    "\n"
   ]
  },
  {
   "cell_type": "code",
   "execution_count": 114,
   "id": "eada26ee-8130-419d-95f1-171dc41a92c5",
   "metadata": {},
   "outputs": [],
   "source": [
    "import json"
   ]
  },
  {
   "cell_type": "code",
   "execution_count": 115,
   "id": "d0322cfd-2f98-404e-a70a-53d0e916c865",
   "metadata": {},
   "outputs": [],
   "source": [
    "# data to be saved\n",
    "\n",
    "data = {\n",
    "  \"key 1\": \"value 1\",\n",
    "  \"key 2\": [\"value 2\", \"is\", \"a\", \"list\"],\n",
    "  \"key 3\": {\"lists and dictionaries\": \"can be nested\"}\n",
    "}"
   ]
  },
  {
   "cell_type": "code",
   "execution_count": 116,
   "id": "763e49e3-2cb7-4fe4-8747-02e36f424263",
   "metadata": {},
   "outputs": [
    {
     "data": {
      "text/plain": [
       "{'key 1': 'value 1',\n",
       " 'key 2': ['value 2', 'is', 'a', 'list'],\n",
       " 'key 3': {'lists and dictionaries': 'can be nested'}}"
      ]
     },
     "execution_count": 116,
     "metadata": {},
     "output_type": "execute_result"
    }
   ],
   "source": [
    "data"
   ]
  },
  {
   "cell_type": "code",
   "execution_count": 117,
   "id": "6a74f2aa-0e78-4216-89cb-0c9270bc25cb",
   "metadata": {},
   "outputs": [],
   "source": [
    "# save data to a JSON file\n",
    "\n",
    "json_file_name = \"test_data.json\"\n",
    "\n",
    "with open(json_file_name, \"w\", encoding=\"utf-8\") as file_out:\n",
    "\n",
    "    # write the data object to a JSON file\n",
    "    json.dump(data, file_out)"
   ]
  },
  {
   "cell_type": "code",
   "execution_count": 118,
   "id": "8e2fd5fe-273d-4c76-af0c-4c241423069c",
   "metadata": {},
   "outputs": [
    {
     "name": "stdout",
     "output_type": "stream",
     "text": [
      "{\"key 1\": \"value 1\", \"key 2\": [\"value 2\", \"is\", \"a\", \"list\"], \"key 3\": {\"lists and dictionaries\": \"can be nested\"}}\n"
     ]
    }
   ],
   "source": [
    "# let's look at the file that we created\n",
    "\n",
    "with open(json_file_name, \"r\", encoding=\"utf-8\") as file_in:\n",
    "    for line in file_in:\n",
    "        print(line)"
   ]
  },
  {
   "cell_type": "code",
   "execution_count": 119,
   "id": "7db2eebc-5078-4c57-a926-0e742a0a0c0d",
   "metadata": {},
   "outputs": [],
   "source": [
    "# now we can load this file back in, into a new variable\n",
    "\n",
    "with open(json_file_name, \"r\", encoding=\"utf-8\") as file_in:\n",
    "    new_data = json.load(file_in)"
   ]
  },
  {
   "cell_type": "code",
   "execution_count": 120,
   "id": "54196d95-51de-4d52-8cff-a2922374db20",
   "metadata": {},
   "outputs": [
    {
     "data": {
      "text/plain": [
       "{'key 1': 'value 1',\n",
       " 'key 2': ['value 2', 'is', 'a', 'list'],\n",
       " 'key 3': {'lists and dictionaries': 'can be nested'}}"
      ]
     },
     "execution_count": 120,
     "metadata": {},
     "output_type": "execute_result"
    }
   ],
   "source": [
    "new_data"
   ]
  },
  {
   "cell_type": "markdown",
   "id": "ff5e7d99-20ee-48fe-95ff-f441e4c6969b",
   "metadata": {},
   "source": [
    "## Summary\n",
    "\n",
    "- Text strings (continued)\n",
    "- Exceptions and error handling\n",
    "- File input / output\n",
    "  - CSV files\n",
    "  - JSON files"
   ]
  }
 ],
 "metadata": {
  "kernelspec": {
   "display_name": "Python 3 (ipykernel)",
   "language": "python",
   "name": "python3"
  },
  "language_info": {
   "codemirror_mode": {
    "name": "ipython",
    "version": 3
   },
   "file_extension": ".py",
   "mimetype": "text/x-python",
   "name": "python",
   "nbconvert_exporter": "python",
   "pygments_lexer": "ipython3",
   "version": "3.12.7"
  }
 },
 "nbformat": 4,
 "nbformat_minor": 5
}
