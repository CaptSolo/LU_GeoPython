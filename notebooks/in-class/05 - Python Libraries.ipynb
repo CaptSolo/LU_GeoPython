{
 "cells": [
  {
   "cell_type": "markdown",
   "id": "03d574cd",
   "metadata": {},
   "source": [
    "# Python Libraries"
   ]
  },
  {
   "cell_type": "markdown",
   "id": "ffd8fe9a",
   "metadata": {},
   "source": [
    "Python library is a \"bundle\" of code that can be used repeatedly to perform some related functionality.\n",
    "\n",
    "### Python standard library (\"Batteries included\") contains many built-in libraries\n",
    "\n",
    "![Batteries included](https://github.com/ValRCS/python_public_resources/blob/main/img/batteries.png?raw=true)\n",
    "\n",
    "https://docs.python.org/3/library/\n",
    "\n",
    "### External libraries\n",
    "\n",
    "There are also many more libraries that are available separately\n",
    "- built-in libraries can be imported and used right away\n",
    "- external libraries need to be installed before they can be imported and used\n",
    "\n",
    "[PyPI = Python package index](https://pypi.org/)\n",
    "- contains > 400 thousand projects\n",
    "\n",
    "[Awesome Python](https://github.com/vinta/awesome-python)\n",
    "- A curated list of awesome Python frameworks, libraries, software and resources.\n",
    "\n",
    "### Examples\n",
    "\n",
    "- [Random library](https://docs.python.org/3/library/random.html) = built-in\n",
    "- [Requests library](https://requests.readthedocs.io/en/latest/) = external\n"
   ]
  },
  {
   "cell_type": "markdown",
   "id": "5f93d220",
   "metadata": {},
   "source": [
    "---\n",
    "\n",
    "## Importing libraries, `import` command\n",
    "\n",
    "In order to use Python libraries you must `import` them.\n",
    "- `import library_name`\n",
    "\n",
    "External libraries need to be installed before you can import and use them. \n",
    "\n",
    "The way how to install external libraries depends on what Python distribution you are using."
   ]
  },
  {
   "cell_type": "code",
   "execution_count": 10,
   "id": "ef0d9577",
   "metadata": {},
   "outputs": [],
   "source": [
    "import random"
   ]
  },
  {
   "cell_type": "code",
   "execution_count": 11,
   "id": "a601d514-5df2-4339-ae4f-6ca1ad8734ca",
   "metadata": {},
   "outputs": [
    {
     "data": {
      "text/plain": [
       "['BPF',\n",
       " 'LOG4',\n",
       " 'NV_MAGICCONST',\n",
       " 'RECIP_BPF',\n",
       " 'Random',\n",
       " 'SG_MAGICCONST',\n",
       " 'SystemRandom',\n",
       " 'TWOPI',\n",
       " '_ONE',\n",
       " '_Sequence',\n",
       " '__all__',\n",
       " '__builtins__',\n",
       " '__cached__',\n",
       " '__doc__',\n",
       " '__file__',\n",
       " '__loader__',\n",
       " '__name__',\n",
       " '__package__',\n",
       " '__spec__',\n",
       " '_accumulate',\n",
       " '_acos',\n",
       " '_bisect',\n",
       " '_ceil',\n",
       " '_cos',\n",
       " '_e',\n",
       " '_exp',\n",
       " '_fabs',\n",
       " '_floor',\n",
       " '_index',\n",
       " '_inst',\n",
       " '_isfinite',\n",
       " '_lgamma',\n",
       " '_log',\n",
       " '_log2',\n",
       " '_os',\n",
       " '_pi',\n",
       " '_random',\n",
       " '_repeat',\n",
       " '_sha512',\n",
       " '_sin',\n",
       " '_sqrt',\n",
       " '_test',\n",
       " '_test_generator',\n",
       " '_urandom',\n",
       " '_warn',\n",
       " 'betavariate',\n",
       " 'binomialvariate',\n",
       " 'choice',\n",
       " 'choices',\n",
       " 'expovariate',\n",
       " 'gammavariate',\n",
       " 'gauss',\n",
       " 'getrandbits',\n",
       " 'getstate',\n",
       " 'lognormvariate',\n",
       " 'normalvariate',\n",
       " 'paretovariate',\n",
       " 'randbytes',\n",
       " 'randint',\n",
       " 'random',\n",
       " 'randrange',\n",
       " 'sample',\n",
       " 'seed',\n",
       " 'setstate',\n",
       " 'shuffle',\n",
       " 'triangular',\n",
       " 'uniform',\n",
       " 'vonmisesvariate',\n",
       " 'weibullvariate']"
      ]
     },
     "execution_count": 11,
     "metadata": {},
     "output_type": "execute_result"
    }
   ],
   "source": [
    "dir(random)"
   ]
  },
  {
   "cell_type": "code",
   "execution_count": 12,
   "id": "efff46fe-ca89-44c0-bd4c-d21adfc70e95",
   "metadata": {},
   "outputs": [
    {
     "name": "stdout",
     "output_type": "stream",
     "text": [
      "BPF\n",
      "LOG4\n",
      "NV_MAGICCONST\n",
      "RECIP_BPF\n",
      "Random\n",
      "SG_MAGICCONST\n",
      "SystemRandom\n",
      "TWOPI\n",
      "betavariate\n",
      "binomialvariate\n",
      "choice\n",
      "choices\n",
      "expovariate\n",
      "gammavariate\n",
      "gauss\n",
      "getrandbits\n",
      "getstate\n",
      "lognormvariate\n",
      "normalvariate\n",
      "paretovariate\n",
      "randbytes\n",
      "randint\n",
      "random\n",
      "randrange\n",
      "sample\n",
      "seed\n",
      "setstate\n",
      "shuffle\n",
      "triangular\n",
      "uniform\n",
      "vonmisesvariate\n",
      "weibullvariate\n"
     ]
    }
   ],
   "source": [
    "for name in dir(random):\n",
    "    if not name.startswith(\"_\"):\n",
    "        print(name)"
   ]
  },
  {
   "cell_type": "code",
   "execution_count": 13,
   "id": "30cd802f",
   "metadata": {},
   "outputs": [
    {
     "name": "stdout",
     "output_type": "stream",
     "text": [
      "Help on method randint in module random:\n",
      "\n",
      "randint(a, b) method of random.Random instance\n",
      "    Return random integer in range [a, b], including both end points.\n",
      "\n"
     ]
    }
   ],
   "source": [
    "help(random.randint)"
   ]
  },
  {
   "cell_type": "code",
   "execution_count": 18,
   "id": "02767503-3ca4-4fbf-9cf1-d568c6ba9ba8",
   "metadata": {},
   "outputs": [
    {
     "data": {
      "text/plain": [
       "6"
      ]
     },
     "execution_count": 18,
     "metadata": {},
     "output_type": "execute_result"
    }
   ],
   "source": [
    "random.randint(1, 6)"
   ]
  },
  {
   "cell_type": "markdown",
   "id": "b6b92007-0e0e-49ed-9d80-88507e1bc13d",
   "metadata": {},
   "source": [
    "### Printing the library contents"
   ]
  },
  {
   "cell_type": "code",
   "execution_count": null,
   "id": "7eeac580-3dfd-460b-b813-26d5bd2a888a",
   "metadata": {},
   "outputs": [],
   "source": [
    "# a list of \"names\" (objects, methods, ...) provided by this library:\n",
    "\n",
    "for line in dir(random):\n",
    "    # except special names that start with \"_\"\n",
    "    if not line.startswith(\"_\"):\n",
    "        print(line)"
   ]
  },
  {
   "cell_type": "code",
   "execution_count": 19,
   "id": "1e5bc1b3-7cc2-4f99-ba01-0f3bd1663d95",
   "metadata": {},
   "outputs": [],
   "source": [
    "# Let's put name printing inside a function\n",
    "\n",
    "def print_names(names):\n",
    "\n",
    "    for line in names:\n",
    "        # except special names that start with \"_\"\n",
    "        if not line.startswith(\"_\"):\n",
    "            print(line)"
   ]
  },
  {
   "cell_type": "code",
   "execution_count": 21,
   "id": "bce260fe-3ebd-4a8f-b679-ee5c7c3cd926",
   "metadata": {},
   "outputs": [
    {
     "name": "stdout",
     "output_type": "stream",
     "text": [
      "BPF\n",
      "LOG4\n",
      "NV_MAGICCONST\n",
      "RECIP_BPF\n",
      "Random\n",
      "SG_MAGICCONST\n",
      "SystemRandom\n",
      "TWOPI\n",
      "betavariate\n",
      "binomialvariate\n",
      "choice\n",
      "choices\n",
      "expovariate\n",
      "gammavariate\n",
      "gauss\n",
      "getrandbits\n",
      "getstate\n",
      "lognormvariate\n",
      "normalvariate\n",
      "paretovariate\n",
      "randbytes\n",
      "randint\n",
      "random\n",
      "randrange\n",
      "sample\n",
      "seed\n",
      "setstate\n",
      "shuffle\n",
      "triangular\n",
      "uniform\n",
      "vonmisesvariate\n",
      "weibullvariate\n"
     ]
    }
   ],
   "source": [
    "print_names(dir(random))"
   ]
  },
  {
   "cell_type": "code",
   "execution_count": 22,
   "id": "1b50f052-fa3d-4059-9fa2-b8fdc936a540",
   "metadata": {},
   "outputs": [
    {
     "name": "stdout",
     "output_type": "stream",
     "text": [
      "Help on method choice in module random:\n",
      "\n",
      "choice(seq) method of random.Random instance\n",
      "    Choose a random element from a non-empty sequence.\n",
      "\n"
     ]
    }
   ],
   "source": [
    "help(random.choice)"
   ]
  },
  {
   "cell_type": "code",
   "execution_count": 23,
   "id": "bc68dfc1-e69d-42f9-9d8b-ffcc38f440e5",
   "metadata": {},
   "outputs": [
    {
     "name": "stdout",
     "output_type": "stream",
     "text": [
      "ābols\n"
     ]
    }
   ],
   "source": [
    "print(random.choice([\"ābols\", \"zemene\", \"mango\"]))"
   ]
  },
  {
   "cell_type": "markdown",
   "id": "8ad18a4f",
   "metadata": {},
   "source": [
    "### `import` library `as` new_name\n",
    "\n",
    "You may prefer to call a library in another, usually shorter, name. In order to do that you need to specify the new name using the `as` keyword:\n",
    "- `import pandas as pd`\n"
   ]
  },
  {
   "cell_type": "code",
   "execution_count": 24,
   "id": "f8a00871",
   "metadata": {},
   "outputs": [],
   "source": [
    "import random as rnd"
   ]
  },
  {
   "cell_type": "code",
   "execution_count": 25,
   "id": "e7dd65c7",
   "metadata": {},
   "outputs": [
    {
     "name": "stdout",
     "output_type": "stream",
     "text": [
      "mango\n"
     ]
    }
   ],
   "source": [
    "print(rnd.choice([\"ābols\", \"zemene\", \"mango\"]))"
   ]
  },
  {
   "cell_type": "markdown",
   "id": "7efb5b26",
   "metadata": {},
   "source": [
    "### `from` library `import` name\n",
    "\n",
    "If you only need to some of the functionality as a library you can list the names of things you want to import:\n",
    "\n",
    "- `from name_of_library import list, of, names`\n",
    "\n",
    "Example:\n",
    "- `from random import choice`\n",
    "\n",
    "You may list many names to import:\n",
    "- `from random import choice, randint`\n"
   ]
  },
  {
   "cell_type": "code",
   "execution_count": 28,
   "id": "daa6f67b",
   "metadata": {},
   "outputs": [
    {
     "name": "stdout",
     "output_type": "stream",
     "text": [
      "zemene\n"
     ]
    }
   ],
   "source": [
    "from random import choice\n",
    "\n",
    "value = choice([\"ābols\", \"zemene\", \"mango\"])\n",
    "print(value)"
   ]
  },
  {
   "cell_type": "code",
   "execution_count": null,
   "id": "723c5051",
   "metadata": {},
   "outputs": [],
   "source": []
  },
  {
   "cell_type": "markdown",
   "id": "d091b9e1",
   "metadata": {},
   "source": [
    "### Example : collections, Counter\n",
    "\n",
    "The `Counter()` object lets us count things\n",
    "* It looks like a library with countable things as dictionary keys and their counts as dictionary values\n",
    "  * In fact, we can do counting using a dictionary, too. It is just easier to use `Counter` instead.\n",
    "\n",
    "https://docs.python.org/3/library/collections.html#collections.Counter\n",
    "\n",
    "https://realpython.com/python-counter/"
   ]
  },
  {
   "cell_type": "code",
   "execution_count": 29,
   "id": "dcf3db92",
   "metadata": {},
   "outputs": [],
   "source": [
    "from collections import Counter"
   ]
  },
  {
   "cell_type": "code",
   "execution_count": 30,
   "id": "a866aadc",
   "metadata": {},
   "outputs": [
    {
     "name": "stdout",
     "output_type": "stream",
     "text": [
      "Counter({2: 3, 1: 2, 18: 2, 11: 1, 15: 1})\n"
     ]
    }
   ],
   "source": [
    "things_to_count = [1, 2, 11, 15, 2, 2, 18, 18, 1]\n",
    "\n",
    "cnt = Counter(things_to_count)\n",
    "\n",
    "print(cnt)"
   ]
  },
  {
   "cell_type": "code",
   "execution_count": 31,
   "id": "0b63710b-dfa5-41cf-b027-3ecfa3124064",
   "metadata": {},
   "outputs": [
    {
     "name": "stdout",
     "output_type": "stream",
     "text": [
      "1: 2\n",
      "2: 3\n",
      "11: 1\n",
      "15: 1\n",
      "18: 2\n"
     ]
    }
   ],
   "source": [
    "for key in cnt:\n",
    "    print(f\"{key}: {cnt[key]}\")"
   ]
  },
  {
   "cell_type": "code",
   "execution_count": 32,
   "id": "721dffd3",
   "metadata": {
    "scrolled": true
   },
   "outputs": [
    {
     "name": "stdout",
     "output_type": "stream",
     "text": [
      "clear\n",
      "copy\n",
      "elements\n",
      "fromkeys\n",
      "get\n",
      "items\n",
      "keys\n",
      "most_common\n",
      "pop\n",
      "popitem\n",
      "setdefault\n",
      "subtract\n",
      "total\n",
      "update\n",
      "values\n"
     ]
    }
   ],
   "source": [
    "# let's see what methods we can use with the Counter object\n",
    "print_names(dir(cnt))"
   ]
  },
  {
   "cell_type": "code",
   "execution_count": 33,
   "id": "422a928b",
   "metadata": {},
   "outputs": [
    {
     "name": "stdout",
     "output_type": "stream",
     "text": [
      "Help on method most_common in module collections:\n",
      "\n",
      "most_common(n=None) method of collections.Counter instance\n",
      "    List the n most common elements and their counts from the most\n",
      "    common to the least.  If n is None, then list all element counts.\n",
      "\n",
      "    >>> Counter('abracadabra').most_common(3)\n",
      "    [('a', 5), ('b', 2), ('r', 2)]\n",
      "\n"
     ]
    }
   ],
   "source": [
    "help(cnt.most_common)"
   ]
  },
  {
   "cell_type": "code",
   "execution_count": 34,
   "id": "a581cb29",
   "metadata": {},
   "outputs": [
    {
     "data": {
      "text/plain": [
       "[(2, 3), (1, 2), (18, 2)]"
      ]
     },
     "execution_count": 34,
     "metadata": {},
     "output_type": "execute_result"
    }
   ],
   "source": [
    "# print the most common items\n",
    "cnt.most_common(3)"
   ]
  },
  {
   "cell_type": "code",
   "execution_count": 35,
   "id": "dd79719e",
   "metadata": {},
   "outputs": [
    {
     "name": "stdout",
     "output_type": "stream",
     "text": [
      "Item 2 appeared 3 time(s).\n",
      "Item 1 appeared 2 time(s).\n",
      "Item 18 appeared 2 time(s).\n"
     ]
    }
   ],
   "source": [
    "# a prettier way to display most common items:\n",
    "\n",
    "for thing, count in cnt.most_common(3):\n",
    "    print(f\"Item {thing} appeared {count} time(s).\")"
   ]
  },
  {
   "cell_type": "code",
   "execution_count": 36,
   "id": "4915bcd9",
   "metadata": {},
   "outputs": [],
   "source": [
    "# We can count characters in a text string\n",
    "cnt2 = Counter(\"mans teksts\")"
   ]
  },
  {
   "cell_type": "code",
   "execution_count": 37,
   "id": "95b58781",
   "metadata": {},
   "outputs": [
    {
     "data": {
      "text/plain": [
       "Counter({'s': 3, 't': 2, 'm': 1, 'a': 1, 'n': 1, ' ': 1, 'e': 1, 'k': 1})"
      ]
     },
     "execution_count": 37,
     "metadata": {},
     "output_type": "execute_result"
    }
   ],
   "source": [
    "cnt2"
   ]
  },
  {
   "cell_type": "code",
   "execution_count": 39,
   "id": "38fd531f-e241-4722-996e-2f924df222d3",
   "metadata": {},
   "outputs": [
    {
     "name": "stdout",
     "output_type": "stream",
     "text": [
      "Item s appeared 3 time(s).\n",
      "Item t appeared 2 time(s).\n",
      "Item m appeared 1 time(s).\n"
     ]
    }
   ],
   "source": [
    "# a prettier way to display most common items:\n",
    "\n",
    "for thing, count in cnt2.most_common(3):\n",
    "    print(f\"Item {thing} appeared {count} time(s).\")"
   ]
  },
  {
   "cell_type": "code",
   "execution_count": 41,
   "id": "554f804c-01dc-492b-b848-894c1d683e8b",
   "metadata": {},
   "outputs": [],
   "source": [
    "# We can also count text strings\n",
    "cnt3 = Counter([\"mans teksts\", \"cits vārds\", \"Uldis\", \"Uldis\"])"
   ]
  },
  {
   "cell_type": "code",
   "execution_count": 42,
   "id": "4a55035a-1c31-4a54-af6a-7015232fe504",
   "metadata": {},
   "outputs": [
    {
     "data": {
      "text/plain": [
       "Counter({'Uldis': 2, 'mans teksts': 1, 'cits vārds': 1})"
      ]
     },
     "execution_count": 42,
     "metadata": {},
     "output_type": "execute_result"
    }
   ],
   "source": [
    "cnt3"
   ]
  },
  {
   "cell_type": "code",
   "execution_count": 45,
   "id": "4c3af420-9e24-4873-bdc5-d32c34e89fe6",
   "metadata": {},
   "outputs": [
    {
     "name": "stdout",
     "output_type": "stream",
     "text": [
      "Counter({'Uldis': 2, 'mans teksts': 1, 'cits vārds': 1})\n"
     ]
    }
   ],
   "source": [
    "print(cnt3)"
   ]
  },
  {
   "cell_type": "code",
   "execution_count": 46,
   "id": "05cf04e9-a000-40af-a3dd-052b7f6edd6e",
   "metadata": {},
   "outputs": [
    {
     "data": {
      "text/plain": [
       "[('Uldis', 2), ('mans teksts', 1), ('cits vārds', 1)]"
      ]
     },
     "execution_count": 46,
     "metadata": {},
     "output_type": "execute_result"
    }
   ],
   "source": [
    "cnt3.most_common()"
   ]
  },
  {
   "cell_type": "code",
   "execution_count": 47,
   "id": "79a57092-673a-4b70-9ad6-31bc78ee2072",
   "metadata": {},
   "outputs": [
    {
     "data": {
      "text/plain": [
       "dict_keys(['mans teksts', 'cits vārds', 'Uldis'])"
      ]
     },
     "execution_count": 47,
     "metadata": {},
     "output_type": "execute_result"
    }
   ],
   "source": [
    "cnt3.keys()"
   ]
  },
  {
   "cell_type": "code",
   "execution_count": 48,
   "id": "ca3b464a-fd37-45e1-914c-80cd7e2efcfd",
   "metadata": {},
   "outputs": [
    {
     "data": {
      "text/plain": [
       "dict_values([1, 1, 2])"
      ]
     },
     "execution_count": 48,
     "metadata": {},
     "output_type": "execute_result"
    }
   ],
   "source": [
    "cnt3.values()"
   ]
  },
  {
   "cell_type": "code",
   "execution_count": 49,
   "id": "7c54c5a4-881f-4592-bf3b-ee55117eb915",
   "metadata": {},
   "outputs": [
    {
     "data": {
      "text/plain": [
       "dict_items([('mans teksts', 1), ('cits vārds', 1), ('Uldis', 2)])"
      ]
     },
     "execution_count": 49,
     "metadata": {},
     "output_type": "execute_result"
    }
   ],
   "source": [
    "cnt3.items()"
   ]
  },
  {
   "cell_type": "code",
   "execution_count": 50,
   "id": "9b898434-24b7-428a-9910-4d9800547641",
   "metadata": {},
   "outputs": [
    {
     "name": "stdout",
     "output_type": "stream",
     "text": [
      "['Mr.', 'Sherlock', 'Holmes,', 'who', 'was', 'usually', 'very', 'late', 'in', 'the', 'mornings,', 'save', 'upon', 'those', 'not', 'infrequent', 'occasions', 'when', 'he', 'was', 'up', 'all', 'night,', 'was', 'seated', 'at', 'the', 'breakfast', 'table.']\n"
     ]
    }
   ],
   "source": [
    "# ... or we can count words in a text string\n",
    "\n",
    "words = \"Mr. Sherlock Holmes, who was usually very late in the mornings, save upon those not infrequent occasions when he was up all night, was seated at the breakfast table.\".split()\n",
    "print(words)"
   ]
  },
  {
   "cell_type": "code",
   "execution_count": 51,
   "id": "9ecf6f92-0fa9-4187-9c29-6a3bc2150108",
   "metadata": {},
   "outputs": [
    {
     "data": {
      "text/plain": [
       "[('was', 3), ('the', 2), ('Mr.', 1), ('Sherlock', 1), ('Holmes,', 1)]"
      ]
     },
     "execution_count": 51,
     "metadata": {},
     "output_type": "execute_result"
    }
   ],
   "source": [
    "cnt4 = Counter(words)\n",
    "cnt4.most_common(5)\n"
   ]
  },
  {
   "cell_type": "markdown",
   "id": "9cc8c351-505b-4b08-a4d5-ac9bcdbeb84d",
   "metadata": {},
   "source": [
    "### Example: datetime - Date and Time Operations\n",
    "\n",
    "https://docs.python.org/3/library/datetime.html"
   ]
  },
  {
   "cell_type": "code",
   "execution_count": 63,
   "id": "a576d84d-3059-406f-b66e-aedacddd3897",
   "metadata": {},
   "outputs": [],
   "source": [
    "from datetime import datetime\n",
    "import pytz"
   ]
  },
  {
   "cell_type": "code",
   "execution_count": 74,
   "id": "7476a716-c41d-4d38-914b-687bfdd29e2a",
   "metadata": {},
   "outputs": [],
   "source": [
    "riga_tz = pytz.timezone(\"Europe/Riga\")"
   ]
  },
  {
   "cell_type": "code",
   "execution_count": 80,
   "id": "aa8600c4-b018-42ac-bbf5-e6e60adb6553",
   "metadata": {},
   "outputs": [],
   "source": [
    "start = datetime(2025, 10, 1, tzinfo=riga_tz)\n",
    "now = datetime.now(riga_tz)"
   ]
  },
  {
   "cell_type": "code",
   "execution_count": 81,
   "id": "7708348e-fc09-4bfc-9abd-4db4ae7a8029",
   "metadata": {},
   "outputs": [
    {
     "name": "stdout",
     "output_type": "stream",
     "text": [
      "2025-10-01 00:00:00+01:37\n",
      "2025-10-01 11:28:27.277200+03:00\n"
     ]
    }
   ],
   "source": [
    "print(start)\n",
    "print(now)"
   ]
  },
  {
   "cell_type": "code",
   "execution_count": 82,
   "id": "88587388-d923-4e3b-9909-2683ff5751f5",
   "metadata": {},
   "outputs": [
    {
     "name": "stdout",
     "output_type": "stream",
     "text": [
      "10:05:27.277200\n"
     ]
    }
   ],
   "source": [
    "# difference between two datetime values\n",
    "\n",
    "print(now - start)"
   ]
  },
  {
   "cell_type": "code",
   "execution_count": 86,
   "id": "86b6378b-eee2-42f8-b45c-adbc41d3f18c",
   "metadata": {},
   "outputs": [
    {
     "data": {
      "text/plain": [
       "'Wednesday, 01 Oct 2025 00:00:00'"
      ]
     },
     "execution_count": 86,
     "metadata": {},
     "output_type": "execute_result"
    }
   ],
   "source": [
    "start.strftime(\"%A, %d %b %Y %H:%M:%S\")"
   ]
  },
  {
   "cell_type": "code",
   "execution_count": 87,
   "id": "86118ae8-1f0c-491a-8d9d-5163d994d72e",
   "metadata": {},
   "outputs": [
    {
     "data": {
      "text/plain": [
       "'Wednesday, 01 Oct 2025 11:28:27'"
      ]
     },
     "execution_count": 87,
     "metadata": {},
     "output_type": "execute_result"
    }
   ],
   "source": [
    "now.strftime(\"%A, %d %b %Y %H:%M:%S\")"
   ]
  },
  {
   "cell_type": "markdown",
   "id": "bebadad6-4b56-4e85-ae9e-299ff405fbe6",
   "metadata": {},
   "source": [
    "### Example: time - Time Access and Conversion\n",
    "\n",
    "https://docs.python.org/3/library/time.html"
   ]
  },
  {
   "cell_type": "code",
   "execution_count": 83,
   "id": "c98f199b-56e4-4871-9ebc-05e3736c3cef",
   "metadata": {},
   "outputs": [],
   "source": [
    "import time"
   ]
  },
  {
   "cell_type": "code",
   "execution_count": 84,
   "id": "c24b2a11-3618-4f02-bbb9-ded191960cb3",
   "metadata": {},
   "outputs": [
    {
     "name": "stdout",
     "output_type": "stream",
     "text": [
      "time.struct_time(tm_year=2025, tm_mon=10, tm_mday=1, tm_hour=11, tm_min=31, tm_sec=51, tm_wday=2, tm_yday=274, tm_isdst=1)\n"
     ]
    }
   ],
   "source": [
    "curr_time = time.localtime()\n",
    "\n",
    "print(curr_time)"
   ]
  },
  {
   "cell_type": "code",
   "execution_count": 85,
   "id": "64b68cf7-4ea7-4b54-af6d-0c47665ed6b9",
   "metadata": {},
   "outputs": [
    {
     "name": "stdout",
     "output_type": "stream",
     "text": [
      "Wednesday, 01 Oct 2025 11:31:51\n"
     ]
    }
   ],
   "source": [
    "# format a date-time string\n",
    "# https://docs.python.org/3/library/time.html#time.strftime\n",
    "\n",
    "print(time.strftime(\"%A, %d %b %Y %H:%M:%S\", curr_time))"
   ]
  },
  {
   "cell_type": "code",
   "execution_count": 88,
   "id": "00a10d7f-b654-478d-bc94-524319d5ebc0",
   "metadata": {},
   "outputs": [
    {
     "data": {
      "text/plain": [
       "time.struct_time(tm_year=2024, tm_mon=10, tm_mday=2, tm_hour=0, tm_min=0, tm_sec=0, tm_wday=2, tm_yday=276, tm_isdst=-1)"
      ]
     },
     "execution_count": 88,
     "metadata": {},
     "output_type": "execute_result"
    }
   ],
   "source": [
    "# parse (interpret) as date-time string\n",
    "tmp_date = time.strptime(\"02 Oct 24\", \"%d %b %y\")\n",
    "tmp_date"
   ]
  },
  {
   "cell_type": "code",
   "execution_count": 89,
   "id": "e8f1d0d5-e8b3-4a30-9533-6d1aa33bb50e",
   "metadata": {},
   "outputs": [
    {
     "name": "stdout",
     "output_type": "stream",
     "text": [
      "2024-Oct-02\n"
     ]
    }
   ],
   "source": [
    "print(time.strftime(\"%Y-%b-%d\", tmp_date))"
   ]
  },
  {
   "cell_type": "code",
   "execution_count": 91,
   "id": "fe22ed5d-0720-42b9-86ce-39602fa13003",
   "metadata": {},
   "outputs": [
    {
     "name": "stdout",
     "output_type": "stream",
     "text": [
      "0\n",
      "1\n",
      "2\n",
      "3\n",
      "4\n",
      "5\n",
      "6\n",
      "7\n",
      "8\n",
      "9\n"
     ]
    }
   ],
   "source": [
    "# time.sleep() ļauj aizkavēt programmas izpildi uz norādīto sekunžu skaitu\n",
    "\n",
    "for i in range(10):\n",
    "    print(i)\n",
    "    time.sleep(0.5)\n"
   ]
  },
  {
   "cell_type": "markdown",
   "id": "bf4bb2db-4685-48d9-8d3c-34e75c5b78eb",
   "metadata": {},
   "source": [
    "### Example: math - Mathematical operations\n",
    "\n",
    "https://docs.python.org/3/library/math.html"
   ]
  },
  {
   "cell_type": "code",
   "execution_count": 92,
   "id": "1b8616ec-857c-443f-8fb1-da0a4fd1faec",
   "metadata": {},
   "outputs": [],
   "source": [
    "# let's import the math library\n",
    "import math"
   ]
  },
  {
   "cell_type": "code",
   "execution_count": 93,
   "id": "0ec50574-ecac-4e23-b805-06cdd4ea3050",
   "metadata": {},
   "outputs": [
    {
     "name": "stdout",
     "output_type": "stream",
     "text": [
      "acos\n",
      "acosh\n",
      "asin\n",
      "asinh\n",
      "atan\n",
      "atan2\n",
      "atanh\n",
      "cbrt\n",
      "ceil\n",
      "comb\n",
      "copysign\n",
      "cos\n",
      "cosh\n",
      "degrees\n",
      "dist\n",
      "e\n",
      "erf\n",
      "erfc\n",
      "exp\n",
      "exp2\n",
      "expm1\n",
      "fabs\n",
      "factorial\n",
      "floor\n",
      "fmod\n",
      "frexp\n",
      "fsum\n",
      "gamma\n",
      "gcd\n",
      "hypot\n",
      "inf\n",
      "isclose\n",
      "isfinite\n",
      "isinf\n",
      "isnan\n",
      "isqrt\n",
      "lcm\n",
      "ldexp\n",
      "lgamma\n",
      "log\n",
      "log10\n",
      "log1p\n",
      "log2\n",
      "modf\n",
      "nan\n",
      "nextafter\n",
      "perm\n",
      "pi\n",
      "pow\n",
      "prod\n",
      "radians\n",
      "remainder\n",
      "sin\n",
      "sinh\n",
      "sqrt\n",
      "sumprod\n",
      "tan\n",
      "tanh\n",
      "tau\n",
      "trunc\n",
      "ulp\n"
     ]
    }
   ],
   "source": [
    "print_names(dir(math))"
   ]
  },
  {
   "cell_type": "code",
   "execution_count": 94,
   "id": "1f6fc265-17f1-4db8-90e1-dab85160fdc5",
   "metadata": {},
   "outputs": [
    {
     "data": {
      "text/plain": [
       "-1.0"
      ]
     },
     "execution_count": 94,
     "metadata": {},
     "output_type": "execute_result"
    }
   ],
   "source": [
    "math.cos(math.pi)"
   ]
  },
  {
   "cell_type": "code",
   "execution_count": 95,
   "id": "cd941697-d25c-4dac-973f-179d9b18730a",
   "metadata": {},
   "outputs": [
    {
     "name": "stdout",
     "output_type": "stream",
     "text": [
      "6.643856189774724\n",
      "\n",
      "7\n"
     ]
    }
   ],
   "source": [
    "# how many tries are needed to guess a number from 1 to 100?\n",
    "print(math.log2(100))\n",
    "print()\n",
    "\n",
    "print(math.ceil(math.log2(100)))\n"
   ]
  },
  {
   "cell_type": "markdown",
   "id": "1741697f",
   "metadata": {},
   "source": [
    "---\n",
    "\n",
    "## External libraries\n",
    "\n",
    "[Awesome Python](https://github.com/vinta/awesome-python) resources list\n",
    "\n",
    "[PyPI Python Package Index](https://pypi.org/)\n",
    "\n",
    "External libraries need to be installed before use.\n",
    "\n",
    "They can be installed using the `pip` Python package manager. It is a command-line tool that allows users to install and manage Python packages (libraries, modules, ...).\n",
    "\n",
    "For example, this command-line instruction will let us install the `requests` library from PyPI:\n",
    "\n",
    "`pip install requests`\n",
    "\n",
    "If you are using Google Colab or Jupyter notebook you can execute these command-line instructions directly from the notebook by adding \"%\" or \"!\" in front of the instruction:\n",
    "\n",
    "`%pip install requests`\n",
    "\n"
   ]
  },
  {
   "cell_type": "markdown",
   "id": "11bcfead",
   "metadata": {},
   "source": [
    "### Example : requests\n",
    "\n",
    "\"Requests is an elegant and simple HTTP library for Python, built for human beings.\"\n",
    "\n",
    "https://requests.readthedocs.io/en/latest/"
   ]
  },
  {
   "cell_type": "code",
   "execution_count": 97,
   "id": "0a4b5ae1",
   "metadata": {},
   "outputs": [
    {
     "name": "stdout",
     "output_type": "stream",
     "text": [
      "Requirement already satisfied: requests in /Users/captsolo/Documents/Code/LU_GeoPython/.venv/lib/python3.12/site-packages (2.32.3)\n",
      "Requirement already satisfied: charset-normalizer<4,>=2 in /Users/captsolo/Documents/Code/LU_GeoPython/.venv/lib/python3.12/site-packages (from requests) (3.4.0)\n",
      "Requirement already satisfied: idna<4,>=2.5 in /Users/captsolo/Documents/Code/LU_GeoPython/.venv/lib/python3.12/site-packages (from requests) (3.10)\n",
      "Requirement already satisfied: urllib3<3,>=1.21.1 in /Users/captsolo/Documents/Code/LU_GeoPython/.venv/lib/python3.12/site-packages (from requests) (2.2.3)\n",
      "Requirement already satisfied: certifi>=2017.4.17 in /Users/captsolo/Documents/Code/LU_GeoPython/.venv/lib/python3.12/site-packages (from requests) (2024.8.30)\n"
     ]
    }
   ],
   "source": [
    "## Installation of the library may depend on what Python distribution you use\n",
    "## Example of installing requests using the pip command:\n",
    "\n",
    "!pip install requests"
   ]
  },
  {
   "cell_type": "code",
   "execution_count": 98,
   "id": "d62864ef",
   "metadata": {},
   "outputs": [],
   "source": [
    "import requests"
   ]
  },
  {
   "cell_type": "code",
   "execution_count": 99,
   "id": "0626dc29",
   "metadata": {},
   "outputs": [],
   "source": [
    "# raw text of the Wikipedia article about Salaspils\n",
    "url = \"https://lv.wikipedia.org/wiki/Salaspils?action=raw\""
   ]
  },
  {
   "cell_type": "code",
   "execution_count": 100,
   "id": "1c3ed509-6746-40e4-a08f-ab8f8442a441",
   "metadata": {},
   "outputs": [],
   "source": [
    "# when requesting information from websites, it is best practice to identify\n",
    "# yourself by including your e-mail and a link to a webpage describing your requests\n",
    "\n",
    "user_agent = \"LU_GeoPythonCourse/1.0 (https://github.com/CaptSolo/LU_GeoPython/; captsolo@gmail.com)\"\n",
    "\n",
    "headers = {'User-Agent': user_agent}"
   ]
  },
  {
   "cell_type": "code",
   "execution_count": 101,
   "id": "2227512a",
   "metadata": {},
   "outputs": [
    {
     "name": "stdout",
     "output_type": "stream",
     "text": [
      "200\n",
      "\n"
     ]
    }
   ],
   "source": [
    "# let's get the contents of this webpage\n",
    "\n",
    "result = requests.get(url, headers=headers)\n",
    "\n",
    "# result code \"200\" means the page was retrieved OK\n",
    "print(result.status_code)\n",
    "print()\n",
    "\n",
    "# note that you may receive an error code such as 403 Forbidden in case\n",
    "# if you do not provide the User-Agent header mentioned above"
   ]
  },
  {
   "cell_type": "code",
   "execution_count": 102,
   "id": "3c00a48a-d1ca-4413-9947-2fccf0646825",
   "metadata": {},
   "outputs": [
    {
     "name": "stdout",
     "output_type": "stream",
     "text": [
      "{{citas nozīmes|pilsētu|Salaspils (nozīmju atdalīšana)|Salaspils}}\n",
      "{{Apdzīvotas vietas infokaste\n",
      "| name = Salaspils\n",
      "| settlement_type = Novada pilsēta\n",
      "| image_skyline = {{Photomontage\n",
      "|photo1a = Salaspils_1._vidusskolas_4._korpuss.jpg{{!}}\n",
      "|photo2a = Salaspils_Dievmātes_-_Rožukroņa_Karalienes_Romas_katoļu_baznīca.jpg{{!}}\n",
      "|photo2b = Daudzdzīvokļu_mājas_Salaspilī_-_ogre11_-_Panoramio.jpg{{!}}\n",
      "|photo3a = Salaspils_2025.jpg{{!}}\n",
      "|photo3b = Salaspils_stacija.jpg\n",
      "|color = white\n",
      "|color_border = white\n",
      "|position = center\n",
      "|spacing = 2\n",
      "|size = 266\n",
      "|foot_montage =\n",
      "}}\n",
      "| imagesize = \n",
      "| image_caption = \n",
      "| i\n"
     ]
    }
   ],
   "source": [
    "# this is the \"text\" of the webpage\n",
    "print(result.text[:600])"
   ]
  },
  {
   "cell_type": "code",
   "execution_count": 103,
   "id": "5a9ea9ed-ba7c-42f5-a48b-68b58fb1b242",
   "metadata": {},
   "outputs": [
    {
     "name": "stdout",
     "output_type": "stream",
     "text": [
      "'''Salaspils''' ir [[pilsēta]] [[Latvija|Latvijā]], [[Salaspils novads|Salaspils novada]] administratīvais centrs. Tā ir [[Rīga]]s [[piepilsēta]], atrodas tikai 18 km attālumā no galvaspilsētas centra un 16 km attālumā no [[Ogre]]s. Pilsēta tās mūsdienu veidolā veidojusies saistībā ar līdzās esošā [[Rīgas HES]] un vairāku rūpniecības uzņēmumu celtniecību, savukārt [[Salaspils vēsture|vēsturiskā Salaspils]] šobrīd ir appludināta zem [[Rīgas ūdenskrātuve|Rīgas HES ūdenskrātuves]]. Pilsētas tiesības kopš 1993. gada. Salaspils ir viena no jaunākajām Latvijas pilsētām un [[Latvijas lielāko apdzīvot\n"
     ]
    }
   ],
   "source": [
    "# Hmm, start of this text looks like some code\n",
    "\n",
    "# Let's find out where the actual text of the wiki page starts:\n",
    "\n",
    "data = result.text\n",
    "start = data.index(\"'''Salaspils'''\")\n",
    "print(data[start:start+600])"
   ]
  },
  {
   "cell_type": "markdown",
   "id": "f446b5be",
   "metadata": {},
   "source": [
    "### Exercise\n",
    "\n",
    "Count the number of words in the text of the webpage retrieved above and display a list of Top 10 words on this webpage.\n"
   ]
  },
  {
   "cell_type": "code",
   "execution_count": null,
   "id": "1bf41500",
   "metadata": {},
   "outputs": [],
   "source": [
    "# You could use the Counter object to count words\n"
   ]
  },
  {
   "cell_type": "code",
   "execution_count": null,
   "id": "51d26a44-8ee7-478b-a570-ace9f5595f71",
   "metadata": {},
   "outputs": [],
   "source": []
  },
  {
   "cell_type": "markdown",
   "id": "fc89a1dd",
   "metadata": {},
   "source": [
    "## Other libraries\n",
    "\n",
    "What other Python libraries do you need / are interested in?"
   ]
  },
  {
   "cell_type": "code",
   "execution_count": null,
   "id": "52c34d9c-64bc-4239-a3d5-686beb032ac0",
   "metadata": {},
   "outputs": [],
   "source": []
  },
  {
   "cell_type": "markdown",
   "id": "2afdc0b6-c454-4082-a789-1d5d7b6bc6d0",
   "metadata": {},
   "source": [
    "## Summary\n",
    "\n",
    "In this lesson we have learned about:\n",
    "- Python standard library: importing and using built-in Python modules\n",
    "- installing, importing and using third-party libraries (using `pip`)"
   ]
  },
  {
   "cell_type": "code",
   "execution_count": null,
   "id": "aa8f270d-8c41-4e00-85ec-9c6cb3676314",
   "metadata": {},
   "outputs": [],
   "source": []
  }
 ],
 "metadata": {
  "kernelspec": {
   "display_name": "Python 3 (ipykernel)",
   "language": "python",
   "name": "python3"
  },
  "language_info": {
   "codemirror_mode": {
    "name": "ipython",
    "version": 3
   },
   "file_extension": ".py",
   "mimetype": "text/x-python",
   "name": "python",
   "nbconvert_exporter": "python",
   "pygments_lexer": "ipython3",
   "version": "3.12.7"
  }
 },
 "nbformat": 4,
 "nbformat_minor": 5
}
