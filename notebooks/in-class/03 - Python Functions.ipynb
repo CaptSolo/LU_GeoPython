{
 "cells": [
  {
   "cell_type": "markdown",
   "id": "215dc109",
   "metadata": {},
   "source": [
    "# Lists (recap)"
   ]
  },
  {
   "cell_type": "markdown",
   "id": "316cefbf",
   "metadata": {},
   "source": [
    "* List methods\n",
    "* `len()` function\n",
    "* Adding, multiplying lists\n",
    "* \"`in`\" and \"`not in`\" = checking if some element is part of the list\n",
    "* Looping over a list\n",
    " * `for item in list:`\n",
    " * `for i in range(len(list)):`\n",
    " * using `enumerate` to get list element numbers"
   ]
  },
  {
   "cell_type": "code",
   "execution_count": 1,
   "id": "bd7b3039",
   "metadata": {},
   "outputs": [],
   "source": [
    "sar1 = [\"ābols\", \"bumbieris\", \"citrons\"]"
   ]
  },
  {
   "cell_type": "code",
   "execution_count": 2,
   "id": "255b312e",
   "metadata": {},
   "outputs": [
    {
     "data": {
      "text/plain": [
       "3"
      ]
     },
     "execution_count": 2,
     "metadata": {},
     "output_type": "execute_result"
    }
   ],
   "source": [
    "len(sar1)"
   ]
  },
  {
   "cell_type": "code",
   "execution_count": 3,
   "id": "db48d490",
   "metadata": {},
   "outputs": [
    {
     "name": "stdout",
     "output_type": "stream",
     "text": [
      "citrons\n"
     ]
    }
   ],
   "source": [
    "print(sar1[2])"
   ]
  },
  {
   "cell_type": "code",
   "execution_count": 4,
   "id": "9d6c15de",
   "metadata": {},
   "outputs": [],
   "source": [
    "sar2 = [\"piens\", \"kefīrs\"]"
   ]
  },
  {
   "cell_type": "code",
   "execution_count": 5,
   "id": "3f60ed9b",
   "metadata": {},
   "outputs": [
    {
     "name": "stdout",
     "output_type": "stream",
     "text": [
      "['ābols', 'bumbieris', 'citrons', 'piens', 'kefīrs']\n"
     ]
    }
   ],
   "source": [
    "print(sar1 + sar2)"
   ]
  },
  {
   "cell_type": "code",
   "execution_count": 6,
   "id": "aaa8d988",
   "metadata": {},
   "outputs": [],
   "source": [
    "sar1.append(\"persiks\")"
   ]
  },
  {
   "cell_type": "code",
   "execution_count": 7,
   "id": "b500a4a2",
   "metadata": {},
   "outputs": [
    {
     "data": {
      "text/plain": [
       "['ābols', 'bumbieris', 'citrons', 'persiks']"
      ]
     },
     "execution_count": 7,
     "metadata": {},
     "output_type": "execute_result"
    }
   ],
   "source": [
    "sar1"
   ]
  },
  {
   "cell_type": "code",
   "execution_count": 8,
   "id": "65b4256b",
   "metadata": {},
   "outputs": [
    {
     "name": "stdout",
     "output_type": "stream",
     "text": [
      "Help on method_descriptor:\n",
      "\n",
      "sort(self, /, *, key=None, reverse=False) unbound builtins.list method\n",
      "    Sort the list in ascending order and return None.\n",
      "\n",
      "    The sort is in-place (i.e. the list itself is modified) and stable (i.e. the\n",
      "    order of two equal elements is maintained).\n",
      "\n",
      "    If a key function is given, apply it once to each list item and sort them,\n",
      "    ascending or descending, according to their function values.\n",
      "\n",
      "    The reverse flag can be set to sort in descending order.\n",
      "\n"
     ]
    }
   ],
   "source": [
    "help(list.sort)"
   ]
  },
  {
   "cell_type": "code",
   "execution_count": 9,
   "id": "f2681a25-43ee-4927-a998-7230065e41db",
   "metadata": {},
   "outputs": [],
   "source": [
    "sar1.append(\"kola\")"
   ]
  },
  {
   "cell_type": "code",
   "execution_count": 10,
   "id": "edfee02c",
   "metadata": {},
   "outputs": [],
   "source": [
    "sar1.sort()"
   ]
  },
  {
   "cell_type": "code",
   "execution_count": 11,
   "id": "8144c7b6",
   "metadata": {},
   "outputs": [
    {
     "data": {
      "text/plain": [
       "['bumbieris', 'citrons', 'kola', 'persiks', 'ābols']"
      ]
     },
     "execution_count": 11,
     "metadata": {},
     "output_type": "execute_result"
    }
   ],
   "source": [
    "sar1"
   ]
  },
  {
   "cell_type": "code",
   "execution_count": 12,
   "id": "fb2cb440",
   "metadata": {},
   "outputs": [
    {
     "data": {
      "text/plain": [
       "True"
      ]
     },
     "execution_count": 12,
     "metadata": {},
     "output_type": "execute_result"
    }
   ],
   "source": [
    "\"citrons\" in sar1"
   ]
  },
  {
   "cell_type": "code",
   "execution_count": 13,
   "id": "9c26d1a8",
   "metadata": {},
   "outputs": [
    {
     "name": "stdout",
     "output_type": "stream",
     "text": [
      "Jā, 'citrons' ir sarakstā sar1!\n"
     ]
    }
   ],
   "source": [
    "if \"citrons\" in sar1:\n",
    "    print(\"Jā, 'citrons' ir sarakstā sar1!\")"
   ]
  },
  {
   "cell_type": "code",
   "execution_count": 14,
   "id": "bdb5081d",
   "metadata": {},
   "outputs": [
    {
     "data": {
      "text/plain": [
       "True"
      ]
     },
     "execution_count": 14,
     "metadata": {},
     "output_type": "execute_result"
    }
   ],
   "source": [
    "\"citrons\" not in sar2"
   ]
  },
  {
   "cell_type": "code",
   "execution_count": null,
   "id": "3c3e4484",
   "metadata": {},
   "outputs": [],
   "source": [
    "for elements in sar1:\n",
    "    print(elements)"
   ]
  },
  {
   "cell_type": "code",
   "execution_count": 16,
   "id": "f197faff-574a-4f53-b781-9bed0390ee98",
   "metadata": {},
   "outputs": [
    {
     "data": {
      "text/plain": [
       "['bumbieris', 'citrons', 'kola', 'persiks', 'ābols', 'citrons']"
      ]
     },
     "execution_count": 16,
     "metadata": {},
     "output_type": "execute_result"
    }
   ],
   "source": [
    "sar1.append(\"citrons\")\n",
    "sar1"
   ]
  },
  {
   "cell_type": "code",
   "execution_count": 17,
   "id": "5b6e7eb8-5642-4d25-9907-63e896a2d3cf",
   "metadata": {},
   "outputs": [],
   "source": [
    "sar1.remove(\"citrons\")"
   ]
  },
  {
   "cell_type": "code",
   "execution_count": 18,
   "id": "44ca400e-7a90-47e8-8aa2-c81269aac64f",
   "metadata": {},
   "outputs": [
    {
     "data": {
      "text/plain": [
       "['bumbieris', 'kola', 'persiks', 'ābols', 'citrons']"
      ]
     },
     "execution_count": 18,
     "metadata": {},
     "output_type": "execute_result"
    }
   ],
   "source": [
    "sar1"
   ]
  },
  {
   "cell_type": "markdown",
   "id": "f17fe61c-89f9-4be9-92ce-0e12cfe68f57",
   "metadata": {},
   "source": [
    "---\n",
    "### Exception handling\n",
    "\n",
    "Python may \"raise\" exceptions (kļūdu situācijas) in error situations. These exception situations can be \"caught\" using Python commands `try` and `except`:\n",
    "\n",
    "```\n",
    "try:\n",
    "    <Python commands that may raise an exception>\n",
    "except:\n",
    "    <commands to execute if an exception occurred>\n",
    "```\n",
    "\n",
    "Exception handling can be useful if we want to, for example, ensure that a user enters an integer (and not a text string)."
   ]
  },
  {
   "cell_type": "code",
   "execution_count": 20,
   "id": "0883702d-d11f-4af4-8137-d15fd140facb",
   "metadata": {},
   "outputs": [
    {
     "name": "stdout",
     "output_type": "stream",
     "text": [
      "Pirms dalīšanas\n"
     ]
    },
    {
     "ename": "ZeroDivisionError",
     "evalue": "division by zero",
     "output_type": "error",
     "traceback": [
      "\u001b[0;31m---------------------------------------------------------------------------\u001b[0m",
      "\u001b[0;31mZeroDivisionError\u001b[0m                         Traceback (most recent call last)",
      "Cell \u001b[0;32mIn[20], line 2\u001b[0m\n\u001b[1;32m      1\u001b[0m \u001b[38;5;28mprint\u001b[39m(\u001b[38;5;124m\"\u001b[39m\u001b[38;5;124mPirms dalīšanas\u001b[39m\u001b[38;5;124m\"\u001b[39m)\n\u001b[0;32m----> 2\u001b[0m a \u001b[38;5;241m=\u001b[39m \u001b[38;5;241;43m100\u001b[39;49m\u001b[38;5;241;43m/\u001b[39;49m\u001b[38;5;241;43m0\u001b[39;49m\n\u001b[1;32m      3\u001b[0m \u001b[38;5;28mprint\u001b[39m(\u001b[38;5;124m\"\u001b[39m\u001b[38;5;124mPēc dalīšanas\u001b[39m\u001b[38;5;124m\"\u001b[39m)\n",
      "\u001b[0;31mZeroDivisionError\u001b[0m: division by zero"
     ]
    }
   ],
   "source": [
    "print(\"Pirms dalīšanas\")\n",
    "a = 100/0\n",
    "print(\"Pēc dalīšanas\")"
   ]
  },
  {
   "cell_type": "code",
   "execution_count": 22,
   "id": "1df6a88b-f0f0-444d-a55d-2618703755b6",
   "metadata": {},
   "outputs": [],
   "source": [
    "val = \"aaa\"\n",
    "\n",
    "## uncomment the next line to see that it raises a ValueError exception\n",
    "#int_val = int(val)"
   ]
  },
  {
   "cell_type": "code",
   "execution_count": 23,
   "id": "1b05ae6c-f6c7-44d8-9e47-624397606031",
   "metadata": {},
   "outputs": [
    {
     "name": "stdout",
     "output_type": "stream",
     "text": [
      "Please enter an integer value.\n"
     ]
    }
   ],
   "source": [
    "val = \"aaa\"\n",
    "\n",
    "# here we use try / except to \"catch\" this exception and do something with it\n",
    "try:\n",
    "    int_val = int(val)\n",
    "except ValueError:\n",
    "    print(\"Please enter an integer value.\")\n",
    "    "
   ]
  },
  {
   "cell_type": "code",
   "execution_count": 24,
   "id": "5fb7e2ef-f03e-4e0f-95c0-1e81d91c622b",
   "metadata": {},
   "outputs": [
    {
     "name": "stdout",
     "output_type": "stream",
     "text": [
      "12\n"
     ]
    }
   ],
   "source": [
    "# try / except command may also have an \"else\" part which Python executes\n",
    "# in case if there was no exception raised\n",
    "\n",
    "try:\n",
    "    int_val = int(\"12\")\n",
    "except ValueError:\n",
    "    print(\"Please enter an integer value.\")\n",
    "else:\n",
    "    print(int_val)"
   ]
  },
  {
   "cell_type": "markdown",
   "id": "979ed44d-8690-4ee9-9ceb-3c5c16e0f155",
   "metadata": {},
   "source": [
    "---\n",
    "\n",
    "**\"while\" cycle runs as long as its condition remains True**\n",
    "\n",
    "`while True:` creates an infinite cycle (since True is always True)\n",
    " - but we can exit this cycle using a `break` command"
   ]
  },
  {
   "cell_type": "code",
   "execution_count": 25,
   "id": "f14d1add-8546-4b80-9fa1-85ae7dce5f93",
   "metadata": {},
   "outputs": [
    {
     "name": "stdin",
     "output_type": "stream",
     "text": [
      "Please enter an integer value:  teksts\n"
     ]
    },
    {
     "name": "stdout",
     "output_type": "stream",
     "text": [
      "This is not an integer value!\n"
     ]
    },
    {
     "name": "stdin",
     "output_type": "stream",
     "text": [
      "Please enter an integer value:  11.5\n"
     ]
    },
    {
     "name": "stdout",
     "output_type": "stream",
     "text": [
      "This is not an integer value!\n"
     ]
    },
    {
     "name": "stdin",
     "output_type": "stream",
     "text": [
      "Please enter an integer value:  11\n"
     ]
    }
   ],
   "source": [
    "# let's put this cycle together with exception handling\n",
    "# to ensure a user enters an integer value\n",
    "\n",
    "while True:\n",
    "\n",
    "    try:\n",
    "        val = input(\"Please enter an integer value: \")\n",
    "        int_val = int(val)\n",
    "\n",
    "        # this command will exit the cycle\n",
    "        break\n",
    "        \n",
    "    except ValueError:\n",
    "        print(\"This is not an integer value!\")"
   ]
  },
  {
   "cell_type": "code",
   "execution_count": 26,
   "id": "769b2740-7334-4c41-b6f4-8f54d9e5d9f5",
   "metadata": {},
   "outputs": [
    {
     "name": "stdout",
     "output_type": "stream",
     "text": [
      "11\n"
     ]
    }
   ],
   "source": [
    "print(int_val)"
   ]
  },
  {
   "cell_type": "markdown",
   "id": "c5e143b4",
   "metadata": {},
   "source": [
    "---\n",
    "### Python standard library (\"Batteries included\")\n",
    "\n",
    "https://docs.python.org/3/library/\n",
    "\n",
    "Random module:\n",
    "https://docs.python.org/3/library/random.html\n"
   ]
  },
  {
   "cell_type": "code",
   "execution_count": 27,
   "id": "723aaa9a",
   "metadata": {},
   "outputs": [],
   "source": [
    "import random"
   ]
  },
  {
   "cell_type": "code",
   "execution_count": 29,
   "id": "206c6d32",
   "metadata": {},
   "outputs": [
    {
     "name": "stdout",
     "output_type": "stream",
     "text": [
      "BPF\n",
      "LOG4\n",
      "NV_MAGICCONST\n",
      "RECIP_BPF\n",
      "Random\n",
      "SG_MAGICCONST\n",
      "SystemRandom\n",
      "TWOPI\n",
      "betavariate\n",
      "binomialvariate\n",
      "choice\n",
      "choices\n",
      "expovariate\n",
      "gammavariate\n",
      "gauss\n",
      "getrandbits\n",
      "getstate\n",
      "lognormvariate\n",
      "normalvariate\n",
      "paretovariate\n",
      "randbytes\n",
      "randint\n",
      "random\n",
      "randrange\n",
      "sample\n",
      "seed\n",
      "setstate\n",
      "shuffle\n",
      "triangular\n",
      "uniform\n",
      "vonmisesvariate\n",
      "weibullvariate\n"
     ]
    }
   ],
   "source": [
    "# let's print a list of methods that the random library has:\n",
    "\n",
    "for name in dir(random):\n",
    "    if not name.startswith(\"_\"):\n",
    "        print(name)"
   ]
  },
  {
   "cell_type": "code",
   "execution_count": 30,
   "id": "37f11513",
   "metadata": {},
   "outputs": [
    {
     "name": "stdout",
     "output_type": "stream",
     "text": [
      "Help on method shuffle in module random:\n",
      "\n",
      "shuffle(x) method of random.Random instance\n",
      "    Shuffle list x in place, and return None.\n",
      "\n"
     ]
    }
   ],
   "source": [
    "help(random.shuffle)"
   ]
  },
  {
   "cell_type": "code",
   "execution_count": 31,
   "id": "e025fd01",
   "metadata": {},
   "outputs": [
    {
     "name": "stdout",
     "output_type": "stream",
     "text": [
      "Help on method choice in module random:\n",
      "\n",
      "choice(seq) method of random.Random instance\n",
      "    Choose a random element from a non-empty sequence.\n",
      "\n"
     ]
    }
   ],
   "source": [
    "help(random.choice)"
   ]
  },
  {
   "cell_type": "code",
   "execution_count": 32,
   "id": "d8152d69",
   "metadata": {},
   "outputs": [],
   "source": [
    "my_list = [\"pear\", \"apple\", \"rose\", \"tulip\", \"mango\"]"
   ]
  },
  {
   "cell_type": "code",
   "execution_count": 33,
   "id": "7ebad1c3-a590-463b-8029-4775f775fc71",
   "metadata": {},
   "outputs": [
    {
     "name": "stdout",
     "output_type": "stream",
     "text": [
      "['tulip', 'pear', 'mango', 'rose', 'apple']\n"
     ]
    }
   ],
   "source": [
    "random.shuffle(my_list)\n",
    "print(my_list)"
   ]
  },
  {
   "cell_type": "code",
   "execution_count": 34,
   "id": "8072ae93",
   "metadata": {},
   "outputs": [
    {
     "name": "stdout",
     "output_type": "stream",
     "text": [
      "tulip\n",
      "apple\n",
      "tulip\n",
      "pear\n"
     ]
    }
   ],
   "source": [
    "print(random.choice(my_list))\n",
    "print(random.choice(my_list))\n",
    "print(random.choice(my_list))\n",
    "print(random.choice(my_list))"
   ]
  },
  {
   "cell_type": "markdown",
   "id": "51ff5c32",
   "metadata": {},
   "source": [
    "---\n",
    "\n",
    "## Practical Exercises\n",
    "\n",
    "* Print elements of a list\n",
    "  * Print a line with element numbers and values: \"Element #1 = pear\", ...\n",
    "* Shuffle the list\n",
    "* Print list elements again\n",
    "  * If we have to do this many times, maybe define it as a function?\n"
   ]
  },
  {
   "cell_type": "code",
   "execution_count": 37,
   "id": "cf27c1d7-c760-40ee-bdc2-e6deac1244ba",
   "metadata": {},
   "outputs": [
    {
     "name": "stdout",
     "output_type": "stream",
     "text": [
      "Element #0 = tulip\n",
      "Element #1 = pear\n",
      "Element #2 = mango\n",
      "Element #3 = rose\n",
      "Element #4 = apple\n"
     ]
    }
   ],
   "source": [
    "for num, elem in enumerate(my_list):\n",
    "    print(f\"Element #{num} = {elem}\")"
   ]
  },
  {
   "cell_type": "code",
   "execution_count": 38,
   "id": "87cf60b1-e684-4b35-a21e-ac9fcc8d4ccc",
   "metadata": {},
   "outputs": [],
   "source": [
    "random.shuffle(my_list)"
   ]
  },
  {
   "cell_type": "code",
   "execution_count": 39,
   "id": "8cfc4372-dc2d-4ba1-a8ad-abc40d3d8f7e",
   "metadata": {},
   "outputs": [
    {
     "name": "stdout",
     "output_type": "stream",
     "text": [
      "Element #0 = tulip\n",
      "Element #1 = rose\n",
      "Element #2 = pear\n",
      "Element #3 = mango\n",
      "Element #4 = apple\n"
     ]
    }
   ],
   "source": [
    "for num, elem in enumerate(my_list):\n",
    "    print(f\"Element #{num} = {elem}\")"
   ]
  },
  {
   "cell_type": "markdown",
   "id": "ead0ebb8-b0ba-4e9b-9d67-7b42a032b2f3",
   "metadata": {},
   "source": [
    "---\n",
    "\n",
    "The exercise above is for you to do but let's look at a similar example (where it makes sense to put some program code inside a function):"
   ]
  },
  {
   "cell_type": "code",
   "execution_count": 40,
   "id": "902c5034-e886-4624-a5b7-7c1b69225416",
   "metadata": {},
   "outputs": [
    {
     "name": "stdout",
     "output_type": "stream",
     "text": [
      "242\n"
     ]
    }
   ],
   "source": [
    "numbers = [1, 11, 22]\n",
    "\n",
    "# let's multiply all the numbers\n",
    "result = 1\n",
    "for num in numbers:\n",
    "    result = result * num\n",
    "\n",
    "print(result)"
   ]
  },
  {
   "cell_type": "code",
   "execution_count": 41,
   "id": "c2bac27d-f047-43ee-be88-abf96af5ea54",
   "metadata": {},
   "outputs": [],
   "source": [
    "# if we need to multiply number many times it makes sense \n",
    "# to \"package\" this code inside a function that takes a list\n",
    "# of numbers as an argument and returns back the result of \n",
    "# them multiplied together\n",
    "\n",
    "def multiply(numbers):\n",
    "    result = 1\n",
    "\n",
    "    for num in numbers:\n",
    "        result = result * num\n",
    "\n",
    "    return result"
   ]
  },
  {
   "cell_type": "code",
   "execution_count": 42,
   "id": "9e7b56f6-5635-4c7e-8742-1545755cc181",
   "metadata": {},
   "outputs": [
    {
     "name": "stdout",
     "output_type": "stream",
     "text": [
      "1\n",
      "121\n",
      "24\n"
     ]
    }
   ],
   "source": [
    "# now we can call this function many times (and do not need to \n",
    "# write the same code over and over again\n",
    "\n",
    "print(multiply([1]))\n",
    "print(multiply([11,11]))\n",
    "print(multiply([1,2,3,4]))"
   ]
  },
  {
   "cell_type": "markdown",
   "id": "48c03df3",
   "metadata": {},
   "source": [
    "---\n",
    "\n",
    "# Python Functions"
   ]
  },
  {
   "cell_type": "markdown",
   "id": "db92351c",
   "metadata": {},
   "source": [
    "## What is a function?\n",
    "\n",
    "* A function is a block of organized, reusable code that is used to perform a single, related action.\n",
    "* Functions:\n",
    "  * [usually] have a name (by which they can be called)\n",
    "    * `fun_nosaukums(argumenti)`\n",
    "  * may have arguments (values passed into the function)\n",
    "  * may perform some operations / calculations / ...\n",
    "    * for example: print something\n",
    "  * may have a return value (that we can get back from the function)\n",
    "    * `return result`\n",
    "\n",
    "### DRY - Do not Repeat Yourself principle\n",
    "\n",
    "* *Every piece of knowledge must have a single, unambiguous, authoritative representation within a system.*\n",
    "http://wiki.c2.com/?DontRepeatYourself\n",
    "* Do not write something multiple times if it can be written just once.\n",
    "\n",
    "![Python function declaration](img/function.png)\n",
    "\n",
    "* Functions are like mini-programs = they can do something and you can call them again and again\n",
    "* Code in the function \"body\" starts with an indentation (similar how we used indentation in `if` statements)\n"
   ]
  },
  {
   "cell_type": "code",
   "execution_count": 43,
   "id": "ac385f0b",
   "metadata": {},
   "outputs": [
    {
     "name": "stdout",
     "output_type": "stream",
     "text": [
      "Daudz teksta\n",
      "Daudz teksta\n",
      "Daudz teksta\n"
     ]
    }
   ],
   "source": [
    "text = \"Daudz teksta\"\n",
    "\n",
    "print(text)\n",
    "print(text)\n",
    "print(text)"
   ]
  },
  {
   "cell_type": "code",
   "execution_count": 44,
   "id": "6828efe2-a2da-4dc4-a1db-815289cc4f98",
   "metadata": {},
   "outputs": [
    {
     "name": "stdout",
     "output_type": "stream",
     "text": [
      "Kaut kāds cits teksts\n",
      "Kaut kāds cits teksts\n",
      "Kaut kāds cits teksts\n"
     ]
    }
   ],
   "source": [
    "text = \"Kaut kāds cits teksts\"\n",
    "\n",
    "print(text)\n",
    "print(text)\n",
    "print(text)"
   ]
  },
  {
   "cell_type": "code",
   "execution_count": 45,
   "id": "8d4649b1",
   "metadata": {},
   "outputs": [],
   "source": [
    "# This function prints its argument 3 times. It does not return any value.\n",
    "\n",
    "# Function's body (= its code) is everything that follows the line \n",
    "# with the \"def\" command and that has an indentation from the left\n",
    "# side (programmas kods ar atkāpi no kreisās malas).\n",
    "\n",
    "def print_3x(argument):\n",
    "    print(argument)\n",
    "    print(argument)\n",
    "    print(argument)\n"
   ]
  },
  {
   "cell_type": "code",
   "execution_count": 46,
   "id": "ef93dc61",
   "metadata": {},
   "outputs": [
    {
     "name": "stdout",
     "output_type": "stream",
     "text": [
      "Kaut kāds cits teksts\n",
      "Kaut kāds cits teksts\n",
      "Kaut kāds cits teksts\n"
     ]
    }
   ],
   "source": [
    "# After a function is defined, we can use it:\n",
    "\n",
    "print_3x(text)"
   ]
  },
  {
   "cell_type": "code",
   "execution_count": 47,
   "id": "39e96b0a",
   "metadata": {},
   "outputs": [
    {
     "name": "stdout",
     "output_type": "stream",
     "text": [
      "Kaut kāds cits teksts\n",
      "Kaut kāds cits teksts\n",
      "Kaut kāds cits teksts\n",
      "\n",
      "Kaut kāds cits teksts #2\n",
      "Kaut kāds cits teksts #2\n",
      "Kaut kāds cits teksts #2\n"
     ]
    }
   ],
   "source": [
    "# We can call the function multiple times, with different arguments\n",
    "\n",
    "print_3x(text)\n",
    "print()   # print is also a function (just it is a built-in Python function) \n",
    "print_3x(text + \" #2\")"
   ]
  },
  {
   "cell_type": "code",
   "execution_count": 48,
   "id": "0700d4c2",
   "metadata": {},
   "outputs": [],
   "source": [
    "# It is good to write down what a function does. We will use \"\"\"docstrings\"\"\" for that.\n",
    "# Let's re-define our function (this time with a docstring):\n",
    "\n",
    "def print_3x(argument):\n",
    "    \"\"\"\n",
    "    Print the argument 3 times.\n",
    "    \n",
    "    It's good to have documentation :)\n",
    "    \"\"\"\n",
    "    \n",
    "    print(argument)\n",
    "    print(argument)\n",
    "    print(argument)\n"
   ]
  },
  {
   "cell_type": "code",
   "execution_count": 49,
   "id": "ad8bf5db",
   "metadata": {},
   "outputs": [
    {
     "name": "stdout",
     "output_type": "stream",
     "text": [
      "Help on function print_3x in module __main__:\n",
      "\n",
      "print_3x(argument)\n",
      "    Print the argument 3 times.\n",
      "\n",
      "    It's good to have documentation :)\n",
      "\n"
     ]
    }
   ],
   "source": [
    "help(print_3x)"
   ]
  },
  {
   "cell_type": "code",
   "execution_count": 50,
   "id": "723ecd17-33eb-4b85-84aa-77fa0e62ebc4",
   "metadata": {},
   "outputs": [],
   "source": [
    "# We can use the \"return\" statement to return a value from a function.\n",
    "# The return statement stops (finishes) function execution.\n",
    "\n",
    "# This function does not have arguments and it does not do much \n",
    "# but it returns a value (= it has a return value)\n",
    "\n",
    "# We define a function\n",
    "def get_the_answer():\n",
    "    \"\"\"\n",
    "    Return the Answer to the Ultimate Question of Life, the Universe, and Everything.    \n",
    "    \n",
    "    https://en.wikipedia.org/wiki/42_(number)#The_Hitchhiker's_Guide_to_the_Galaxy\n",
    "    \"\"\"\n",
    "\n",
    "    return 42"
   ]
  },
  {
   "cell_type": "code",
   "execution_count": 51,
   "id": "2d673941-56cf-417b-b6d1-3ce7b0e95afb",
   "metadata": {},
   "outputs": [
    {
     "name": "stdout",
     "output_type": "stream",
     "text": [
      "42\n"
     ]
    }
   ],
   "source": [
    "# Here we call the function and assign its return value to the variables \"res\"\n",
    "res = get_the_answer()\n",
    "print(res)"
   ]
  },
  {
   "cell_type": "code",
   "execution_count": 53,
   "id": "a5b3ca09-c151-4c5b-82ee-3a4c30252610",
   "metadata": {},
   "outputs": [],
   "source": [
    "def add_10(arg1):\n",
    "    print(\"Got the arg1 argument:\", arg1)\n",
    "\n",
    "    res = arg1 + 10\n",
    "    return res"
   ]
  },
  {
   "cell_type": "code",
   "execution_count": 54,
   "id": "528c579a-ca57-46eb-9351-17eab24d4b3c",
   "metadata": {},
   "outputs": [
    {
     "name": "stdout",
     "output_type": "stream",
     "text": [
      "Got the arg1 argument: 100000\n",
      "100010\n"
     ]
    }
   ],
   "source": [
    "print(add_10(100000))"
   ]
  },
  {
   "cell_type": "markdown",
   "id": "2934f766",
   "metadata": {},
   "source": [
    "---\n",
    "\n",
    "## Practical Exercises\n",
    "\n",
    "* Define a function that converts its argument from degrees Celsuis to degrees Fahrenheit\n",
    "* Call this function 2-3 times with different argument values and print the result values\n"
   ]
  },
  {
   "cell_type": "code",
   "execution_count": null,
   "id": "455a18ec-2acc-4583-83e2-82291459922a",
   "metadata": {},
   "outputs": [],
   "source": [
    "def c_to_far(t_celsius):\n",
    "    t_far = ...    # write here the formula for calculating degrees Fahrenheit\n",
    "    return t_far"
   ]
  },
  {
   "cell_type": "code",
   "execution_count": null,
   "id": "d2b271d8-9dc5-4fc3-accf-6af417d2c323",
   "metadata": {},
   "outputs": [],
   "source": [
    "..."
   ]
  },
  {
   "cell_type": "code",
   "execution_count": null,
   "id": "4416f40e-049a-467b-903e-39cbfb0d48a3",
   "metadata": {},
   "outputs": [],
   "source": [
    "..."
   ]
  },
  {
   "cell_type": "code",
   "execution_count": null,
   "id": "39277833-c9b9-40b4-9f56-858499e3f21b",
   "metadata": {},
   "outputs": [],
   "source": [
    "..."
   ]
  },
  {
   "cell_type": "markdown",
   "id": "76998804",
   "metadata": {},
   "source": [
    "---\n",
    "\n",
    "## Functions (continued)\n",
    "\n",
    "Functions can call other functions:"
   ]
  },
  {
   "cell_type": "code",
   "execution_count": 55,
   "id": "50b45b12",
   "metadata": {},
   "outputs": [],
   "source": [
    "def eat():\n",
    "    print(\"  Cooking food.\")\n",
    "    print(\"  Eating food.\")"
   ]
  },
  {
   "cell_type": "code",
   "execution_count": 56,
   "id": "efc94295",
   "metadata": {},
   "outputs": [
    {
     "name": "stdout",
     "output_type": "stream",
     "text": [
      "  Cooking food.\n",
      "  Eating food.\n"
     ]
    }
   ],
   "source": [
    "eat()"
   ]
  },
  {
   "cell_type": "code",
   "execution_count": 57,
   "id": "5146c5e5",
   "metadata": {},
   "outputs": [],
   "source": [
    "def eating_time():\n",
    "    print(\"Breakfast:\")\n",
    "    eat()\n",
    "    \n",
    "    print(\"\")\n",
    "    print(\"Lunch:\")\n",
    "    eat()\n",
    "    \n",
    "    print(\"\")\n",
    "    print(\"Dinner:\")\n",
    "    eat()"
   ]
  },
  {
   "cell_type": "code",
   "execution_count": 58,
   "id": "1006b245",
   "metadata": {
    "scrolled": true
   },
   "outputs": [
    {
     "name": "stdout",
     "output_type": "stream",
     "text": [
      "Breakfast:\n",
      "  Cooking food.\n",
      "  Eating food.\n",
      "\n",
      "Lunch:\n",
      "  Cooking food.\n",
      "  Eating food.\n",
      "\n",
      "Dinner:\n",
      "  Cooking food.\n",
      "  Eating food.\n"
     ]
    }
   ],
   "source": [
    "eating_time()"
   ]
  },
  {
   "cell_type": "code",
   "execution_count": 60,
   "id": "3f2f1a86",
   "metadata": {},
   "outputs": [
    {
     "name": "stdout",
     "output_type": "stream",
     "text": [
      "Breakfast:\n",
      "  Cooking food.\n",
      "  Eating food.\n",
      "\n",
      "Lunch:\n",
      "  Cooking food.\n",
      "  Eating food.\n",
      "\n",
      "Dinner:\n",
      "  Cooking food.\n",
      "  Eating food.\n"
     ]
    }
   ],
   "source": [
    "# We can move printing to the function eat():\n",
    "\n",
    "def eat(meal_name):\n",
    "    \n",
    "    print(meal_name + \":\")\n",
    "    print(\"  Cooking food.\")\n",
    "    print(\"  Eating food.\")\n",
    "    \n",
    "def eating_time():\n",
    "    \n",
    "    eat(\"Breakfast\")\n",
    "    print()\n",
    "    \n",
    "    eat(\"Lunch\")\n",
    "    print()\n",
    "    \n",
    "    eat(\"Dinner\")\n",
    "\n",
    "# call our function:\n",
    "\n",
    "eating_time()"
   ]
  },
  {
   "cell_type": "markdown",
   "id": "b76c9d44",
   "metadata": {},
   "source": [
    "---\n",
    "\n",
    "Functions can even call themselves (that's called [recursion](https://en.wikipedia.org/wiki/Recursion_(computer_science))):\n",
    "* but be careful with it (or you may end up with an infinite loop)"
   ]
  },
  {
   "cell_type": "code",
   "execution_count": 61,
   "id": "9f155b90",
   "metadata": {},
   "outputs": [],
   "source": [
    "def count_to_zero(number):\n",
    "\n",
    "    if number < 0:\n",
    "        print(\"Negative values are not allowed!\")\n",
    "        return\n",
    "\n",
    "    if number == 0:\n",
    "        print(\"That's it!\")\n",
    "        return    # we use return here to end function execution\n",
    "        \n",
    "    print(number)\n",
    "    \n",
    "    # recursive function call\n",
    "    count_to_zero(number-1)"
   ]
  },
  {
   "cell_type": "code",
   "execution_count": 62,
   "id": "e697dcc6",
   "metadata": {
    "scrolled": true
   },
   "outputs": [
    {
     "name": "stdout",
     "output_type": "stream",
     "text": [
      "5\n",
      "4\n",
      "3\n",
      "2\n",
      "1\n",
      "That's it!\n"
     ]
    }
   ],
   "source": [
    "count_to_zero(5)"
   ]
  },
  {
   "cell_type": "code",
   "execution_count": 63,
   "id": "2cc90751",
   "metadata": {},
   "outputs": [
    {
     "name": "stdout",
     "output_type": "stream",
     "text": [
      "Negative values are not allowed!\n"
     ]
    }
   ],
   "source": [
    "count_to_zero(-5)"
   ]
  },
  {
   "cell_type": "code",
   "execution_count": 64,
   "id": "47843d48",
   "metadata": {},
   "outputs": [],
   "source": [
    "# We can re-write this function not to use recursion:\n",
    "\n",
    "def count_to_zero_2(number):\n",
    "\n",
    "    if number < 0:\n",
    "        print(\"Negative values are not allowed!\")\n",
    "        return\n",
    "\n",
    "    while number > 0:\n",
    "        print(number)\n",
    "        number = number - 1\n",
    "\n",
    "    print(\"That's it!\")"
   ]
  },
  {
   "cell_type": "code",
   "execution_count": 65,
   "id": "994833af",
   "metadata": {},
   "outputs": [
    {
     "name": "stdout",
     "output_type": "stream",
     "text": [
      "5\n",
      "4\n",
      "3\n",
      "2\n",
      "1\n",
      "That's it!\n"
     ]
    }
   ],
   "source": [
    "count_to_zero_2(5)"
   ]
  },
  {
   "cell_type": "code",
   "execution_count": 66,
   "id": "900aa55e",
   "metadata": {},
   "outputs": [
    {
     "name": "stdout",
     "output_type": "stream",
     "text": [
      "Negative values are not allowed!\n"
     ]
    }
   ],
   "source": [
    "count_to_zero_2(-5)"
   ]
  },
  {
   "cell_type": "code",
   "execution_count": 67,
   "id": "a8edfb23",
   "metadata": {},
   "outputs": [
    {
     "name": "stdout",
     "output_type": "stream",
     "text": [
      "That's it!\n"
     ]
    }
   ],
   "source": [
    "count_to_zero_2(0)"
   ]
  },
  {
   "cell_type": "markdown",
   "id": "a991b9d4",
   "metadata": {},
   "source": [
    "---"
   ]
  },
  {
   "cell_type": "code",
   "execution_count": 68,
   "id": "d8cb241c",
   "metadata": {},
   "outputs": [
    {
     "name": "stdout",
     "output_type": "stream",
     "text": [
      "Help on built-in function print in module builtins:\n",
      "\n",
      "print(*args, sep=' ', end='\\n', file=None, flush=False)\n",
      "    Prints the values to a stream, or to sys.stdout by default.\n",
      "\n",
      "    sep\n",
      "      string inserted between values, default a space.\n",
      "    end\n",
      "      string appended after the last value, default a newline.\n",
      "    file\n",
      "      a file-like object (stream); defaults to the current sys.stdout.\n",
      "    flush\n",
      "      whether to forcibly flush the stream.\n",
      "\n"
     ]
    }
   ],
   "source": [
    "# Functions may also have keyword arguments:\n",
    "#  - print function has a \"sep\" keyword argument (also: \"end\", ...)\n",
    "\n",
    "help(print)"
   ]
  },
  {
   "cell_type": "code",
   "execution_count": 69,
   "id": "3a6d0011",
   "metadata": {},
   "outputs": [
    {
     "name": "stdout",
     "output_type": "stream",
     "text": [
      "1 2 3\n",
      "4 5 6\n"
     ]
    }
   ],
   "source": [
    "print(1, 2, 3)\n",
    "print(4, 5, 6)"
   ]
  },
  {
   "cell_type": "code",
   "execution_count": 70,
   "id": "f870a86b",
   "metadata": {},
   "outputs": [
    {
     "name": "stdout",
     "output_type": "stream",
     "text": [
      "1 2 3; 4 5 6\n"
     ]
    }
   ],
   "source": [
    "print(1, 2, 3, end=\"; \")   # not jumping to a new line here\n",
    "print(4, 5, 6)"
   ]
  },
  {
   "cell_type": "code",
   "execution_count": 71,
   "id": "7b70b072",
   "metadata": {},
   "outputs": [
    {
     "name": "stdout",
     "output_type": "stream",
     "text": [
      "1 2 3\n",
      "\n",
      "1,2,3\n"
     ]
    }
   ],
   "source": [
    "print(1, 2, 3)\n",
    "print()\n",
    "print(1, 2, 3, sep=\",\")   # using a different separator string here"
   ]
  },
  {
   "cell_type": "markdown",
   "id": "f091c2d2",
   "metadata": {},
   "source": [
    "---\n",
    "\n",
    "### Local and global variables (scope)"
   ]
  },
  {
   "cell_type": "code",
   "execution_count": 78,
   "id": "3bfbe7d0",
   "metadata": {},
   "outputs": [
    {
     "name": "stdout",
     "output_type": "stream",
     "text": [
      "Variable: Local variable\n",
      "Argument: 111\n",
      "\n",
      "Global var: Global variable\n"
     ]
    }
   ],
   "source": [
    "global_var = \"Global variable\"\n",
    "\n",
    "# the variables defined in the function are local to the function\n",
    "#  - function arguments are also local (and not \"visible\" globally)\n",
    "\n",
    "def some_function(argument_1):\n",
    "    \n",
    "    local_var = \"Local variable\"\n",
    "    \n",
    "    print(f\"Variable: {local_var}\")\n",
    "    print(f\"Argument: {argument_1}\")\n",
    "    \n",
    "    # we can also use global variable inside a function\n",
    "    #  - but better don't - pass it as an argument instead\n",
    "    print()\n",
    "    print(f\"Global var: {global_var}\")\n",
    "\n",
    "# here we call the function passing it 111 as an argument\n",
    "some_function(111)\n"
   ]
  },
  {
   "cell_type": "code",
   "execution_count": 73,
   "id": "35f4a4e4",
   "metadata": {},
   "outputs": [
    {
     "name": "stdout",
     "output_type": "stream",
     "text": [
      "Global var: Global variable\n"
     ]
    },
    {
     "ename": "NameError",
     "evalue": "name 'local_var' is not defined",
     "output_type": "error",
     "traceback": [
      "\u001b[0;31m---------------------------------------------------------------------------\u001b[0m",
      "\u001b[0;31mNameError\u001b[0m                                 Traceback (most recent call last)",
      "Cell \u001b[0;32mIn[73], line 9\u001b[0m\n\u001b[1;32m      5\u001b[0m \u001b[38;5;28mprint\u001b[39m(\u001b[38;5;124mf\u001b[39m\u001b[38;5;124m\"\u001b[39m\u001b[38;5;124mGlobal var: \u001b[39m\u001b[38;5;132;01m{\u001b[39;00mglobal_var\u001b[38;5;132;01m}\u001b[39;00m\u001b[38;5;124m\"\u001b[39m)\n\u001b[1;32m      7\u001b[0m \u001b[38;5;66;03m# If you try to access local_var Python will report back\u001b[39;00m\n\u001b[1;32m      8\u001b[0m \u001b[38;5;66;03m# that this variable does not exist\u001b[39;00m\n\u001b[0;32m----> 9\u001b[0m \u001b[38;5;28mprint\u001b[39m(\u001b[38;5;124mf\u001b[39m\u001b[38;5;124m\"\u001b[39m\u001b[38;5;124mVariable: \u001b[39m\u001b[38;5;132;01m{\u001b[39;00m\u001b[43mlocal_var\u001b[49m\u001b[38;5;132;01m}\u001b[39;00m\u001b[38;5;124m\"\u001b[39m)\n",
      "\u001b[0;31mNameError\u001b[0m: name 'local_var' is not defined"
     ]
    }
   ],
   "source": [
    "# Outside of the function (in the global scope or \n",
    "# in the scope of another function) we can not \n",
    "# access local variables and arguments:\n",
    "\n",
    "print(f\"Global var: {global_var}\")\n",
    "\n",
    "# If you try to access local_var Python will report back\n",
    "# that this variable does not exist\n",
    "print(f\"Variable: {local_var}\")"
   ]
  },
  {
   "cell_type": "code",
   "execution_count": 74,
   "id": "74cf8ec4",
   "metadata": {},
   "outputs": [
    {
     "ename": "NameError",
     "evalue": "name 'argument_1' is not defined",
     "output_type": "error",
     "traceback": [
      "\u001b[0;31m---------------------------------------------------------------------------\u001b[0m",
      "\u001b[0;31mNameError\u001b[0m                                 Traceback (most recent call last)",
      "Cell \u001b[0;32mIn[74], line 2\u001b[0m\n\u001b[1;32m      1\u001b[0m \u001b[38;5;66;03m# The same with function's arguments - they only exist inside the function\u001b[39;00m\n\u001b[0;32m----> 2\u001b[0m \u001b[38;5;28mprint\u001b[39m(\u001b[38;5;124mf\u001b[39m\u001b[38;5;124m\"\u001b[39m\u001b[38;5;124mArgument: \u001b[39m\u001b[38;5;132;01m{\u001b[39;00m\u001b[43margument_1\u001b[49m\u001b[38;5;132;01m}\u001b[39;00m\u001b[38;5;124m\"\u001b[39m)\n",
      "\u001b[0;31mNameError\u001b[0m: name 'argument_1' is not defined"
     ]
    }
   ],
   "source": [
    "# The same with function's arguments - they only exist inside the function\n",
    "print(f\"Argument: {argument_1}\")"
   ]
  },
  {
   "cell_type": "code",
   "execution_count": 75,
   "id": "e9eb5b8f",
   "metadata": {},
   "outputs": [
    {
     "name": "stdout",
     "output_type": "stream",
     "text": [
      "Global variable\n",
      "... 111\n",
      "Global variable\n"
     ]
    }
   ],
   "source": [
    "# Changing a global variable in a function is not that simple\n",
    "# (and you should avoid doing it)\n",
    "\n",
    "def change_global():\n",
    "\n",
    "    # this will create a separate, local variable \n",
    "    # called \"global_var\"\n",
    "    \n",
    "    global_var = 111\n",
    "    print(\"...\", global_var)\n",
    "    \n",
    "print(global_var)\n",
    "change_global()\n",
    "print(global_var)"
   ]
  },
  {
   "cell_type": "code",
   "execution_count": 79,
   "id": "86e7ea67",
   "metadata": {},
   "outputs": [
    {
     "name": "stdout",
     "output_type": "stream",
     "text": [
      "Global variable\n",
      "... 111\n",
      "111\n"
     ]
    }
   ],
   "source": [
    "def change_global_2():\n",
    "    # we have to use the \"global\" command to tell Python\n",
    "    # we want to work with the global variable \"global_var\"\n",
    "    global global_var\n",
    "    \n",
    "    global_var =  111\n",
    "    print(\"...\", global_var)\n",
    "    \n",
    "print(global_var)\n",
    "change_global_2()\n",
    "print(global_var)"
   ]
  },
  {
   "cell_type": "markdown",
   "id": "7a9d5306",
   "metadata": {},
   "source": [
    "---"
   ]
  },
  {
   "cell_type": "code",
   "execution_count": 81,
   "id": "c7d14c84",
   "metadata": {},
   "outputs": [],
   "source": [
    "# A function may have multiple arguments.\n",
    "# The arguments may be of different types.\n",
    "\n",
    "def add(a, b):\n",
    "    return a + b    # returns the sum of arguments"
   ]
  },
  {
   "cell_type": "code",
   "execution_count": 82,
   "id": "a31a67d4",
   "metadata": {},
   "outputs": [
    {
     "name": "stdout",
     "output_type": "stream",
     "text": [
      "3\n",
      "5.24\n",
      "text here\n",
      "[1, 2, 3, 4, 5]\n"
     ]
    }
   ],
   "source": [
    "# Addition works differently with different types of data\n",
    "\n",
    "print(add(1, 2))\n",
    "\n",
    "print(add(3.14, 2.1))\n",
    "\n",
    "print(add(\"text\", \" here\"))\n",
    "\n",
    "print(add([1, 2, 3], [4, 5]))\n"
   ]
  },
  {
   "cell_type": "markdown",
   "id": "b973a90c",
   "metadata": {},
   "source": [
    "---"
   ]
  },
  {
   "cell_type": "code",
   "execution_count": 83,
   "id": "705fdcf9",
   "metadata": {},
   "outputs": [
    {
     "name": "stdout",
     "output_type": "stream",
     "text": [
      "['Meat', 'Potatoes', 'Cake']\n"
     ]
    }
   ],
   "source": [
    "# Functions may modify values of mutable \"things\" passed to them\n",
    "# (for example, lists)\n",
    "\n",
    "my_list = [\"Meat\", \"Potatoes\", \"Cake\"]\n",
    "\n",
    "def add_element(some_list, element):\n",
    "    some_list.append(element)\n",
    "    \n",
    "print(my_list)"
   ]
  },
  {
   "cell_type": "code",
   "execution_count": 84,
   "id": "569c2e46",
   "metadata": {},
   "outputs": [
    {
     "name": "stdout",
     "output_type": "stream",
     "text": [
      "['Meat', 'Potatoes', 'Cake', 'Water']\n"
     ]
    }
   ],
   "source": [
    "add_element(my_list, \"Water\")\n",
    "\n",
    "print(my_list)"
   ]
  },
  {
   "cell_type": "code",
   "execution_count": 85,
   "id": "b9a2e924",
   "metadata": {},
   "outputs": [
    {
     "name": "stdout",
     "output_type": "stream",
     "text": [
      "Found [cake] in [Tasty cake]\n"
     ]
    },
    {
     "data": {
      "text/plain": [
       "'Tasty cake'"
      ]
     },
     "execution_count": 85,
     "metadata": {},
     "output_type": "execute_result"
    }
   ],
   "source": [
    "# Let's make a function to search for sub-elements in a list:\n",
    "\n",
    "my_list = [\"Mashed potatoes\", \"Crispy chicken\", \"Tasty cake\"]\n",
    "\n",
    "def search_for(some_list, sub_element):\n",
    "        \n",
    "    for list_element in some_list:\n",
    "        \n",
    "        if sub_element in list_element:\n",
    "            print(f\"Found [{sub_element}] in [{list_element}]\")\n",
    "            return list_element\n",
    "            \n",
    "    print(f\"Sorry, [{sub_element}] not found in the list {some_list}.\")\n",
    "\n",
    "search_for(my_list, \"cake\")"
   ]
  },
  {
   "cell_type": "code",
   "execution_count": 86,
   "id": "e0fa5f17",
   "metadata": {},
   "outputs": [
    {
     "name": "stdout",
     "output_type": "stream",
     "text": [
      "Sorry, [vegetables] not found in the list ['Mashed potatoes', 'Crispy chicken', 'Tasty cake'].\n"
     ]
    }
   ],
   "source": [
    "search_for(my_list, \"vegetables\")"
   ]
  },
  {
   "cell_type": "code",
   "execution_count": 87,
   "id": "7b10fb78",
   "metadata": {},
   "outputs": [
    {
     "name": "stdout",
     "output_type": "stream",
     "text": [
      "Sorry, [Cake] not found in the list ['Mashed potatoes', 'Crispy chicken', 'Tasty cake'].\n"
     ]
    }
   ],
   "source": [
    "# comparison is \"case sensitive\" so searching for \"Cake\" will fail\n",
    "search_for(my_list, \"Cake\")   \n",
    "\n",
    "# but you can rewrite this function to find elements independent of their case"
   ]
  },
  {
   "cell_type": "markdown",
   "id": "d311187d",
   "metadata": {},
   "source": [
    "Question:\n",
    "* how would you modify this function to find elements independent of lowercase / uppercase?\n",
    "\n",
    "---\n",
    "\n",
    "### Default values"
   ]
  },
  {
   "cell_type": "code",
   "execution_count": 90,
   "id": "896b79ce",
   "metadata": {},
   "outputs": [],
   "source": [
    "# Function arguments may have default values:\n",
    "\n",
    "def mix_drinks(juice=\"Apple juice\", alcohol=\"rum\"):\n",
    "    \"\"\"\n",
    "    Mixes drinks for you.\n",
    "    \n",
    "    Specify the components to mix using the \"juice\" and \"alcohol\" parameters.\n",
    "    \"\"\"\n",
    "    \n",
    "    print(f\"Have a drink: {juice} with {alcohol}\")"
   ]
  },
  {
   "cell_type": "code",
   "execution_count": 91,
   "id": "4fbab134",
   "metadata": {},
   "outputs": [
    {
     "name": "stdout",
     "output_type": "stream",
     "text": [
      "Have a drink: Tomato juice with vodka\n"
     ]
    }
   ],
   "source": [
    "mix_drinks(\"Tomato juice\", \"vodka\")"
   ]
  },
  {
   "cell_type": "code",
   "execution_count": 93,
   "id": "f8ae3318",
   "metadata": {},
   "outputs": [
    {
     "name": "stdout",
     "output_type": "stream",
     "text": [
      "Have a drink: Cola with rum\n"
     ]
    }
   ],
   "source": [
    "# if we supply just one (first) argument the other argument\n",
    "# gets assigned its default value (\"rum\")\n",
    "mix_drinks(\"Cola\")"
   ]
  },
  {
   "cell_type": "code",
   "execution_count": 94,
   "id": "9ec3d86d",
   "metadata": {},
   "outputs": [
    {
     "name": "stdout",
     "output_type": "stream",
     "text": [
      "Have a drink: Apple juice with rum\n"
     ]
    }
   ],
   "source": [
    "# if we supply no arguments all of them get their default values\n",
    "mix_drinks()"
   ]
  },
  {
   "cell_type": "markdown",
   "id": "1bb10749",
   "metadata": {},
   "source": [
    "---\n",
    "Question:\n",
    "\n",
    "* can you specify just the second argument?\n",
    "\n",
    "Solution: specify keyword arguments = specify the argument by its name"
   ]
  },
  {
   "cell_type": "code",
   "execution_count": 95,
   "id": "81549142",
   "metadata": {},
   "outputs": [
    {
     "name": "stdout",
     "output_type": "stream",
     "text": [
      "Have a drink: Apple juice with vodka\n"
     ]
    }
   ],
   "source": [
    "mix_drinks(alcohol=\"vodka\")"
   ]
  },
  {
   "cell_type": "markdown",
   "id": "507a3244",
   "metadata": {},
   "source": [
    "---\n",
    "\n",
    "### Returning multiple values\n",
    "\n",
    "* a function may return multiple values as a tuple"
   ]
  },
  {
   "cell_type": "code",
   "execution_count": 96,
   "id": "a6491c0f",
   "metadata": {},
   "outputs": [
    {
     "name": "stdout",
     "output_type": "stream",
     "text": [
      "(16, 8)\n"
     ]
    }
   ],
   "source": [
    "def return_multiple(a, b):\n",
    "\n",
    "    # here we return both values\n",
    "    return (a+b, a-b)\n",
    "\n",
    "print(return_multiple(12, 4))"
   ]
  },
  {
   "cell_type": "code",
   "execution_count": 97,
   "id": "a8209001",
   "metadata": {},
   "outputs": [],
   "source": [
    "result = return_multiple(12, 4)"
   ]
  },
  {
   "cell_type": "code",
   "execution_count": 98,
   "id": "d30e5a66",
   "metadata": {},
   "outputs": [
    {
     "name": "stdout",
     "output_type": "stream",
     "text": [
      "(16, 8)\n",
      "<class 'tuple'>\n"
     ]
    }
   ],
   "source": [
    "print(result)\n",
    "print(type(result))"
   ]
  },
  {
   "cell_type": "code",
   "execution_count": 99,
   "id": "03ebcdf0",
   "metadata": {},
   "outputs": [
    {
     "name": "stdout",
     "output_type": "stream",
     "text": [
      "16\n",
      "8\n"
     ]
    }
   ],
   "source": [
    "print(result[0])\n",
    "print(result[1])"
   ]
  },
  {
   "cell_type": "markdown",
   "id": "500fdb7c",
   "metadata": {},
   "source": [
    "---\n",
    "\n",
    "### Practical exercises\n",
    "\n",
    "* Write a function that checks if its argument is a prime number\n",
    "* Write a function that checks if a string argument is a palindrome:\n",
    "  * A palindrome is a word, number, phrase, or other sequence of characters which reads the same backward as forward.\n",
    "  * Examples: \"madam\", \"racecar\"."
   ]
  },
  {
   "cell_type": "code",
   "execution_count": null,
   "id": "a4474812",
   "metadata": {},
   "outputs": [],
   "source": [
    "def is_palindrome(text):\n",
    "    ..."
   ]
  },
  {
   "cell_type": "code",
   "execution_count": null,
   "id": "0cd55b3e-40f3-4b3b-bc9e-4184a0c26589",
   "metadata": {},
   "outputs": [],
   "source": [
    "print(is_palindrome(\"madam\"))"
   ]
  },
  {
   "cell_type": "code",
   "execution_count": null,
   "id": "d174d160-3595-4d2c-b4f4-ebcf8966ca75",
   "metadata": {},
   "outputs": [],
   "source": [
    "print(is_palindrome(\"Madam\"))"
   ]
  },
  {
   "cell_type": "code",
   "execution_count": null,
   "id": "769ca7b6",
   "metadata": {},
   "outputs": [],
   "source": [
    "print(is_palindrome(\"sapals arī tad ēda tīras lapas\"))"
   ]
  },
  {
   "cell_type": "markdown",
   "id": "b958e953-604e-4005-8dd5-c3fb12c11d96",
   "metadata": {},
   "source": [
    "---\n",
    "#### Exercises #2\n",
    "\n",
    "1) Drukāt saraksta elementus kopā ar to kārtas numuru (\"Element #1 = ...\")\n",
    "\n",
    "```\n",
    "my_list = [\"pear\", \"apple\", \"orange\"]\n",
    "\n",
    "Element #1 = pear\n",
    "Element #2 = apple\n",
    "Element #3 = orange\n",
    "```\n",
    "\n",
    "2) \"Iepakot\" saraksta elementu drukāšanas programmas kodu funkcijā.\n",
    "\n",
    "3) Pielietot izveidoto funkciju:\n",
    "- izdrukāt sarakstu (izmantojot tikko definēto funkciju)\n",
    "- pārkārtot sarakstu gadījuma secībā (skat. \"random\" moduli)\n",
    "- vēlreiz izdrukāt sarakstu (izmantojot funkciju).\n",
    "\n"
   ]
  },
  {
   "cell_type": "code",
   "execution_count": null,
   "id": "8dc245e5-94a5-4624-97fe-c34b99f60ade",
   "metadata": {},
   "outputs": [],
   "source": [
    "my_list = [\"pear\", \"apple\", \"orange\", \"strawberry\"]\n",
    "\n",
    "..."
   ]
  },
  {
   "cell_type": "code",
   "execution_count": null,
   "id": "b75399f7-540b-4ed8-9bc1-50f024be9e0c",
   "metadata": {},
   "outputs": [],
   "source": [
    "def mana_funkcija(my_list):\n",
    "    ..."
   ]
  },
  {
   "cell_type": "code",
   "execution_count": null,
   "id": "b10705d4-320a-4ea9-b3df-6d50f77d6e42",
   "metadata": {},
   "outputs": [],
   "source": [
    "import random\n",
    "\n",
    "mana_funkcija(my_list)\n",
    "\n",
    "random.shuffle(my_list)\n",
    "print()\n",
    "\n",
    "mana_funkcija(my_list)"
   ]
  },
  {
   "cell_type": "markdown",
   "id": "460bd8c5",
   "metadata": {},
   "source": [
    "---\n",
    "\n",
    "### More information:\n",
    "\n",
    "* [\"Automate the boring stuff\" chapter about functions](https://automatetheboringstuff.com/2e/chapter3/)\n",
    "* [Python functions exercises](https://www.w3resource.com/python-exercises/python-functions-exercises.php)\n",
    "* [Python built-in functions](https://docs.python.org/3/library/functions.html)\n"
   ]
  }
 ],
 "metadata": {
  "kernelspec": {
   "display_name": "Python 3 (ipykernel)",
   "language": "python",
   "name": "python3"
  },
  "language_info": {
   "codemirror_mode": {
    "name": "ipython",
    "version": 3
   },
   "file_extension": ".py",
   "mimetype": "text/x-python",
   "name": "python",
   "nbconvert_exporter": "python",
   "pygments_lexer": "ipython3",
   "version": "3.12.7"
  }
 },
 "nbformat": 4,
 "nbformat_minor": 5
}
